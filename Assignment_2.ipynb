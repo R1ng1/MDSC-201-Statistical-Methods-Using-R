{
  "nbformat": 4,
  "nbformat_minor": 0,
  "metadata": {
    "colab": {
      "provenance": [],
      "authorship_tag": "ABX9TyM/GGvLp5qDhn0Hjk4DNV1i",
      "include_colab_link": true
    },
    "kernelspec": {
      "name": "ir",
      "display_name": "R"
    },
    "language_info": {
      "name": "R"
    }
  },
  "cells": [
    {
      "cell_type": "markdown",
      "metadata": {
        "id": "view-in-github",
        "colab_type": "text"
      },
      "source": [
        "<a href=\"https://colab.research.google.com/github/R1ng1/MDSC-201-Statistical-Methods-Using-R/blob/main/Assignment_2.ipynb\" target=\"_parent\"><img src=\"https://colab.research.google.com/assets/colab-badge.svg\" alt=\"Open In Colab\"/></a>"
      ]
    },
    {
      "cell_type": "markdown",
      "source": [
        "# **CONTROL STRUCTURES**"
      ],
      "metadata": {
        "id": "iJcXT3gEUvb5"
      }
    },
    {
      "cell_type": "markdown",
      "source": [
        "## **Using ifelse() for Conditional Vectorization**\n",
        "## **Replace even numbers with \"Even\" and odd numbers with \"Odd\"**"
      ],
      "metadata": {
        "id": "e1NNhiGLUzLi"
      }
    },
    {
      "cell_type": "code",
      "execution_count": 31,
      "metadata": {
        "colab": {
          "base_uri": "https://localhost:8080/"
        },
        "id": "eD0rWG4KUqmm",
        "outputId": "3220757d-c721-4cb0-a595-a186e07a8b32"
      },
      "outputs": [
        {
          "output_type": "stream",
          "name": "stdout",
          "text": [
            " [1] \"Odd\"  \"Even\" \"Odd\"  \"Even\" \"Odd\"  \"Even\" \"Odd\"  \"Even\" \"Odd\"  \"Even\"\n"
          ]
        }
      ],
      "source": [
        "numbers <- 1:10\n",
        "labels <- ifelse(numbers %% 2 == 0, \"Even\", \"Odd\")\n",
        "print(labels)\n"
      ]
    },
    {
      "cell_type": "markdown",
      "source": [
        "## **While Loop with a Condition**\n",
        "## **Calculate factorial using while loop**"
      ],
      "metadata": {
        "id": "Ihj4VRUnU_2o"
      }
    },
    {
      "cell_type": "code",
      "source": [
        "n <- 5\n",
        "factorial <- 1\n",
        "i <- 1\n",
        "while (i <= n) {\n",
        "  factorial <- factorial * i\n",
        "  i <- i + 1\n",
        "}\n",
        "print(factorial)"
      ],
      "metadata": {
        "colab": {
          "base_uri": "https://localhost:8080/"
        },
        "id": "LMTEqp9IVTBO",
        "outputId": "f9aedcc8-468c-4055-b1da-40ddc7320fc8"
      },
      "execution_count": 32,
      "outputs": [
        {
          "output_type": "stream",
          "name": "stdout",
          "text": [
            "[1] 120\n"
          ]
        }
      ]
    },
    {
      "cell_type": "markdown",
      "source": [
        "## **Nested For Loops**\n",
        "## **Print a multiplication table**"
      ],
      "metadata": {
        "id": "Hhq-kmSfVgrR"
      }
    },
    {
      "cell_type": "code",
      "source": [
        "for (i in 1:3) {\n",
        "  for (j in 1:3) {\n",
        "    cat(i, \"x\", j, \"=\", i * j, \"\\n\")\n",
        "  }\n",
        "}\n"
      ],
      "metadata": {
        "id": "OLjTMPF_VlnA",
        "outputId": "5af2c830-fc9c-4496-bd63-4c3e63f9927d",
        "colab": {
          "base_uri": "https://localhost:8080/"
        }
      },
      "execution_count": 33,
      "outputs": [
        {
          "output_type": "stream",
          "name": "stdout",
          "text": [
            "1 x 1 = 1 \n",
            "1 x 2 = 2 \n",
            "1 x 3 = 3 \n",
            "2 x 1 = 2 \n",
            "2 x 2 = 4 \n",
            "2 x 3 = 6 \n",
            "3 x 1 = 3 \n",
            "3 x 2 = 6 \n",
            "3 x 3 = 9 \n"
          ]
        }
      ]
    },
    {
      "cell_type": "markdown",
      "source": [
        "## **Predicting temperature**"
      ],
      "metadata": {
        "id": "RyYhUH99DXj3"
      }
    },
    {
      "cell_type": "code",
      "source": [
        "temperature <- -5\n",
        "if (temperature > 30) {\n",
        "  message(\"It's a hot day.\")\n",
        "} else if (temperature > 0) {\n",
        "  message(\"It's a pleasant day.\")\n",
        "} else {\n",
        "  message(\"It's cold outside.\")\n",
        "}"
      ],
      "metadata": {
        "colab": {
          "base_uri": "https://localhost:8080/"
        },
        "id": "Fp-ky618DUt5",
        "outputId": "5907a5e6-53cb-47ff-a1c9-f8f9990f3e9b"
      },
      "execution_count": 34,
      "outputs": [
        {
          "output_type": "stream",
          "name": "stderr",
          "text": [
            "It's cold outside.\n",
            "\n"
          ]
        }
      ]
    },
    {
      "cell_type": "markdown",
      "source": [
        "## **Finding if it is an integer or not**"
      ],
      "metadata": {
        "id": "y1-oejoIDe-q"
      }
    },
    {
      "cell_type": "code",
      "source": [
        "Y <- 10.5\n",
        "if (is.integer(Y)) {\n",
        "  print(\"Y is an Integer\")\n",
        "} else {\n",
        "  print(\"Y is not an Integer\")\n",
        "}"
      ],
      "metadata": {
        "colab": {
          "base_uri": "https://localhost:8080/"
        },
        "id": "fbYqw-WPDhQo",
        "outputId": "1f366bf9-a294-45f5-f436-a2e75da244e3"
      },
      "execution_count": 35,
      "outputs": [
        {
          "output_type": "stream",
          "name": "stdout",
          "text": [
            "[1] \"Y is not an Integer\"\n"
          ]
        }
      ]
    },
    {
      "cell_type": "markdown",
      "source": [
        "## **Check if \"yellow\" is present in the colors vector**\n"
      ],
      "metadata": {
        "id": "uAbyDGMFD4I4"
      }
    },
    {
      "cell_type": "code",
      "source": [
        "colors <- c(\"red\", \"blue\", \"green\")\n",
        "if (\"yellow\" %in% colors) {\n",
        "  print(\"yellow is found\")\n",
        "} else {\n",
        "  print(\"yellow is not found\")\n",
        "}"
      ],
      "metadata": {
        "colab": {
          "base_uri": "https://localhost:8080/"
        },
        "id": "s81ABfkLDpqj",
        "outputId": "15599cf9-d7f8-45b2-b2d0-c7d59d16e56a"
      },
      "execution_count": 36,
      "outputs": [
        {
          "output_type": "stream",
          "name": "stdout",
          "text": [
            "[1] \"yellow is not found\"\n"
          ]
        }
      ]
    },
    {
      "cell_type": "markdown",
      "source": [
        "## **Demonstrating a While Loop with Decreasing Counter**\n"
      ],
      "metadata": {
        "id": "gpgG4ffOEF7g"
      }
    },
    {
      "cell_type": "code",
      "source": [
        "num <- 10\n",
        "while (num > 5) {\n",
        "  print(paste(\"Current value is:\", num))\n",
        "  num <- num - 1\n",
        "}"
      ],
      "metadata": {
        "colab": {
          "base_uri": "https://localhost:8080/"
        },
        "id": "GBiNiJ-EEGah",
        "outputId": "43467b1b-f1a3-44d8-d18f-273497fda84d"
      },
      "execution_count": 37,
      "outputs": [
        {
          "output_type": "stream",
          "name": "stdout",
          "text": [
            "[1] \"Current value is: 10\"\n",
            "[1] \"Current value is: 9\"\n",
            "[1] \"Current value is: 8\"\n",
            "[1] \"Current value is: 7\"\n",
            "[1] \"Current value is: 6\"\n"
          ]
        }
      ]
    },
    {
      "cell_type": "markdown",
      "source": [
        "## **Demonstrating a Repeat Loop with a Break Condition**\n"
      ],
      "metadata": {
        "id": "dJWJLnrFEPca"
      }
    },
    {
      "cell_type": "code",
      "source": [
        "counter <- 1\n",
        "repeat {\n",
        "  print(paste(\"Value:\", counter))\n",
        "  counter <- counter + 1\n",
        "  if (counter > 7) {\n",
        "    break\n",
        "  }\n",
        "}"
      ],
      "metadata": {
        "colab": {
          "base_uri": "https://localhost:8080/"
        },
        "id": "mcLxCZUVEPKi",
        "outputId": "918e0ac2-0660-42ae-caf1-df39f9b627fd"
      },
      "execution_count": 38,
      "outputs": [
        {
          "output_type": "stream",
          "name": "stdout",
          "text": [
            "[1] \"Value: 1\"\n",
            "[1] \"Value: 2\"\n",
            "[1] \"Value: 3\"\n",
            "[1] \"Value: 4\"\n",
            "[1] \"Value: 5\"\n",
            "[1] \"Value: 6\"\n",
            "[1] \"Value: 7\"\n"
          ]
        }
      ]
    },
    {
      "cell_type": "markdown",
      "source": [
        "## **Iterating through a vector of letters using a for loop**\n"
      ],
      "metadata": {
        "id": "LUNVlBeBEVNY"
      }
    },
    {
      "cell_type": "code",
      "source": [
        "letters <- c(\"A\", \"B\", \"C\", \"D\", \"E\")\n",
        "for (letter in letters) {\n",
        "  print(paste(\"Current letter is:\", letter))\n",
        "}"
      ],
      "metadata": {
        "colab": {
          "base_uri": "https://localhost:8080/"
        },
        "id": "Diw1EiQ5EayI",
        "outputId": "420641bc-a7fc-42d6-ec87-6b4704701ede"
      },
      "execution_count": 39,
      "outputs": [
        {
          "output_type": "stream",
          "name": "stdout",
          "text": [
            "[1] \"Current letter is: A\"\n",
            "[1] \"Current letter is: B\"\n",
            "[1] \"Current letter is: C\"\n",
            "[1] \"Current letter is: D\"\n",
            "[1] \"Current letter is: E\"\n"
          ]
        }
      ]
    },
    {
      "cell_type": "markdown",
      "source": [
        "## **Skipping a Specific Value in a For Loop**\n"
      ],
      "metadata": {
        "id": "05cH9UzDEjE-"
      }
    },
    {
      "cell_type": "code",
      "source": [
        "values <- c(10, 20, 30, 40, 50)\n",
        "for (val in values) {\n",
        "  if (val == 30) {\n",
        "    next  # Skip to the next iteration if val is 30\n",
        "  }\n",
        "  print(paste(\"Value is:\", val))\n",
        "}"
      ],
      "metadata": {
        "colab": {
          "base_uri": "https://localhost:8080/"
        },
        "id": "7njMfMmREkZw",
        "outputId": "03474b48-b2b2-41c8-a616-f92ec5aa5398"
      },
      "execution_count": 40,
      "outputs": [
        {
          "output_type": "stream",
          "name": "stdout",
          "text": [
            "[1] \"Value is: 10\"\n",
            "[1] \"Value is: 20\"\n",
            "[1] \"Value is: 40\"\n",
            "[1] \"Value is: 50\"\n"
          ]
        }
      ]
    },
    {
      "cell_type": "markdown",
      "source": [
        "## **Calculating the cube of a number**\n"
      ],
      "metadata": {
        "id": "Jpdu71xHE1kA"
      }
    },
    {
      "cell_type": "code",
      "source": [
        "cube <- function(x) {\n",
        "  return(x^3)\n",
        "}\n",
        "result <- cube(3)\n",
        "print(paste(\"The cube of 3 is:\", result))"
      ],
      "metadata": {
        "colab": {
          "base_uri": "https://localhost:8080/"
        },
        "id": "4WROrqCGEzXm",
        "outputId": "adcb07a5-3b85-448c-809a-9f4be64d4c75"
      },
      "execution_count": 41,
      "outputs": [
        {
          "output_type": "stream",
          "name": "stdout",
          "text": [
            "[1] \"The cube of 3 is: 27\"\n"
          ]
        }
      ]
    },
    {
      "cell_type": "markdown",
      "source": [
        "## **Printing even numbers from 2 to 10**"
      ],
      "metadata": {
        "id": "S8dO4wqTE68B"
      }
    },
    {
      "cell_type": "code",
      "source": [
        "even_numbers <- function() {\n",
        "  for (i in 1:5) {\n",
        "    print(i * 2)\n",
        "  }\n",
        "}\n",
        "even_numbers()"
      ],
      "metadata": {
        "colab": {
          "base_uri": "https://localhost:8080/"
        },
        "id": "y4gi_06KE9lp",
        "outputId": "4df3f395-ae7f-4434-cfbd-0f7582ea30cb"
      },
      "execution_count": 42,
      "outputs": [
        {
          "output_type": "stream",
          "name": "stdout",
          "text": [
            "[1] 2\n",
            "[1] 4\n",
            "[1] 6\n",
            "[1] 8\n",
            "[1] 10\n"
          ]
        }
      ]
    },
    {
      "cell_type": "markdown",
      "source": [
        "## **Greeting function with a default argument**"
      ],
      "metadata": {
        "id": "xFU6BXSmFJmX"
      }
    },
    {
      "cell_type": "code",
      "source": [
        "greet <- function(a, b = \"Welcome!\") {\n",
        "  print(paste(\"Hello,\", a))\n",
        "  print(b)\n",
        "}\n",
        "greet(\"Sai\")"
      ],
      "metadata": {
        "colab": {
          "base_uri": "https://localhost:8080/"
        },
        "id": "F5vGBsmJFJ8x",
        "outputId": "2c4c869b-a8a4-440a-92af-2414d7d6c3b8"
      },
      "execution_count": 43,
      "outputs": [
        {
          "output_type": "stream",
          "name": "stdout",
          "text": [
            "[1] \"Hello, Sai\"\n",
            "[1] \"Welcome!\"\n"
          ]
        }
      ]
    },
    {
      "cell_type": "markdown",
      "source": [
        "## **Combining strings with a custom separator**\n"
      ],
      "metadata": {
        "id": "EE61i9Z_FRjy"
      }
    },
    {
      "cell_type": "code",
      "source": [
        "\n",
        "x <- \"Hello\"\n",
        "y <- \"R\"\n",
        "z <- \"Programming\"\n",
        "print(paste(x, y, z, sep = \" | \"))"
      ],
      "metadata": {
        "colab": {
          "base_uri": "https://localhost:8080/"
        },
        "id": "y3Lyb7X4FRyN",
        "outputId": "879696fc-73aa-4d69-b08d-15365b2e3724"
      },
      "execution_count": 44,
      "outputs": [
        {
          "output_type": "stream",
          "name": "stdout",
          "text": [
            "[1] \"Hello | R | Programming\"\n"
          ]
        }
      ]
    },
    {
      "cell_type": "markdown",
      "source": [
        "## **Formatting a decimal number to a specific number of digits**\n"
      ],
      "metadata": {
        "id": "by_CesPySxrg"
      }
    },
    {
      "cell_type": "code",
      "source": [
        "decimal <- 9876.54321\n",
        "formatted_decimal <- format(decimal, digits = 6)\n",
        "print(formatted_decimal)"
      ],
      "metadata": {
        "colab": {
          "base_uri": "https://localhost:8080/"
        },
        "id": "oeXUrbV2Sx7B",
        "outputId": "a62704fc-392b-44f3-82a5-df4343a3bdbb"
      },
      "execution_count": 45,
      "outputs": [
        {
          "output_type": "stream",
          "name": "stdout",
          "text": [
            "[1] \"9876.54\"\n"
          ]
        }
      ]
    },
    {
      "cell_type": "markdown",
      "source": [
        "## **Counting the number of characters in a sentence**\n"
      ],
      "metadata": {
        "id": "675OFmAQTBta"
      }
    },
    {
      "cell_type": "code",
      "source": [
        "sentence <- \"R is a powerful tool for data analysis.\"\n",
        "char_count <- nchar(sentence)\n",
        "print(paste(\"Number of characters:\", char_count))"
      ],
      "metadata": {
        "colab": {
          "base_uri": "https://localhost:8080/"
        },
        "id": "FJ5DLVFPS_Q-",
        "outputId": "94fb81b9-4408-4de1-fd83-1301c28164e5"
      },
      "execution_count": 46,
      "outputs": [
        {
          "output_type": "stream",
          "name": "stdout",
          "text": [
            "[1] \"Number of characters: 39\"\n"
          ]
        }
      ]
    },
    {
      "cell_type": "markdown",
      "source": [
        "## **Converting a phrase to uppercase and lowercase**\n"
      ],
      "metadata": {
        "id": "eg4jSoaITL_i"
      }
    },
    {
      "cell_type": "code",
      "source": [
        "phrase <- \"Data Science in R\"\n",
        "print(toupper(phrase))  # Uppercase\n",
        "print(tolower(phrase))  # Lowercase"
      ],
      "metadata": {
        "colab": {
          "base_uri": "https://localhost:8080/"
        },
        "id": "DqMLR9oDTEU9",
        "outputId": "6d7a3779-ae56-45c1-92c8-4187fd52ad31"
      },
      "execution_count": 47,
      "outputs": [
        {
          "output_type": "stream",
          "name": "stdout",
          "text": [
            "[1] \"DATA SCIENCE IN R\"\n",
            "[1] \"data science in r\"\n"
          ]
        }
      ]
    },
    {
      "cell_type": "markdown",
      "source": [
        "## **Extracting a substring from a string**\n"
      ],
      "metadata": {
        "id": "l7O-NfUXTq_P"
      }
    },
    {
      "cell_type": "code",
      "source": [
        "greeting <- \"Good Evening, Everyone!\"\n",
        "sub_text <- substring(greeting, 6, 13)\n",
        "print(sub_text)"
      ],
      "metadata": {
        "colab": {
          "base_uri": "https://localhost:8080/"
        },
        "id": "vrkuhKOhTnCQ",
        "outputId": "97aea34e-05db-4671-fe5e-085ada6ee44a"
      },
      "execution_count": 48,
      "outputs": [
        {
          "output_type": "stream",
          "name": "stdout",
          "text": [
            "[1] \"Evening,\"\n"
          ]
        }
      ]
    }
  ]
}