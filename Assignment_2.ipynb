{
  "nbformat": 4,
  "nbformat_minor": 0,
  "metadata": {
    "colab": {
      "provenance": [],
      "authorship_tag": "ABX9TyM/GGvLp5qDhn0Hjk4DNV1i",
      "include_colab_link": true
    },
    "kernelspec": {
      "name": "ir",
      "display_name": "R"
    },
    "language_info": {
      "name": "R"
    }
  },
  "cells": [
    {
      "cell_type": "markdown",
      "metadata": {
        "id": "view-in-github",
        "colab_type": "text"
      },
      "source": [
        "<a href=\"https://colab.research.google.com/github/R1ng1/MDSC-201-Statistical-Methods-Using-R/blob/main/Assignment_2.ipynb\" target=\"_parent\"><img src=\"https://colab.research.google.com/assets/colab-badge.svg\" alt=\"Open In Colab\"/></a>"
      ]
    },
    {
      "cell_type": "markdown",
      "source": [
        "# **CONTROL STRUCTURES**"
      ],
      "metadata": {
        "id": "iJcXT3gEUvb5"
      }
    },
    {
      "cell_type": "markdown",
      "source": [
        "## **Using ifelse() for Conditional Vectorization**\n",
        "## **Replace even numbers with \"Even\" and odd numbers with \"Odd\"**"
      ],
      "metadata": {
        "id": "e1NNhiGLUzLi"
      }
    },
    {
      "cell_type": "code",
      "execution_count": 11,
      "metadata": {
        "colab": {
          "base_uri": "https://localhost:8080/"
        },
        "id": "eD0rWG4KUqmm",
        "outputId": "fc7a4b7c-8473-4e56-8865-764942ae3c70"
      },
      "outputs": [
        {
          "output_type": "stream",
          "name": "stdout",
          "text": [
            " [1] \"Odd\"  \"Even\" \"Odd\"  \"Even\" \"Odd\"  \"Even\" \"Odd\"  \"Even\" \"Odd\"  \"Even\"\n"
          ]
        }
      ],
      "source": [
        "numbers <- 1:10\n",
        "labels <- ifelse(numbers %% 2 == 0, \"Even\", \"Odd\")\n",
        "print(labels)\n"
      ]
    },
    {
      "cell_type": "markdown",
      "source": [
        "## **While Loop with a Condition**\n",
        "## **Calculate factorial using while loop**"
      ],
      "metadata": {
        "id": "Ihj4VRUnU_2o"
      }
    },
    {
      "cell_type": "code",
      "source": [
        "n <- 5\n",
        "factorial <- 1\n",
        "i <- 1\n",
        "while (i <= n) {\n",
        "  factorial <- factorial * i\n",
        "  i <- i + 1\n",
        "}\n",
        "print(factorial)"
      ],
      "metadata": {
        "colab": {
          "base_uri": "https://localhost:8080/"
        },
        "id": "LMTEqp9IVTBO",
        "outputId": "0726b1a5-78db-4e8f-f0a2-52e37d343a30"
      },
      "execution_count": 12,
      "outputs": [
        {
          "output_type": "stream",
          "name": "stdout",
          "text": [
            "[1] 120\n"
          ]
        }
      ]
    },
    {
      "cell_type": "markdown",
      "source": [
        "## **Nested For Loops**\n",
        "## **Print a multiplication table**"
      ],
      "metadata": {
        "id": "Hhq-kmSfVgrR"
      }
    },
    {
      "cell_type": "code",
      "source": [
        "for (i in 1:3) {\n",
        "  for (j in 1:3) {\n",
        "    cat(i, \"x\", j, \"=\", i * j, \"\\n\")\n",
        "  }\n",
        "}\n"
      ],
      "metadata": {
        "id": "OLjTMPF_VlnA",
        "outputId": "4dd45846-e1c1-46ec-d18b-e7dafc86199b",
        "colab": {
          "base_uri": "https://localhost:8080/"
        }
      },
      "execution_count": 13,
      "outputs": [
        {
          "output_type": "stream",
          "name": "stdout",
          "text": [
            "1 x 1 = 1 \n",
            "1 x 2 = 2 \n",
            "1 x 3 = 3 \n",
            "2 x 1 = 2 \n",
            "2 x 2 = 4 \n",
            "2 x 3 = 6 \n",
            "3 x 1 = 3 \n",
            "3 x 2 = 6 \n",
            "3 x 3 = 9 \n"
          ]
        }
      ]
    },
    {
      "cell_type": "markdown",
      "source": [
        "## **Predicting temperature**"
      ],
      "metadata": {
        "id": "RyYhUH99DXj3"
      }
    },
    {
      "cell_type": "code",
      "source": [
        "temperature <- -5\n",
        "if (temperature > 30) {\n",
        "  message(\"It's a hot day.\")\n",
        "} else if (temperature > 0) {\n",
        "  message(\"It's a pleasant day.\")\n",
        "} else {\n",
        "  message(\"It's cold outside.\")\n",
        "}"
      ],
      "metadata": {
        "colab": {
          "base_uri": "https://localhost:8080/"
        },
        "id": "Fp-ky618DUt5",
        "outputId": "7283425e-f17c-4fbe-8428-e694734fcadb"
      },
      "execution_count": 15,
      "outputs": [
        {
          "output_type": "stream",
          "name": "stderr",
          "text": [
            "It's cold outside.\n",
            "\n"
          ]
        }
      ]
    },
    {
      "cell_type": "markdown",
      "source": [
        "## **Finding if it is an integer or not**"
      ],
      "metadata": {
        "id": "y1-oejoIDe-q"
      }
    },
    {
      "cell_type": "code",
      "source": [
        "Y <- 10.5\n",
        "if (is.integer(Y)) {\n",
        "  print(\"Y is an Integer\")\n",
        "} else {\n",
        "  print(\"Y is not an Integer\")\n",
        "}"
      ],
      "metadata": {
        "colab": {
          "base_uri": "https://localhost:8080/"
        },
        "id": "fbYqw-WPDhQo",
        "outputId": "873d55b5-e0a0-497f-eda8-64982625f82e"
      },
      "execution_count": 16,
      "outputs": [
        {
          "output_type": "stream",
          "name": "stdout",
          "text": [
            "[1] \"Y is not an Integer\"\n"
          ]
        }
      ]
    },
    {
      "cell_type": "markdown",
      "source": [
        "## **Check if \"yellow\" is present in the colors vector**\n"
      ],
      "metadata": {
        "id": "uAbyDGMFD4I4"
      }
    },
    {
      "cell_type": "code",
      "source": [
        "colors <- c(\"red\", \"blue\", \"green\")\n",
        "if (\"yellow\" %in% colors) {\n",
        "  print(\"yellow is found\")\n",
        "} else {\n",
        "  print(\"yellow is not found\")\n",
        "}"
      ],
      "metadata": {
        "colab": {
          "base_uri": "https://localhost:8080/"
        },
        "id": "s81ABfkLDpqj",
        "outputId": "4f96902a-33b9-4fc7-a975-11cfe4c7f4fe"
      },
      "execution_count": 17,
      "outputs": [
        {
          "output_type": "stream",
          "name": "stdout",
          "text": [
            "[1] \"yellow is not found\"\n"
          ]
        }
      ]
    },
    {
      "cell_type": "markdown",
      "source": [
        "## **Demonstrating a While Loop with Decreasing Counter**\n"
      ],
      "metadata": {
        "id": "gpgG4ffOEF7g"
      }
    },
    {
      "cell_type": "code",
      "source": [
        "num <- 10\n",
        "while (num > 5) {\n",
        "  print(paste(\"Current value is:\", num))\n",
        "  num <- num - 1\n",
        "}"
      ],
      "metadata": {
        "colab": {
          "base_uri": "https://localhost:8080/"
        },
        "id": "GBiNiJ-EEGah",
        "outputId": "00120c9b-47df-4042-c487-e4bfc604bb1d"
      },
      "execution_count": 18,
      "outputs": [
        {
          "output_type": "stream",
          "name": "stdout",
          "text": [
            "[1] \"Current value is: 10\"\n",
            "[1] \"Current value is: 9\"\n",
            "[1] \"Current value is: 8\"\n",
            "[1] \"Current value is: 7\"\n",
            "[1] \"Current value is: 6\"\n"
          ]
        }
      ]
    },
    {
      "cell_type": "markdown",
      "source": [
        "## **Demonstrating a Repeat Loop with a Break Condition**\n"
      ],
      "metadata": {
        "id": "dJWJLnrFEPca"
      }
    },
    {
      "cell_type": "code",
      "source": [
        "counter <- 1\n",
        "repeat {\n",
        "  print(paste(\"Value:\", counter))\n",
        "  counter <- counter + 1\n",
        "  if (counter > 7) {\n",
        "    break\n",
        "  }\n",
        "}"
      ],
      "metadata": {
        "colab": {
          "base_uri": "https://localhost:8080/"
        },
        "id": "mcLxCZUVEPKi",
        "outputId": "29c3a45d-a695-4458-d78e-33fb529618f1"
      },
      "execution_count": 19,
      "outputs": [
        {
          "output_type": "stream",
          "name": "stdout",
          "text": [
            "[1] \"Value: 1\"\n",
            "[1] \"Value: 2\"\n",
            "[1] \"Value: 3\"\n",
            "[1] \"Value: 4\"\n",
            "[1] \"Value: 5\"\n",
            "[1] \"Value: 6\"\n",
            "[1] \"Value: 7\"\n"
          ]
        }
      ]
    },
    {
      "cell_type": "markdown",
      "source": [
        "## **Iterating through a vector of letters using a for loop**\n"
      ],
      "metadata": {
        "id": "LUNVlBeBEVNY"
      }
    },
    {
      "cell_type": "code",
      "source": [
        "letters <- c(\"A\", \"B\", \"C\", \"D\", \"E\")\n",
        "for (letter in letters) {\n",
        "  print(paste(\"Current letter is:\", letter))\n",
        "}"
      ],
      "metadata": {
        "colab": {
          "base_uri": "https://localhost:8080/"
        },
        "id": "Diw1EiQ5EayI",
        "outputId": "4e957ee0-d0a4-4cec-d0cf-fd44cd7766e4"
      },
      "execution_count": 20,
      "outputs": [
        {
          "output_type": "stream",
          "name": "stdout",
          "text": [
            "[1] \"Current letter is: A\"\n",
            "[1] \"Current letter is: B\"\n",
            "[1] \"Current letter is: C\"\n",
            "[1] \"Current letter is: D\"\n",
            "[1] \"Current letter is: E\"\n"
          ]
        }
      ]
    },
    {
      "cell_type": "markdown",
      "source": [
        "## **Skipping a Specific Value in a For Loop**\n"
      ],
      "metadata": {
        "id": "05cH9UzDEjE-"
      }
    },
    {
      "cell_type": "code",
      "source": [
        "values <- c(10, 20, 30, 40, 50)\n",
        "for (val in values) {\n",
        "  if (val == 30) {\n",
        "    next  # Skip to the next iteration if val is 30\n",
        "  }\n",
        "  print(paste(\"Value is:\", val))\n",
        "}"
      ],
      "metadata": {
        "colab": {
          "base_uri": "https://localhost:8080/"
        },
        "id": "7njMfMmREkZw",
        "outputId": "74fbf53d-df43-478d-e6a8-dec8d3c8f79a"
      },
      "execution_count": 21,
      "outputs": [
        {
          "output_type": "stream",
          "name": "stdout",
          "text": [
            "[1] \"Value is: 10\"\n",
            "[1] \"Value is: 20\"\n",
            "[1] \"Value is: 40\"\n",
            "[1] \"Value is: 50\"\n"
          ]
        }
      ]
    },
    {
      "cell_type": "markdown",
      "source": [
        "## **Calculating the cube of a number**\n"
      ],
      "metadata": {
        "id": "Jpdu71xHE1kA"
      }
    },
    {
      "cell_type": "code",
      "source": [
        "cube <- function(x) {\n",
        "  return(x^3)\n",
        "}\n",
        "result <- cube(3)\n",
        "print(paste(\"The cube of 3 is:\", result))"
      ],
      "metadata": {
        "colab": {
          "base_uri": "https://localhost:8080/"
        },
        "id": "4WROrqCGEzXm",
        "outputId": "2dd07c92-96c7-4ecb-e12a-d81c7e2dfbf9"
      },
      "execution_count": 22,
      "outputs": [
        {
          "output_type": "stream",
          "name": "stdout",
          "text": [
            "[1] \"The cube of 3 is: 27\"\n"
          ]
        }
      ]
    },
    {
      "cell_type": "markdown",
      "source": [
        "## **Printing even numbers from 2 to 10**"
      ],
      "metadata": {
        "id": "S8dO4wqTE68B"
      }
    },
    {
      "cell_type": "code",
      "source": [
        "even_numbers <- function() {\n",
        "  for (i in 1:5) {\n",
        "    print(i * 2)\n",
        "  }\n",
        "}\n",
        "even_numbers()"
      ],
      "metadata": {
        "colab": {
          "base_uri": "https://localhost:8080/"
        },
        "id": "y4gi_06KE9lp",
        "outputId": "fb5b6d2b-c0f5-4c9b-ada8-60960be0ee88"
      },
      "execution_count": 23,
      "outputs": [
        {
          "output_type": "stream",
          "name": "stdout",
          "text": [
            "[1] 2\n",
            "[1] 4\n",
            "[1] 6\n",
            "[1] 8\n",
            "[1] 10\n"
          ]
        }
      ]
    },
    {
      "cell_type": "markdown",
      "source": [
        "## **Greeting function with a default argument**"
      ],
      "metadata": {
        "id": "xFU6BXSmFJmX"
      }
    },
    {
      "cell_type": "code",
      "source": [
        "greet <- function(a, b = \"Welcome!\") {\n",
        "  print(paste(\"Hello,\", a))\n",
        "  print(b)\n",
        "}\n",
        "greet(\"Sai\")"
      ],
      "metadata": {
        "colab": {
          "base_uri": "https://localhost:8080/"
        },
        "id": "F5vGBsmJFJ8x",
        "outputId": "e5f78413-f174-4c63-ca0b-db786bd4f2f3"
      },
      "execution_count": 24,
      "outputs": [
        {
          "output_type": "stream",
          "name": "stdout",
          "text": [
            "[1] \"Hello, Sai\"\n",
            "[1] \"Welcome!\"\n"
          ]
        }
      ]
    },
    {
      "cell_type": "markdown",
      "source": [
        "## **Combining strings with a custom separator**\n"
      ],
      "metadata": {
        "id": "EE61i9Z_FRjy"
      }
    },
    {
      "cell_type": "code",
      "source": [
        "\n",
        "x <- \"Hello\"\n",
        "y <- \"R\"\n",
        "z <- \"Programming\"\n",
        "print(paste(x, y, z, sep = \" | \"))"
      ],
      "metadata": {
        "colab": {
          "base_uri": "https://localhost:8080/"
        },
        "id": "y3Lyb7X4FRyN",
        "outputId": "1b69570a-ece1-437c-b688-21bfdbc63dca"
      },
      "execution_count": 25,
      "outputs": [
        {
          "output_type": "stream",
          "name": "stdout",
          "text": [
            "[1] \"Hello | R | Programming\"\n"
          ]
        }
      ]
    },
    {
      "cell_type": "markdown",
      "source": [
        "## **Formatting a decimal number to a specific number of digits**\n"
      ],
      "metadata": {
        "id": "by_CesPySxrg"
      }
    },
    {
      "cell_type": "code",
      "source": [
        "decimal <- 9876.54321\n",
        "formatted_decimal <- format(decimal, digits = 6)\n",
        "print(formatted_decimal)"
      ],
      "metadata": {
        "colab": {
          "base_uri": "https://localhost:8080/"
        },
        "id": "oeXUrbV2Sx7B",
        "outputId": "ff8309d9-e124-4430-be85-f9ecd732e101"
      },
      "execution_count": 26,
      "outputs": [
        {
          "output_type": "stream",
          "name": "stdout",
          "text": [
            "[1] \"9876.54\"\n"
          ]
        }
      ]
    },
    {
      "cell_type": "markdown",
      "source": [
        "## **Counting the number of characters in a sentence**\n"
      ],
      "metadata": {
        "id": "675OFmAQTBta"
      }
    },
    {
      "cell_type": "code",
      "source": [
        "sentence <- \"R is a powerful tool for data analysis.\"\n",
        "char_count <- nchar(sentence)\n",
        "print(paste(\"Number of characters:\", char_count))"
      ],
      "metadata": {
        "colab": {
          "base_uri": "https://localhost:8080/"
        },
        "id": "FJ5DLVFPS_Q-",
        "outputId": "ce117f90-4f6a-427c-c76e-90560e2d28d7"
      },
      "execution_count": 27,
      "outputs": [
        {
          "output_type": "stream",
          "name": "stdout",
          "text": [
            "[1] \"Number of characters: 39\"\n"
          ]
        }
      ]
    },
    {
      "cell_type": "markdown",
      "source": [
        "## **Converting a phrase to uppercase and lowercase**\n"
      ],
      "metadata": {
        "id": "eg4jSoaITL_i"
      }
    },
    {
      "cell_type": "code",
      "source": [
        "phrase <- \"Data Science in R\"\n",
        "print(toupper(phrase))  # Uppercase\n",
        "print(tolower(phrase))  # Lowercase"
      ],
      "metadata": {
        "colab": {
          "base_uri": "https://localhost:8080/"
        },
        "id": "DqMLR9oDTEU9",
        "outputId": "281cd4cd-d79b-41d6-e326-ac5b66f6e5c2"
      },
      "execution_count": 28,
      "outputs": [
        {
          "output_type": "stream",
          "name": "stdout",
          "text": [
            "[1] \"DATA SCIENCE IN R\"\n",
            "[1] \"data science in r\"\n"
          ]
        }
      ]
    },
    {
      "cell_type": "markdown",
      "source": [
        "## **Extracting a substring from a string**\n"
      ],
      "metadata": {
        "id": "l7O-NfUXTq_P"
      }
    },
    {
      "cell_type": "code",
      "source": [
        "greeting <- \"Good Evening, Everyone!\"\n",
        "sub_text <- substring(greeting, 6, 13)\n",
        "print(sub_text)"
      ],
      "metadata": {
        "colab": {
          "base_uri": "https://localhost:8080/"
        },
        "id": "vrkuhKOhTnCQ",
        "outputId": "bf39cbb7-47f0-4034-d036-dd2582a4e66f"
      },
      "execution_count": 29,
      "outputs": [
        {
          "output_type": "stream",
          "name": "stdout",
          "text": [
            "[1] \"Evening,\"\n"
          ]
        }
      ]
    }
  ]
}