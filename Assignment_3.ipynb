{
  "nbformat": 4,
  "nbformat_minor": 0,
  "metadata": {
    "colab": {
      "provenance": [],
      "authorship_tag": "ABX9TyM3hawZaJHuDRivHMbAnWPR",
      "include_colab_link": true
    },
    "kernelspec": {
      "name": "ir",
      "display_name": "R"
    },
    "language_info": {
      "name": "R"
    }
  },
  "cells": [
    {
      "cell_type": "markdown",
      "metadata": {
        "id": "view-in-github",
        "colab_type": "text"
      },
      "source": [
        "<a href=\"https://colab.research.google.com/github/R1ng1/MDSC-201-Statistical-Methods-Using-R/blob/main/Assignment_3.ipynb\" target=\"_parent\"><img src=\"https://colab.research.google.com/assets/colab-badge.svg\" alt=\"Open In Colab\"/></a>"
      ]
    },
    {
      "cell_type": "markdown",
      "source": [
        "# **Fundamental operations and concepts in R programming**"
      ],
      "metadata": {
        "id": "-duf4mh2VrsF"
      }
    },
    {
      "cell_type": "markdown",
      "source": [
        "## **Creating a vector**"
      ],
      "metadata": {
        "id": "z33M_p4iWpZ-"
      }
    },
    {
      "cell_type": "code",
      "source": [
        "v <- c(10, 20, 30, 40, 50)\n",
        "print(v)\n"
      ],
      "metadata": {
        "colab": {
          "base_uri": "https://localhost:8080/"
        },
        "id": "Irit0jiEVmJL",
        "outputId": "1824c452-9256-4925-e583-606d37496597"
      },
      "execution_count": 83,
      "outputs": [
        {
          "output_type": "stream",
          "name": "stdout",
          "text": [
            "[1] 10 20 30 40 50\n"
          ]
        }
      ]
    },
    {
      "cell_type": "markdown",
      "source": [
        "## **Generating sequences**"
      ],
      "metadata": {
        "id": "KbZLcUNWWzmI"
      }
    },
    {
      "cell_type": "code",
      "source": [
        "seq1 <- seq(1, 10, by=2)\n",
        "print(seq1)"
      ],
      "metadata": {
        "colab": {
          "base_uri": "https://localhost:8080/"
        },
        "id": "mKaOl0m2Wum9",
        "outputId": "53011724-114c-48f0-f660-e932ab3cd424"
      },
      "execution_count": 84,
      "outputs": [
        {
          "output_type": "stream",
          "name": "stdout",
          "text": [
            "[1] 1 3 5 7 9\n"
          ]
        }
      ]
    },
    {
      "cell_type": "markdown",
      "source": [
        "## **Repeating elements**"
      ],
      "metadata": {
        "id": "6WUfzD75WnaV"
      }
    },
    {
      "cell_type": "code",
      "source": [
        "rep1 <- rep(c(1, 2, 3), times=3)\n",
        "print(rep1)"
      ],
      "metadata": {
        "colab": {
          "base_uri": "https://localhost:8080/"
        },
        "id": "mr1CT1PjW17V",
        "outputId": "c049cd58-4087-4c15-b44d-f1e8167ce72e"
      },
      "execution_count": 85,
      "outputs": [
        {
          "output_type": "stream",
          "name": "stdout",
          "text": [
            "[1] 1 2 3 1 2 3 1 2 3\n"
          ]
        }
      ]
    },
    {
      "cell_type": "markdown",
      "source": [
        "## **Getting vector length**"
      ],
      "metadata": {
        "id": "Rr2c4QBgW_s0"
      }
    },
    {
      "cell_type": "code",
      "source": [
        "print(length(v))"
      ],
      "metadata": {
        "colab": {
          "base_uri": "https://localhost:8080/"
        },
        "id": "UAqv4Fe5W8bF",
        "outputId": "0d0c03c5-1182-4626-99c8-6c14df81b344"
      },
      "execution_count": 86,
      "outputs": [
        {
          "output_type": "stream",
          "name": "stdout",
          "text": [
            "[1] 5\n"
          ]
        }
      ]
    },
    {
      "cell_type": "markdown",
      "source": [
        "## **Sorting values**"
      ],
      "metadata": {
        "id": "r6BULK2tXFJp"
      }
    },
    {
      "cell_type": "code",
      "source": [
        "sorted_v <- sort(v, decreasing = TRUE)\n",
        "print(sorted_v)"
      ],
      "metadata": {
        "colab": {
          "base_uri": "https://localhost:8080/"
        },
        "id": "qimhQQb-XCAM",
        "outputId": "942e36a6-1353-4747-e157-297f46b4f42c"
      },
      "execution_count": 87,
      "outputs": [
        {
          "output_type": "stream",
          "name": "stdout",
          "text": [
            "[1] 50 40 30 20 10\n"
          ]
        }
      ]
    },
    {
      "cell_type": "markdown",
      "source": [
        "## **Getting ordering index**"
      ],
      "metadata": {
        "id": "YncHOEtAXUCc"
      }
    },
    {
      "cell_type": "code",
      "source": [
        "idx <- order(v)\n",
        "print(idx)"
      ],
      "metadata": {
        "colab": {
          "base_uri": "https://localhost:8080/"
        },
        "id": "c1-PSa1vXRSS",
        "outputId": "14eb281c-88a5-4952-eef3-c21f0885b795"
      },
      "execution_count": 88,
      "outputs": [
        {
          "output_type": "stream",
          "name": "stdout",
          "text": [
            "[1] 1 2 3 4 5\n"
          ]
        }
      ]
    },
    {
      "cell_type": "markdown",
      "source": [
        "## **Reversing elements**"
      ],
      "metadata": {
        "id": "y71LKzKaXWEn"
      }
    },
    {
      "cell_type": "code",
      "source": [
        "rev_v <- rev(v)\n",
        "print(rev_v)"
      ],
      "metadata": {
        "colab": {
          "base_uri": "https://localhost:8080/"
        },
        "id": "uZXhVBMXXWw-",
        "outputId": "4846e626-4dcb-46d9-db82-027db5aba7b5"
      },
      "execution_count": 89,
      "outputs": [
        {
          "output_type": "stream",
          "name": "stdout",
          "text": [
            "[1] 50 40 30 20 10\n"
          ]
        }
      ]
    },
    {
      "cell_type": "markdown",
      "source": [
        "## **Finding unique values**"
      ],
      "metadata": {
        "id": "3C2G9-UmXb2r"
      }
    },
    {
      "cell_type": "code",
      "source": [
        "unique_v <- unique(c(1, 2, 2, 3, 3, 3, 4))\n",
        "print(unique_v)"
      ],
      "metadata": {
        "colab": {
          "base_uri": "https://localhost:8080/"
        },
        "id": "Qmp70kWkXfbV",
        "outputId": "0a1a88ba-5acf-4c00-a12b-971c464df82f"
      },
      "execution_count": 90,
      "outputs": [
        {
          "output_type": "stream",
          "name": "stdout",
          "text": [
            "[1] 1 2 3 4\n"
          ]
        }
      ]
    },
    {
      "cell_type": "markdown",
      "source": [
        "## **Frequency table**"
      ],
      "metadata": {
        "id": "3F4Zj9ZkXib7"
      }
    },
    {
      "cell_type": "code",
      "source": [
        "print(table(c(\"A\", \"B\", \"A\", \"C\", \"B\", \"A\")))\n"
      ],
      "metadata": {
        "colab": {
          "base_uri": "https://localhost:8080/"
        },
        "id": "LxCh9a4hXmLV",
        "outputId": "f2f0b825-de3e-4f06-c6f5-39d5e1cc29ae"
      },
      "execution_count": 91,
      "outputs": [
        {
          "output_type": "stream",
          "name": "stdout",
          "text": [
            "\n",
            "A B C \n",
            "3 2 1 \n"
          ]
        }
      ]
    },
    {
      "cell_type": "markdown",
      "source": [
        "## **Finding indices of matching values**\n"
      ],
      "metadata": {
        "id": "ezVTPIx7Xocn"
      }
    },
    {
      "cell_type": "code",
      "source": [
        "match_idx <- match(c(20, 40), v)\n",
        "print(match_idx)"
      ],
      "metadata": {
        "colab": {
          "base_uri": "https://localhost:8080/"
        },
        "id": "fWeCzi6qXsEG",
        "outputId": "8362b0bc-0fa7-405a-c2fb-dafb79b168ad"
      },
      "execution_count": 92,
      "outputs": [
        {
          "output_type": "stream",
          "name": "stdout",
          "text": [
            "[1] 2 4\n"
          ]
        }
      ]
    },
    {
      "cell_type": "markdown",
      "source": [
        "## **Checking if value exists**"
      ],
      "metadata": {
        "id": "Qi91DtzTXuQ4"
      }
    },
    {
      "cell_type": "code",
      "source": [
        "exists <- 30 %in% v\n",
        "print(exists)\n"
      ],
      "metadata": {
        "colab": {
          "base_uri": "https://localhost:8080/"
        },
        "id": "mM6rlWPMXwLY",
        "outputId": "028aedb8-2f90-475f-cfe0-9dd5e185aea5"
      },
      "execution_count": 93,
      "outputs": [
        {
          "output_type": "stream",
          "name": "stdout",
          "text": [
            "[1] TRUE\n"
          ]
        }
      ]
    },
    {
      "cell_type": "markdown",
      "source": [
        "## **Finding index of elements satisfying a condition**"
      ],
      "metadata": {
        "id": "R7wAJ1eTXzp3"
      }
    },
    {
      "cell_type": "code",
      "source": [
        "idx_condition <- which(v > 25)\n",
        "print(idx_condition)"
      ],
      "metadata": {
        "colab": {
          "base_uri": "https://localhost:8080/"
        },
        "id": "f5bLYDw4X10c",
        "outputId": "cc3fe896-40fd-4909-fcc7-ad539b9b2ac6"
      },
      "execution_count": 94,
      "outputs": [
        {
          "output_type": "stream",
          "name": "stdout",
          "text": [
            "[1] 3 4 5\n"
          ]
        }
      ]
    },
    {
      "cell_type": "markdown",
      "source": [
        "## **Checking if any value is TRUE**\n"
      ],
      "metadata": {
        "id": "uslm8nZpX4U_"
      }
    },
    {
      "cell_type": "code",
      "source": [
        "print(any(v > 45))"
      ],
      "metadata": {
        "colab": {
          "base_uri": "https://localhost:8080/"
        },
        "id": "-G9NtbpjX4CX",
        "outputId": "5a072983-d231-458a-cd6e-dc78b2e83606"
      },
      "execution_count": 95,
      "outputs": [
        {
          "output_type": "stream",
          "name": "stdout",
          "text": [
            "[1] TRUE\n"
          ]
        }
      ]
    },
    {
      "cell_type": "markdown",
      "source": [
        "## **Checking if all values are TRUE**"
      ],
      "metadata": {
        "id": "BcY1PqrkX-4w"
      }
    },
    {
      "cell_type": "code",
      "source": [
        "print(all(v > 5))"
      ],
      "metadata": {
        "colab": {
          "base_uri": "https://localhost:8080/"
        },
        "id": "1snjS0bOYCKL",
        "outputId": "9ce69c1f-a576-4f94-a01f-25c08a8add9e"
      },
      "execution_count": 96,
      "outputs": [
        {
          "output_type": "stream",
          "name": "stdout",
          "text": [
            "[1] TRUE\n"
          ]
        }
      ]
    },
    {
      "cell_type": "markdown",
      "source": [
        "## **Checking for missing values**"
      ],
      "metadata": {
        "id": "5hH8CxBFYGIg"
      }
    },
    {
      "cell_type": "code",
      "source": [
        "v_with_na <- c(10, 20, NA, 40)\n",
        "print(is.na(v_with_na))"
      ],
      "metadata": {
        "colab": {
          "base_uri": "https://localhost:8080/"
        },
        "id": "nrFfbKobYIM4",
        "outputId": "2d5cd1d4-06a0-447d-e2ce-f6d3868e9141"
      },
      "execution_count": 97,
      "outputs": [
        {
          "output_type": "stream",
          "name": "stdout",
          "text": [
            "[1] FALSE FALSE  TRUE FALSE\n"
          ]
        }
      ]
    },
    {
      "cell_type": "markdown",
      "source": [
        "## **Removing NA values**"
      ],
      "metadata": {
        "id": "PXpCHXamYK4b"
      }
    },
    {
      "cell_type": "code",
      "source": [
        "clean_v <- na.omit(v_with_na)\n",
        "print(clean_v)"
      ],
      "metadata": {
        "colab": {
          "base_uri": "https://localhost:8080/"
        },
        "id": "9qRPHSo6YOQu",
        "outputId": "19f3676a-2298-4f18-f524-3356efeb5927"
      },
      "execution_count": 98,
      "outputs": [
        {
          "output_type": "stream",
          "name": "stdout",
          "text": [
            "[1] 10 20 40\n",
            "attr(,\"na.action\")\n",
            "[1] 3\n",
            "attr(,\"class\")\n",
            "[1] \"omit\"\n"
          ]
        }
      ]
    },
    {
      "cell_type": "markdown",
      "source": [
        "## **Replacing values**"
      ],
      "metadata": {
        "id": "PvHPj4y9YN2D"
      }
    },
    {
      "cell_type": "code",
      "source": [
        "replaced_v <- replace(v, v == 20, 100)\n",
        "print(replaced_v)"
      ],
      "metadata": {
        "colab": {
          "base_uri": "https://localhost:8080/"
        },
        "id": "BqxmUXDlYTjt",
        "outputId": "62295f8c-8ecf-4d15-a32a-d1a68737de31"
      },
      "execution_count": 99,
      "outputs": [
        {
          "output_type": "stream",
          "name": "stdout",
          "text": [
            "[1]  10 100  30  40  50\n"
          ]
        }
      ]
    },
    {
      "cell_type": "markdown",
      "source": [
        "## **Concatenating strings**"
      ],
      "metadata": {
        "id": "C3FoCihfYXFv"
      }
    },
    {
      "cell_type": "code",
      "source": [
        "str_concat <- paste(\"Hello\", \"World\", sep=\" \")\n",
        "print(str_concat)"
      ],
      "metadata": {
        "colab": {
          "base_uri": "https://localhost:8080/"
        },
        "id": "9ZQ7vJodYZjG",
        "outputId": "fb3abe97-99f4-4800-908e-5edffe7e7ee2"
      },
      "execution_count": 100,
      "outputs": [
        {
          "output_type": "stream",
          "name": "stdout",
          "text": [
            "[1] \"Hello World\"\n"
          ]
        }
      ]
    },
    {
      "cell_type": "markdown",
      "source": [
        "## **Concatenating without spaces**"
      ],
      "metadata": {
        "id": "qNF9ocL5YccN"
      }
    },
    {
      "cell_type": "code",
      "source": [
        "print(paste0(\"Hello\", \"World\"))\n"
      ],
      "metadata": {
        "colab": {
          "base_uri": "https://localhost:8080/"
        },
        "id": "X_qmSXafYfXb",
        "outputId": "3f488389-df7f-4f11-8bbf-958c9cfb8501"
      },
      "execution_count": 101,
      "outputs": [
        {
          "output_type": "stream",
          "name": "stdout",
          "text": [
            "[1] \"HelloWorld\"\n"
          ]
        }
      ]
    },
    {
      "cell_type": "markdown",
      "source": [
        "## **Convert to uppercase**"
      ],
      "metadata": {
        "id": "XygDMW4pYixP"
      }
    },
    {
      "cell_type": "code",
      "source": [
        "print(toupper(\"hello\"))\n"
      ],
      "metadata": {
        "colab": {
          "base_uri": "https://localhost:8080/"
        },
        "id": "aHx9_zQUYlGE",
        "outputId": "5a893e64-ee94-4050-86a6-5ee3dc9004df"
      },
      "execution_count": 102,
      "outputs": [
        {
          "output_type": "stream",
          "name": "stdout",
          "text": [
            "[1] \"HELLO\"\n"
          ]
        }
      ]
    },
    {
      "cell_type": "markdown",
      "source": [
        "## **Convert to lowercase**"
      ],
      "metadata": {
        "id": "kIFpLj1aYoGh"
      }
    },
    {
      "cell_type": "code",
      "source": [
        "print(tolower(\"HELLO\"))"
      ],
      "metadata": {
        "colab": {
          "base_uri": "https://localhost:8080/"
        },
        "id": "mwkTPplrYqsn",
        "outputId": "64193c56-266d-48ec-dbba-f3e0105222e4"
      },
      "execution_count": 103,
      "outputs": [
        {
          "output_type": "stream",
          "name": "stdout",
          "text": [
            "[1] \"hello\"\n"
          ]
        }
      ]
    },
    {
      "cell_type": "markdown",
      "source": [
        "## **Extract substring**"
      ],
      "metadata": {
        "id": "uO48ClS2Yski"
      }
    },
    {
      "cell_type": "code",
      "source": [
        "print(substr(\"HelloWorld\", 1, 5))"
      ],
      "metadata": {
        "colab": {
          "base_uri": "https://localhost:8080/"
        },
        "id": "gOMsXT_eYu6x",
        "outputId": "c553b8ae-6571-4f4f-f3e1-63719bd64589"
      },
      "execution_count": 104,
      "outputs": [
        {
          "output_type": "stream",
          "name": "stdout",
          "text": [
            "[1] \"Hello\"\n"
          ]
        }
      ]
    },
    {
      "cell_type": "markdown",
      "source": [
        "## **Pattern matching**"
      ],
      "metadata": {
        "id": "okbcoq_BYxzD"
      }
    },
    {
      "cell_type": "code",
      "source": [
        "matches <- grep(\"e\", c(\"apple\", \"banana\", \"cherry\"), value=TRUE)\n",
        "print(matches)\n"
      ],
      "metadata": {
        "colab": {
          "base_uri": "https://localhost:8080/"
        },
        "id": "OvzpOEHkY1oh",
        "outputId": "80ecf145-995f-4102-c8fc-69dd4d6e936e"
      },
      "execution_count": 105,
      "outputs": [
        {
          "output_type": "stream",
          "name": "stdout",
          "text": [
            "[1] \"apple\"  \"cherry\"\n"
          ]
        }
      ]
    },
    {
      "cell_type": "markdown",
      "source": [
        "## **Replace pattern**"
      ],
      "metadata": {
        "id": "RBY2QDtPY3A7"
      }
    },
    {
      "cell_type": "code",
      "source": [
        "print(gsub(\"a\", \"@\", \"banana\"))"
      ],
      "metadata": {
        "colab": {
          "base_uri": "https://localhost:8080/"
        },
        "id": "yhGe5qe-Y5xP",
        "outputId": "6947cb39-1379-440a-f071-8a8d7d8d04a9"
      },
      "execution_count": 106,
      "outputs": [
        {
          "output_type": "stream",
          "name": "stdout",
          "text": [
            "[1] \"b@n@n@\"\n"
          ]
        }
      ]
    },
    {
      "cell_type": "markdown",
      "source": [
        "## **Split strings**"
      ],
      "metadata": {
        "id": "W_5zCRPXY8FZ"
      }
    },
    {
      "cell_type": "code",
      "source": [
        "splitted <- strsplit(\"a,b,c\", \",\")\n",
        "print(splitted)"
      ],
      "metadata": {
        "colab": {
          "base_uri": "https://localhost:8080/"
        },
        "id": "Y6eQrtufY_dv",
        "outputId": "8ff1b360-e594-4b3b-f432-894add7954d1"
      },
      "execution_count": 107,
      "outputs": [
        {
          "output_type": "stream",
          "name": "stdout",
          "text": [
            "[[1]]\n",
            "[1] \"a\" \"b\" \"c\"\n",
            "\n"
          ]
        }
      ]
    },
    {
      "cell_type": "markdown",
      "source": [
        "## **Convert to numeric**"
      ],
      "metadata": {
        "id": "gDKLBU6PZCB_"
      }
    },
    {
      "cell_type": "code",
      "source": [
        "print(as.numeric(\"123\"))"
      ],
      "metadata": {
        "colab": {
          "base_uri": "https://localhost:8080/"
        },
        "id": "wmju2YpdZD75",
        "outputId": "22d3efb0-4479-49e4-b2f2-2363c8d1753b"
      },
      "execution_count": 108,
      "outputs": [
        {
          "output_type": "stream",
          "name": "stdout",
          "text": [
            "[1] 123\n"
          ]
        }
      ]
    },
    {
      "cell_type": "markdown",
      "source": [
        "## **Convert to character**"
      ],
      "metadata": {
        "id": "nXAgMWUSZKHM"
      }
    },
    {
      "cell_type": "code",
      "source": [
        "print(as.character(123))"
      ],
      "metadata": {
        "colab": {
          "base_uri": "https://localhost:8080/"
        },
        "id": "wRqaasugZLvN",
        "outputId": "451d7c2e-0db0-46c9-9c8d-804d69d86586"
      },
      "execution_count": 109,
      "outputs": [
        {
          "output_type": "stream",
          "name": "stdout",
          "text": [
            "[1] \"123\"\n"
          ]
        }
      ]
    },
    {
      "cell_type": "markdown",
      "source": [
        "## **Convert to factor**"
      ],
      "metadata": {
        "id": "K62D5m_hZO3x"
      }
    },
    {
      "cell_type": "code",
      "source": [
        "factors <- as.factor(c(\"Low\", \"Medium\", \"High\"))\n",
        "print(factors)"
      ],
      "metadata": {
        "colab": {
          "base_uri": "https://localhost:8080/"
        },
        "id": "dnOYpM5SZR5t",
        "outputId": "00972634-4a2b-41b1-b82c-9fdd205b3840"
      },
      "execution_count": 110,
      "outputs": [
        {
          "output_type": "stream",
          "name": "stdout",
          "text": [
            "[1] Low    Medium High  \n",
            "Levels: High Low Medium\n"
          ]
        }
      ]
    },
    {
      "cell_type": "markdown",
      "source": [
        "## **Convert to date**\n"
      ],
      "metadata": {
        "id": "CqmxLLqwZUYf"
      }
    },
    {
      "cell_type": "code",
      "source": [
        "date_val <- as.Date(\"2024-02-05\")\n",
        "print(date_val)"
      ],
      "metadata": {
        "colab": {
          "base_uri": "https://localhost:8080/"
        },
        "id": "4nCjZ0hcZWOS",
        "outputId": "33a9d6ba-e937-4c5e-f4a3-2ea6474a9a4d"
      },
      "execution_count": 111,
      "outputs": [
        {
          "output_type": "stream",
          "name": "stdout",
          "text": [
            "[1] \"2024-02-05\"\n"
          ]
        }
      ]
    },
    {
      "cell_type": "markdown",
      "source": [
        "## **Get current date**"
      ],
      "metadata": {
        "id": "84-eHxOYZZKl"
      }
    },
    {
      "cell_type": "code",
      "source": [
        "print(Sys.Date())"
      ],
      "metadata": {
        "colab": {
          "base_uri": "https://localhost:8080/"
        },
        "id": "t_OEoMdyZbl-",
        "outputId": "5a56f9f3-1e12-4b0c-a192-e55fab950bf9"
      },
      "execution_count": 112,
      "outputs": [
        {
          "output_type": "stream",
          "name": "stdout",
          "text": [
            "[1] \"2025-03-28\"\n"
          ]
        }
      ]
    },
    {
      "cell_type": "markdown",
      "source": [
        "## **Array**"
      ],
      "metadata": {
        "id": "9hg1AA3lZhSz"
      }
    },
    {
      "cell_type": "code",
      "source": [
        "nums <- c(10, 20, 30, 40)"
      ],
      "metadata": {
        "id": "tn5WZUimZi5s"
      },
      "execution_count": 113,
      "outputs": []
    },
    {
      "cell_type": "markdown",
      "source": [
        "## **Sum**"
      ],
      "metadata": {
        "id": "vHTiGIN1Zqvp"
      }
    },
    {
      "cell_type": "code",
      "source": [
        "print(sum(nums))"
      ],
      "metadata": {
        "colab": {
          "base_uri": "https://localhost:8080/"
        },
        "id": "yN1KbbnlZttS",
        "outputId": "c17b8e8a-a57c-4b40-eee9-7cd17f8e0841"
      },
      "execution_count": 114,
      "outputs": [
        {
          "output_type": "stream",
          "name": "stdout",
          "text": [
            "[1] 100\n"
          ]
        }
      ]
    },
    {
      "cell_type": "markdown",
      "source": [
        "## **Product**"
      ],
      "metadata": {
        "id": "TqdzBhIZZwN9"
      }
    },
    {
      "cell_type": "code",
      "source": [
        "print(prod(nums))"
      ],
      "metadata": {
        "colab": {
          "base_uri": "https://localhost:8080/"
        },
        "id": "5xYsQpg2ZyY9",
        "outputId": "de21f140-7a39-48f4-b4db-5f9bead589b5"
      },
      "execution_count": 115,
      "outputs": [
        {
          "output_type": "stream",
          "name": "stdout",
          "text": [
            "[1] 240000\n"
          ]
        }
      ]
    },
    {
      "cell_type": "markdown",
      "source": [
        "## **Cumulative sum**"
      ],
      "metadata": {
        "id": "3K8Rtm0yZ0cx"
      }
    },
    {
      "cell_type": "code",
      "source": [
        "print(cumsum(nums))\n"
      ],
      "metadata": {
        "colab": {
          "base_uri": "https://localhost:8080/"
        },
        "id": "rbvyEfvxZ2Iv",
        "outputId": "d11886cd-e9cc-4022-adbe-ed42e6785756"
      },
      "execution_count": 116,
      "outputs": [
        {
          "output_type": "stream",
          "name": "stdout",
          "text": [
            "[1]  10  30  60 100\n"
          ]
        }
      ]
    },
    {
      "cell_type": "markdown",
      "source": [
        "## **Cumulative product**"
      ],
      "metadata": {
        "id": "qA9bGm6uZ4ix"
      }
    },
    {
      "cell_type": "code",
      "source": [
        "print(cumprod(nums))"
      ],
      "metadata": {
        "colab": {
          "base_uri": "https://localhost:8080/"
        },
        "id": "eWGDXbb9Z9zO",
        "outputId": "5436b3f4-43c7-4c8c-ae80-2416835ec42c"
      },
      "execution_count": 117,
      "outputs": [
        {
          "output_type": "stream",
          "name": "stdout",
          "text": [
            "[1]     10    200   6000 240000\n"
          ]
        }
      ]
    },
    {
      "cell_type": "markdown",
      "source": [
        "## **Mean**"
      ],
      "metadata": {
        "id": "mts4bKbkZ_Ix"
      }
    },
    {
      "cell_type": "code",
      "source": [
        "print(mean(nums))"
      ],
      "metadata": {
        "colab": {
          "base_uri": "https://localhost:8080/"
        },
        "id": "oI24_lbeaEIK",
        "outputId": "5cb99aa5-fa2d-40e6-890a-4f6468ea1663"
      },
      "execution_count": 118,
      "outputs": [
        {
          "output_type": "stream",
          "name": "stdout",
          "text": [
            "[1] 25\n"
          ]
        }
      ]
    },
    {
      "cell_type": "markdown",
      "source": [
        "## **Median**"
      ],
      "metadata": {
        "id": "lTDZF4FiaFXZ"
      }
    },
    {
      "cell_type": "code",
      "source": [
        "print(median(nums))\n"
      ],
      "metadata": {
        "colab": {
          "base_uri": "https://localhost:8080/"
        },
        "id": "FNJcyW9zaHMG",
        "outputId": "102c65f9-0d61-4bdc-cbeb-b372fc1b92e4"
      },
      "execution_count": 119,
      "outputs": [
        {
          "output_type": "stream",
          "name": "stdout",
          "text": [
            "[1] 25\n"
          ]
        }
      ]
    },
    {
      "cell_type": "markdown",
      "source": [
        "## **Minimum**"
      ],
      "metadata": {
        "id": "dKz2zRrKaJQX"
      }
    },
    {
      "cell_type": "code",
      "source": [
        "print(min(nums))"
      ],
      "metadata": {
        "colab": {
          "base_uri": "https://localhost:8080/"
        },
        "id": "lS2PPGZUaK3G",
        "outputId": "f69842f3-e34c-4099-9ff6-0e708bbc8c7b"
      },
      "execution_count": 120,
      "outputs": [
        {
          "output_type": "stream",
          "name": "stdout",
          "text": [
            "[1] 10\n"
          ]
        }
      ]
    },
    {
      "cell_type": "markdown",
      "source": [
        "# Maximum"
      ],
      "metadata": {
        "id": "nVqJokOuaMyp"
      }
    },
    {
      "cell_type": "code",
      "source": [
        "print(max(nums))"
      ],
      "metadata": {
        "colab": {
          "base_uri": "https://localhost:8080/"
        },
        "id": "RmYxmnSSaOhX",
        "outputId": "5db3774b-7b35-48b9-9cca-18de2378be7c"
      },
      "execution_count": 121,
      "outputs": [
        {
          "output_type": "stream",
          "name": "stdout",
          "text": [
            "[1] 40\n"
          ]
        }
      ]
    },
    {
      "cell_type": "markdown",
      "source": [
        "## **Range**"
      ],
      "metadata": {
        "id": "hot3oU0UaQdk"
      }
    },
    {
      "cell_type": "code",
      "source": [
        "print(range(nums))"
      ],
      "metadata": {
        "colab": {
          "base_uri": "https://localhost:8080/"
        },
        "id": "DY9KLB4JaSiB",
        "outputId": "ca5e79bb-d463-40ce-cfd2-e8374283fcbf"
      },
      "execution_count": 122,
      "outputs": [
        {
          "output_type": "stream",
          "name": "stdout",
          "text": [
            "[1] 10 40\n"
          ]
        }
      ]
    },
    {
      "cell_type": "markdown",
      "source": [
        "## **Variance**"
      ],
      "metadata": {
        "id": "bOlMwtN3aUuh"
      }
    },
    {
      "cell_type": "code",
      "source": [
        "print(var(nums))\n"
      ],
      "metadata": {
        "colab": {
          "base_uri": "https://localhost:8080/"
        },
        "id": "kAENfBmFaYHn",
        "outputId": "f4118d3d-722d-4584-9752-32e11f38de94"
      },
      "execution_count": 123,
      "outputs": [
        {
          "output_type": "stream",
          "name": "stdout",
          "text": [
            "[1] 166.6667\n"
          ]
        }
      ]
    },
    {
      "cell_type": "markdown",
      "source": [
        "## **Standard deviation**"
      ],
      "metadata": {
        "id": "W-eAx5VcaZvA"
      }
    },
    {
      "cell_type": "code",
      "source": [
        "print(sd(nums))"
      ],
      "metadata": {
        "colab": {
          "base_uri": "https://localhost:8080/"
        },
        "id": "AuugD60DadP2",
        "outputId": "d0674454-ebcb-4028-8c2f-6118666cf710"
      },
      "execution_count": 124,
      "outputs": [
        {
          "output_type": "stream",
          "name": "stdout",
          "text": [
            "[1] 12.90994\n"
          ]
        }
      ]
    },
    {
      "cell_type": "markdown",
      "source": [
        "## **Compute quantiles**"
      ],
      "metadata": {
        "id": "cBLDiuJAaezZ"
      }
    },
    {
      "cell_type": "code",
      "source": [
        "print(quantile(nums, probs = c(0.25, 0.5, 0.75)))\n"
      ],
      "metadata": {
        "colab": {
          "base_uri": "https://localhost:8080/"
        },
        "id": "2VsFVTy3agpt",
        "outputId": "a008f842-b933-4a14-b6cf-6ef31b71ca15"
      },
      "execution_count": 125,
      "outputs": [
        {
          "output_type": "stream",
          "name": "stdout",
          "text": [
            " 25%  50%  75% \n",
            "17.5 25.0 32.5 \n"
          ]
        }
      ]
    },
    {
      "cell_type": "markdown",
      "source": [
        "## **Round values**"
      ],
      "metadata": {
        "id": "EhEDM156ai8o"
      }
    },
    {
      "cell_type": "code",
      "source": [
        "print(round(3.14159, 2))"
      ],
      "metadata": {
        "colab": {
          "base_uri": "https://localhost:8080/"
        },
        "id": "sRlLgORFamCM",
        "outputId": "4f2add58-bf4a-45f9-9c0d-29d9aba6aca5"
      },
      "execution_count": 126,
      "outputs": [
        {
          "output_type": "stream",
          "name": "stdout",
          "text": [
            "[1] 3.14\n"
          ]
        }
      ]
    },
    {
      "cell_type": "markdown",
      "source": [
        "## **Ceiling**"
      ],
      "metadata": {
        "id": "VGv1r_gHaoCa"
      }
    },
    {
      "cell_type": "code",
      "source": [
        "print(ceiling(3.6))"
      ],
      "metadata": {
        "colab": {
          "base_uri": "https://localhost:8080/"
        },
        "id": "IH0Cx6Aoapv7",
        "outputId": "641333b2-0795-4a1e-c3f1-c4726ef7b3ba"
      },
      "execution_count": 127,
      "outputs": [
        {
          "output_type": "stream",
          "name": "stdout",
          "text": [
            "[1] 4\n"
          ]
        }
      ]
    },
    {
      "cell_type": "markdown",
      "source": [
        "## **Floor**"
      ],
      "metadata": {
        "id": "kb6WAJG2astY"
      }
    },
    {
      "cell_type": "code",
      "source": [
        "print(floor(3.6))"
      ],
      "metadata": {
        "colab": {
          "base_uri": "https://localhost:8080/"
        },
        "id": "Ul1Foqesavl-",
        "outputId": "55ce897e-d5a6-4a20-a3a4-73a3d76256b0"
      },
      "execution_count": 128,
      "outputs": [
        {
          "output_type": "stream",
          "name": "stdout",
          "text": [
            "[1] 3\n"
          ]
        }
      ]
    },
    {
      "cell_type": "markdown",
      "source": [
        "## **Absolute value**\n"
      ],
      "metadata": {
        "id": "W7CX5d1Raz7l"
      }
    },
    {
      "cell_type": "code",
      "source": [
        "print(abs(-10))\n"
      ],
      "metadata": {
        "colab": {
          "base_uri": "https://localhost:8080/"
        },
        "id": "oO7V9sARa18J",
        "outputId": "2edf23c5-db0b-4d5d-8f6b-3b3a6218a18d"
      },
      "execution_count": 129,
      "outputs": [
        {
          "output_type": "stream",
          "name": "stdout",
          "text": [
            "[1] 10\n"
          ]
        }
      ]
    },
    {
      "cell_type": "markdown",
      "source": [
        "## **Square root**"
      ],
      "metadata": {
        "id": "HJpQUTqOa6Fs"
      }
    },
    {
      "cell_type": "code",
      "source": [
        "print(sqrt(25))"
      ],
      "metadata": {
        "colab": {
          "base_uri": "https://localhost:8080/"
        },
        "id": "5t1LCVPMa8rw",
        "outputId": "49a279ea-640b-4199-b3a0-5ffe03bf6fad"
      },
      "execution_count": 130,
      "outputs": [
        {
          "output_type": "stream",
          "name": "stdout",
          "text": [
            "[1] 5\n"
          ]
        }
      ]
    },
    {
      "cell_type": "markdown",
      "source": [
        "## **Natural logarithm**"
      ],
      "metadata": {
        "id": "CIKCcXTLa-Ir"
      }
    },
    {
      "cell_type": "code",
      "source": [
        "print(log(10))"
      ],
      "metadata": {
        "colab": {
          "base_uri": "https://localhost:8080/"
        },
        "id": "QmRsMO2gbAWd",
        "outputId": "89efa04f-310a-4d13-a1a2-b508421288d1"
      },
      "execution_count": 131,
      "outputs": [
        {
          "output_type": "stream",
          "name": "stdout",
          "text": [
            "[1] 2.302585\n"
          ]
        }
      ]
    },
    {
      "cell_type": "markdown",
      "source": [
        "## **Exponential function**"
      ],
      "metadata": {
        "id": "i-7ekbOAbCW9"
      }
    },
    {
      "cell_type": "code",
      "source": [
        "print(exp(2))\n"
      ],
      "metadata": {
        "colab": {
          "base_uri": "https://localhost:8080/"
        },
        "id": "kfXQ_ynObE-u",
        "outputId": "a81b9e5a-b6ad-47d6-9197-3a0479e669ee"
      },
      "execution_count": 132,
      "outputs": [
        {
          "output_type": "stream",
          "name": "stdout",
          "text": [
            "[1] 7.389056\n"
          ]
        }
      ]
    },
    {
      "cell_type": "markdown",
      "source": [
        "## **Factorial**"
      ],
      "metadata": {
        "id": "illlAwVBbHQb"
      }
    },
    {
      "cell_type": "code",
      "source": [
        "print(factorial(5))"
      ],
      "metadata": {
        "colab": {
          "base_uri": "https://localhost:8080/"
        },
        "id": "bMw35pAxbJGt",
        "outputId": "67406f26-3175-478b-c844-8f30b3afa44a"
      },
      "execution_count": 133,
      "outputs": [
        {
          "output_type": "stream",
          "name": "stdout",
          "text": [
            "[1] 120\n"
          ]
        }
      ]
    },
    {
      "cell_type": "markdown",
      "source": [
        "## **Binomial coefficient**"
      ],
      "metadata": {
        "id": "fgqtZKKJbLOE"
      }
    },
    {
      "cell_type": "code",
      "source": [
        "print(choose(5, 2))"
      ],
      "metadata": {
        "colab": {
          "base_uri": "https://localhost:8080/"
        },
        "id": "IYFOQtmubNBm",
        "outputId": "b5954ad1-484e-4093-f70e-9f442dc0baba"
      },
      "execution_count": 134,
      "outputs": [
        {
          "output_type": "stream",
          "name": "stdout",
          "text": [
            "[1] 10\n"
          ]
        }
      ]
    },
    {
      "cell_type": "markdown",
      "source": [
        "## **Trigonometric functions**"
      ],
      "metadata": {
        "id": "fAMkTeoibPPg"
      }
    },
    {
      "cell_type": "code",
      "source": [
        "print(sin(pi/2))\n",
        "print(cos(0))\n",
        "print(tan(pi/4))"
      ],
      "metadata": {
        "colab": {
          "base_uri": "https://localhost:8080/"
        },
        "id": "q7dKjjv5bSTF",
        "outputId": "a20a676a-35b6-4b14-f7f4-cc19a270e625"
      },
      "execution_count": 135,
      "outputs": [
        {
          "output_type": "stream",
          "name": "stdout",
          "text": [
            "[1] 1\n",
            "[1] 1\n",
            "[1] 1\n"
          ]
        }
      ]
    },
    {
      "cell_type": "markdown",
      "source": [
        "## **Correlation coefficient**"
      ],
      "metadata": {
        "id": "rjCE_s06bUBn"
      }
    },
    {
      "cell_type": "code",
      "source": [
        "x <- c(1, 2, 3, 4, 5)\n",
        "y <- c(2, 4, 6, 8, 10)\n",
        "print(cor(x, y))"
      ],
      "metadata": {
        "colab": {
          "base_uri": "https://localhost:8080/"
        },
        "id": "sFpkHcPDbXWh",
        "outputId": "c87491d0-74e9-4c46-9870-b1b3558954af"
      },
      "execution_count": 136,
      "outputs": [
        {
          "output_type": "stream",
          "name": "stdout",
          "text": [
            "[1] 1\n"
          ]
        }
      ]
    },
    {
      "cell_type": "markdown",
      "source": [
        "## **Covariance**"
      ],
      "metadata": {
        "id": "rA0MlzyubYdj"
      }
    },
    {
      "cell_type": "code",
      "source": [
        "print(cov(x, y))"
      ],
      "metadata": {
        "colab": {
          "base_uri": "https://localhost:8080/"
        },
        "id": "xHEE2xVUbaxI",
        "outputId": "74187507-6be9-4f10-9de8-f7263f3eed19"
      },
      "execution_count": 137,
      "outputs": [
        {
          "output_type": "stream",
          "name": "stdout",
          "text": [
            "[1] 5\n"
          ]
        }
      ]
    },
    {
      "cell_type": "markdown",
      "source": [
        "## **Creating data structures**"
      ],
      "metadata": {
        "id": "OStEOeFNbdSh"
      }
    },
    {
      "cell_type": "code",
      "source": [
        "df <- data.frame(Name=c(\"A\", \"B\", \"C\"), Score=c(90, 85, 88))\n",
        "print(df)\n",
        "\n",
        "lst <- list(Name=\"John\", Age=25)\n",
        "print(lst)\n",
        "\n",
        "mat <- matrix(1:9, nrow=3)\n",
        "print(mat)\n",
        "\n",
        "arr <- array(1:12, dim=c(2,2,3))\n",
        "print(arr)"
      ],
      "metadata": {
        "colab": {
          "base_uri": "https://localhost:8080/"
        },
        "id": "5meyNdw5bgWr",
        "outputId": "84fb3eb5-6962-4c64-b8e2-bd2ecbea6f27"
      },
      "execution_count": 138,
      "outputs": [
        {
          "output_type": "stream",
          "name": "stdout",
          "text": [
            "  Name Score\n",
            "1    A    90\n",
            "2    B    85\n",
            "3    C    88\n",
            "$Name\n",
            "[1] \"John\"\n",
            "\n",
            "$Age\n",
            "[1] 25\n",
            "\n",
            "     [,1] [,2] [,3]\n",
            "[1,]    1    4    7\n",
            "[2,]    2    5    8\n",
            "[3,]    3    6    9\n",
            ", , 1\n",
            "\n",
            "     [,1] [,2]\n",
            "[1,]    1    3\n",
            "[2,]    2    4\n",
            "\n",
            ", , 2\n",
            "\n",
            "     [,1] [,2]\n",
            "[1,]    5    7\n",
            "[2,]    6    8\n",
            "\n",
            ", , 3\n",
            "\n",
            "     [,1] [,2]\n",
            "[1,]    9   11\n",
            "[2,]   10   12\n",
            "\n"
          ]
        }
      ]
    },
    {
      "cell_type": "markdown",
      "source": [
        "## **Transpose matrix**"
      ],
      "metadata": {
        "id": "lvG9AFyibiDN"
      }
    },
    {
      "cell_type": "code",
      "source": [
        "print(t(mat))"
      ],
      "metadata": {
        "colab": {
          "base_uri": "https://localhost:8080/"
        },
        "id": "Eni8B_RSbkMD",
        "outputId": "e5eaba86-127c-4e1c-fdd6-87632949d1e8"
      },
      "execution_count": 139,
      "outputs": [
        {
          "output_type": "stream",
          "name": "stdout",
          "text": [
            "     [,1] [,2] [,3]\n",
            "[1,]    1    2    3\n",
            "[2,]    4    5    6\n",
            "[3,]    7    8    9\n"
          ]
        }
      ]
    },
    {
      "cell_type": "markdown",
      "source": [
        "## **Row and Column binding**"
      ],
      "metadata": {
        "id": "ArriTiehbmCB"
      }
    },
    {
      "cell_type": "code",
      "source": [
        "mat1 <- matrix(1:6, nrow=2)\n",
        "print(rbind(mat1, c(7,8,9)))\n",
        "print(cbind(mat1, c(10,11)))\n"
      ],
      "metadata": {
        "colab": {
          "base_uri": "https://localhost:8080/"
        },
        "id": "85-EWtE-bpf4",
        "outputId": "b13df1b7-202f-400a-e8cd-e0215e66037f"
      },
      "execution_count": 140,
      "outputs": [
        {
          "output_type": "stream",
          "name": "stdout",
          "text": [
            "     [,1] [,2] [,3]\n",
            "[1,]    1    3    5\n",
            "[2,]    2    4    6\n",
            "[3,]    7    8    9\n",
            "     [,1] [,2] [,3] [,4]\n",
            "[1,]    1    3    5   10\n",
            "[2,]    2    4    6   11\n"
          ]
        }
      ]
    },
    {
      "cell_type": "markdown",
      "source": [
        "## **Get dimensions**"
      ],
      "metadata": {
        "id": "lRFI5-LdbrxG"
      }
    },
    {
      "cell_type": "code",
      "source": [
        "print(dim(df))"
      ],
      "metadata": {
        "colab": {
          "base_uri": "https://localhost:8080/"
        },
        "id": "7MEFQxfwbtq3",
        "outputId": "027abae3-1496-41a4-c60c-06b39e787035"
      },
      "execution_count": 141,
      "outputs": [
        {
          "output_type": "stream",
          "name": "stdout",
          "text": [
            "[1] 3 2\n"
          ]
        }
      ]
    },
    {
      "cell_type": "markdown",
      "source": [
        "## **Number of rows & columns**"
      ],
      "metadata": {
        "id": "CqD3X6xkbwKs"
      }
    },
    {
      "cell_type": "code",
      "source": [
        "print(nrow(df))\n",
        "print(ncol(df))\n"
      ],
      "metadata": {
        "colab": {
          "base_uri": "https://localhost:8080/"
        },
        "id": "vaqSCpuYbxub",
        "outputId": "b7ae0417-c9fc-40a4-937e-1d4a8550d060"
      },
      "execution_count": 142,
      "outputs": [
        {
          "output_type": "stream",
          "name": "stdout",
          "text": [
            "[1] 3\n",
            "[1] 2\n"
          ]
        }
      ]
    },
    {
      "cell_type": "markdown",
      "source": [
        "## **Get and set names**"
      ],
      "metadata": {
        "id": "bcigyltNbzNW"
      }
    },
    {
      "cell_type": "code",
      "source": [
        "print(names(df))"
      ],
      "metadata": {
        "colab": {
          "base_uri": "https://localhost:8080/"
        },
        "id": "NtrqRUWXb2Kl",
        "outputId": "11025d5e-803e-4b79-fa9a-b577c34089b0"
      },
      "execution_count": 143,
      "outputs": [
        {
          "output_type": "stream",
          "name": "stdout",
          "text": [
            "[1] \"Name\"  \"Score\"\n"
          ]
        }
      ]
    },
    {
      "cell_type": "markdown",
      "source": [
        "## **Subset data**"
      ],
      "metadata": {
        "id": "ytAHPWTub4SC"
      }
    },
    {
      "cell_type": "code",
      "source": [
        "subset_df <- subset(df, Score > 85)\n",
        "print(subset_df)"
      ],
      "metadata": {
        "colab": {
          "base_uri": "https://localhost:8080/"
        },
        "id": "0Qem__H2b6oo",
        "outputId": "4c9b7525-60bf-437d-b4be-8e0382d05ee0"
      },
      "execution_count": 144,
      "outputs": [
        {
          "output_type": "stream",
          "name": "stdout",
          "text": [
            "  Name Score\n",
            "1    A    90\n",
            "3    C    88\n"
          ]
        }
      ]
    },
    {
      "cell_type": "markdown",
      "source": [
        "## **Merge data frames**"
      ],
      "metadata": {
        "id": "jakJLm61b-FI"
      }
    },
    {
      "cell_type": "code",
      "source": [
        "df2 <- data.frame(Name=c(\"A\", \"B\"), Age=c(20, 21))\n",
        "merged_df <- merge(df, df2, by=\"Name\")\n",
        "print(merged_df)\n"
      ],
      "metadata": {
        "colab": {
          "base_uri": "https://localhost:8080/"
        },
        "id": "aqEP2AcXcBQ1",
        "outputId": "06262f21-e9c1-49b5-eee8-9f13f6c81a18"
      },
      "execution_count": 145,
      "outputs": [
        {
          "output_type": "stream",
          "name": "stdout",
          "text": [
            "  Name Score Age\n",
            "1    A    90  20\n",
            "2    B    85  21\n"
          ]
        }
      ]
    },
    {
      "cell_type": "markdown",
      "source": [
        "## **Apply functions**"
      ],
      "metadata": {
        "id": "o6V--egccDoV"
      }
    },
    {
      "cell_type": "code",
      "source": [
        "print(apply(mat, 1, sum))"
      ],
      "metadata": {
        "colab": {
          "base_uri": "https://localhost:8080/"
        },
        "id": "P-Fu8GBocHc1",
        "outputId": "2325e28c-47db-4179-b4c1-e04f071588c1"
      },
      "execution_count": 146,
      "outputs": [
        {
          "output_type": "stream",
          "name": "stdout",
          "text": [
            "[1] 12 15 18\n"
          ]
        }
      ]
    },
    {
      "cell_type": "markdown",
      "source": [
        "## **Aggregation**"
      ],
      "metadata": {
        "id": "R2z0q-y_cJ8F"
      }
    },
    {
      "cell_type": "code",
      "source": [
        "print(aggregate(Score ~ Name, data=df, FUN=mean))\n"
      ],
      "metadata": {
        "colab": {
          "base_uri": "https://localhost:8080/"
        },
        "id": "4WJhIc72cMTH",
        "outputId": "794f7942-5431-4bc9-b9df-350121c59ac7"
      },
      "execution_count": 147,
      "outputs": [
        {
          "output_type": "stream",
          "name": "stdout",
          "text": [
            "  Name Score\n",
            "1    A    90\n",
            "2    B    85\n",
            "3    C    88\n"
          ]
        }
      ]
    },
    {
      "cell_type": "markdown",
      "source": [
        "## **Conditional execution**"
      ],
      "metadata": {
        "id": "arE834x1cOVn"
      }
    },
    {
      "cell_type": "code",
      "source": [
        "x <- 10\n",
        "if (x > 5) print(\"Greater than 5\") else print(\"Not greater\")\n"
      ],
      "metadata": {
        "colab": {
          "base_uri": "https://localhost:8080/"
        },
        "id": "0XV9qIhscR86",
        "outputId": "f6adbe2a-4bcd-43b6-aabb-0dbb4f24881f"
      },
      "execution_count": 148,
      "outputs": [
        {
          "output_type": "stream",
          "name": "stdout",
          "text": [
            "[1] \"Greater than 5\"\n"
          ]
        }
      ]
    },
    {
      "cell_type": "markdown",
      "source": [
        "## **Loop over sequence**"
      ],
      "metadata": {
        "id": "5TUPie4gcSzX"
      }
    },
    {
      "cell_type": "code",
      "source": [
        "for (i in 1:5) {\n",
        "  print(i)\n",
        "}"
      ],
      "metadata": {
        "colab": {
          "base_uri": "https://localhost:8080/"
        },
        "id": "63O3lJ2wcVnA",
        "outputId": "4a869b89-cb14-43b3-e2b1-f37e0d2e0918"
      },
      "execution_count": 149,
      "outputs": [
        {
          "output_type": "stream",
          "name": "stdout",
          "text": [
            "[1] 1\n",
            "[1] 2\n",
            "[1] 3\n",
            "[1] 4\n",
            "[1] 5\n"
          ]
        }
      ]
    },
    {
      "cell_type": "markdown",
      "source": [
        "## **While loop**\n"
      ],
      "metadata": {
        "id": "cnjBAOZfcZVl"
      }
    },
    {
      "cell_type": "code",
      "source": [
        "i <- 1\n",
        "while (i <= 5) {\n",
        "  print(i)\n",
        "  i <- i + 1\n",
        "}"
      ],
      "metadata": {
        "colab": {
          "base_uri": "https://localhost:8080/"
        },
        "id": "idgqCaWFcbbw",
        "outputId": "b6b37d30-b934-4826-e4a5-bf94576972db"
      },
      "execution_count": 150,
      "outputs": [
        {
          "output_type": "stream",
          "name": "stdout",
          "text": [
            "[1] 1\n",
            "[1] 2\n",
            "[1] 3\n",
            "[1] 4\n",
            "[1] 5\n"
          ]
        }
      ]
    },
    {
      "cell_type": "markdown",
      "source": [
        "## **Repeat loop with break**"
      ],
      "metadata": {
        "id": "iYu_GPjvcekP"
      }
    },
    {
      "cell_type": "code",
      "source": [
        "j <- 1\n",
        "repeat {\n",
        "  print(j)\n",
        "  if (j == 5) break\n",
        "  j <- j + 1\n",
        "}"
      ],
      "metadata": {
        "colab": {
          "base_uri": "https://localhost:8080/"
        },
        "id": "mMD9Y14FciYZ",
        "outputId": "469c92c7-0e2d-4d82-ad79-59f8468f0d6b"
      },
      "execution_count": 151,
      "outputs": [
        {
          "output_type": "stream",
          "name": "stdout",
          "text": [
            "[1] 1\n",
            "[1] 2\n",
            "[1] 3\n",
            "[1] 4\n",
            "[1] 5\n"
          ]
        }
      ]
    },
    {
      "cell_type": "markdown",
      "source": [
        "## **Define and call function**"
      ],
      "metadata": {
        "id": "APMqrM5fck7X"
      }
    },
    {
      "cell_type": "code",
      "source": [
        "add_nums <- function(a, b) {\n",
        "  return(a + b)\n",
        "}\n",
        "print(add_nums(5, 10))\n"
      ],
      "metadata": {
        "colab": {
          "base_uri": "https://localhost:8080/"
        },
        "id": "9pbfALOLco7r",
        "outputId": "a03dc773-ca67-4f79-bc1d-18733e5a3e73"
      },
      "execution_count": 152,
      "outputs": [
        {
          "output_type": "stream",
          "name": "stdout",
          "text": [
            "[1] 15\n"
          ]
        }
      ]
    },
    {
      "cell_type": "markdown",
      "source": [
        "## **Get and set working directory**"
      ],
      "metadata": {
        "id": "p_DTBEhhcr1X"
      }
    },
    {
      "cell_type": "code",
      "source": [
        "print(getwd())  # Print the current working directory"
      ],
      "metadata": {
        "colab": {
          "base_uri": "https://localhost:8080/"
        },
        "id": "1QiZLWI9cxNe",
        "outputId": "929e0110-f6e7-435d-f802-d72e7c2f8519"
      },
      "execution_count": 153,
      "outputs": [
        {
          "output_type": "stream",
          "name": "stdout",
          "text": [
            "[1] \"/home/user/R_programming\"\n"
          ]
        }
      ]
    },
    {
      "cell_type": "markdown",
      "source": [
        "## **Correct way to change directory (ensure the path exists)**"
      ],
      "metadata": {
        "id": "L1UNIqQJczr9"
      }
    },
    {
      "cell_type": "code",
      "source": [
        "\n",
        "# Verify the directory exists and create it if necessary\n",
        "# Note: The directory might already exist, so check before creating.\n",
        "if (!dir.exists(\"/home/user/R_programming\")) {\n",
        "    dir.create(\"/home/user/R_programming\", recursive = TRUE)\n",
        "}\n",
        "\n",
        "# Change to the directory using the absolute path\n",
        "setwd(\"/home/user/R_programming\")  # Use absolute path\n",
        "\n",
        "# Verify if the working directory changed successfully\n",
        "print(getwd())"
      ],
      "metadata": {
        "colab": {
          "base_uri": "https://localhost:8080/"
        },
        "id": "ZT785o_Ac1-Y",
        "outputId": "1ae33c2a-2f7e-4d17-e7d4-cfde64ab6efa"
      },
      "execution_count": 154,
      "outputs": [
        {
          "output_type": "stream",
          "name": "stdout",
          "text": [
            "[1] \"/home/user/R_programming\"\n"
          ]
        }
      ]
    },
    {
      "cell_type": "markdown",
      "source": [
        "## **Verify if the working directory changed successfully**"
      ],
      "metadata": {
        "id": "LLMY3Xbqc5G8"
      }
    },
    {
      "cell_type": "code",
      "source": [
        "print(getwd())"
      ],
      "metadata": {
        "colab": {
          "base_uri": "https://localhost:8080/"
        },
        "id": "uPW9wAKcc7Ni",
        "outputId": "92308df4-59fc-497a-813d-a89a9cb9e5e1"
      },
      "execution_count": 155,
      "outputs": [
        {
          "output_type": "stream",
          "name": "stdout",
          "text": [
            "[1] \"/home/user/R_programming\"\n"
          ]
        }
      ]
    },
    {
      "cell_type": "markdown",
      "source": [
        "## **List files in the working directory**"
      ],
      "metadata": {
        "id": "XKi35sOyc96A"
      }
    },
    {
      "cell_type": "code",
      "source": [
        "print(list.files())\n"
      ],
      "metadata": {
        "colab": {
          "base_uri": "https://localhost:8080/"
        },
        "id": "GAKXNIeldA6S",
        "outputId": "71712f63-4ff8-44d8-ac99-89f19280a665"
      },
      "execution_count": 156,
      "outputs": [
        {
          "output_type": "stream",
          "name": "stdout",
          "text": [
            "character(0)\n"
          ]
        }
      ]
    },
    {
      "cell_type": "markdown",
      "source": [
        "## **Check if the data file exists before reading**"
      ],
      "metadata": {
        "id": "oZVDCh_2dCYh"
      }
    },
    {
      "cell_type": "code",
      "source": [
        "if (file.exists(\"data.csv\")) {\n",
        "  df <- read.csv(\"data.csv\")  # Read CSV file\n",
        "  print(head(df))  # Display first few rows of the data\n",
        "} else {\n",
        "  print(\"Error: data.csv not found in the working directory.\")\n",
        "}\n"
      ],
      "metadata": {
        "colab": {
          "base_uri": "https://localhost:8080/"
        },
        "id": "Q7bKpYn-dHOe",
        "outputId": "078bf92c-609d-4578-d2c6-90b26ef7095d"
      },
      "execution_count": 157,
      "outputs": [
        {
          "output_type": "stream",
          "name": "stdout",
          "text": [
            "[1] \"Error: data.csv not found in the working directory.\"\n"
          ]
        }
      ]
    },
    {
      "cell_type": "markdown",
      "source": [
        "## **Write data to a CSV file safely**"
      ],
      "metadata": {
        "id": "ZwcMzccCdJNs"
      }
    },
    {
      "cell_type": "code",
      "source": [
        "df_sample <- data.frame(Name=c(\"Alice\", \"Bob\", \"Charlie\"), Score=c(90, 85, 88))\n",
        "write.csv(df_sample, \"output.csv\", row.names=FALSE)  # Avoid writing row numbers\n"
      ],
      "metadata": {
        "id": "2n47ZqyydMdr"
      },
      "execution_count": 158,
      "outputs": []
    },
    {
      "cell_type": "markdown",
      "source": [
        "## **Check if the RDS file exists before reading**"
      ],
      "metadata": {
        "id": "Xkq8zuhYdOWv"
      }
    },
    {
      "cell_type": "code",
      "source": [
        "if (file.exists(\"data.rds\")) {\n",
        "  df_loaded <- readRDS(\"data.rds\")  # Read R object\n",
        "  print(df_loaded)\n",
        "} else {\n",
        "  print(\"Error: data.rds not found. Saving new RDS file.\")\n",
        "  saveRDS(df_sample, \"data.rds\")  # Save data as RDS for future use\n",
        "}\n"
      ],
      "metadata": {
        "colab": {
          "base_uri": "https://localhost:8080/"
        },
        "id": "XnVDWp9mdRQS",
        "outputId": "84ea866a-778d-48c1-9689-6c725f9bf511"
      },
      "execution_count": 159,
      "outputs": [
        {
          "output_type": "stream",
          "name": "stdout",
          "text": [
            "[1] \"Error: data.rds not found. Saving new RDS file.\"\n"
          ]
        }
      ]
    },
    {
      "cell_type": "markdown",
      "source": [],
      "metadata": {
        "id": "_ClPvXhGdXWN"
      }
    },
    {
      "cell_type": "markdown",
      "source": [
        "## **Grades**"
      ],
      "metadata": {
        "id": "hEY1I01ndV6v"
      }
    },
    {
      "cell_type": "code",
      "source": [
        "grades <- factor(c(\"A\", \"B\", \"A\", \"C\"))\n",
        "print(levels(grades))"
      ],
      "metadata": {
        "colab": {
          "base_uri": "https://localhost:8080/"
        },
        "id": "DwVaznTPdeKj",
        "outputId": "6b8805da-86ff-4efb-9ea4-5aa762e3f6b5"
      },
      "execution_count": 160,
      "outputs": [
        {
          "output_type": "stream",
          "name": "stdout",
          "text": [
            "[1] \"A\" \"B\" \"C\"\n"
          ]
        }
      ]
    },
    {
      "cell_type": "markdown",
      "source": [
        "## **Reorder levels**"
      ],
      "metadata": {
        "id": "F1T-JkGRdgKH"
      }
    },
    {
      "cell_type": "code",
      "source": [
        "relevel(grades, ref=\"B\")"
      ],
      "metadata": {
        "colab": {
          "base_uri": "https://localhost:8080/",
          "height": 52
        },
        "id": "tNeItEKkdkQJ",
        "outputId": "fb927547-4e19-4683-e2ef-890a52b23e9a"
      },
      "execution_count": 161,
      "outputs": [
        {
          "output_type": "display_data",
          "data": {
            "text/html": [
              "<style>\n",
              ".list-inline {list-style: none; margin:0; padding: 0}\n",
              ".list-inline>li {display: inline-block}\n",
              ".list-inline>li:not(:last-child)::after {content: \"\\00b7\"; padding: 0 .5ex}\n",
              "</style>\n",
              "<ol class=list-inline><li>A</li><li>B</li><li>A</li><li>C</li></ol>\n",
              "\n",
              "<details>\n",
              "\t<summary style=display:list-item;cursor:pointer>\n",
              "\t\t<strong>Levels</strong>:\n",
              "\t</summary>\n",
              "\t<style>\n",
              "\t.list-inline {list-style: none; margin:0; padding: 0}\n",
              "\t.list-inline>li {display: inline-block}\n",
              "\t.list-inline>li:not(:last-child)::after {content: \"\\00b7\"; padding: 0 .5ex}\n",
              "\t</style>\n",
              "\t<ol class=list-inline><li>'B'</li><li>'A'</li><li>'C'</li></ol>\n",
              "</details>"
            ],
            "text/markdown": "1. A\n2. B\n3. A\n4. C\n\n\n\n**Levels**: 1. 'B'\n2. 'A'\n3. 'C'\n\n\n",
            "text/latex": "\\begin{enumerate*}\n\\item A\n\\item B\n\\item A\n\\item C\n\\end{enumerate*}\n\n\\emph{Levels}: \\begin{enumerate*}\n\\item 'B'\n\\item 'A'\n\\item 'C'\n\\end{enumerate*}\n",
            "text/plain": [
              "[1] A B A C\n",
              "Levels: B A C"
            ]
          },
          "metadata": {}
        }
      ]
    },
    {
      "cell_type": "markdown",
      "source": [
        "## Convert numeric to factor"
      ],
      "metadata": {
        "id": "Nwk4FhJIdnWt"
      }
    },
    {
      "cell_type": "code",
      "source": [
        "grouped <- cut(c(10, 20, 30), breaks=3)\n",
        "print(grouped)\n"
      ],
      "metadata": {
        "colab": {
          "base_uri": "https://localhost:8080/"
        },
        "id": "DBLO6gXHdsaB",
        "outputId": "a0ab8d53-088c-4695-f4c6-b45f63cf9f9f"
      },
      "execution_count": 162,
      "outputs": [
        {
          "output_type": "stream",
          "name": "stdout",
          "text": [
            "[1] (9.98,16.7] (16.7,23.3] (23.3,30]  \n",
            "Levels: (9.98,16.7] (16.7,23.3] (23.3,30]\n"
          ]
        }
      ]
    },
    {
      "cell_type": "markdown",
      "source": [
        "## **Convert to date**"
      ],
      "metadata": {
        "id": "piwXNJFtdr6q"
      }
    },
    {
      "cell_type": "code",
      "source": [
        "date1 <- as.Date(\"2025-02-05\")\n",
        "print(date1)"
      ],
      "metadata": {
        "colab": {
          "base_uri": "https://localhost:8080/"
        },
        "id": "rJwFs5zYdxaY",
        "outputId": "3732fa96-f47b-4a0e-a568-5b62e71af915"
      },
      "execution_count": 163,
      "outputs": [
        {
          "output_type": "stream",
          "name": "stdout",
          "text": [
            "[1] \"2025-02-05\"\n"
          ]
        }
      ]
    },
    {
      "cell_type": "markdown",
      "source": [
        "## **Convert to POSIX format**"
      ],
      "metadata": {
        "id": "vUF8CJlkdzNE"
      }
    },
    {
      "cell_type": "code",
      "source": [
        "datetime <- as.POSIXct(\"2025-02-05 10:30:00\")\n",
        "print(datetime)"
      ],
      "metadata": {
        "colab": {
          "base_uri": "https://localhost:8080/"
        },
        "id": "MeuGLDVBd1BV",
        "outputId": "2733814f-4238-4a56-b8bd-afab9ef3f704"
      },
      "execution_count": 164,
      "outputs": [
        {
          "output_type": "stream",
          "name": "stdout",
          "text": [
            "[1] \"2025-02-05 10:30:00 UTC\"\n"
          ]
        }
      ]
    },
    {
      "cell_type": "markdown",
      "source": [
        "## **Compute time difference**"
      ],
      "metadata": {
        "id": "QIL4B5Yed3ou"
      }
    },
    {
      "cell_type": "code",
      "source": [
        "diff <- difftime(Sys.Date(), as.Date(\"2025-01-01\"), units=\"days\")\n",
        "print(diff)"
      ],
      "metadata": {
        "colab": {
          "base_uri": "https://localhost:8080/"
        },
        "id": "tyAFeoRud5ab",
        "outputId": "4827eb01-d3eb-412b-b530-60048097e055"
      },
      "execution_count": 165,
      "outputs": [
        {
          "output_type": "stream",
          "name": "stdout",
          "text": [
            "Time difference of 86 days\n"
          ]
        }
      ]
    },
    {
      "cell_type": "markdown",
      "source": [
        "## **Format date**"
      ],
      "metadata": {
        "id": "wfLd7YArd7pe"
      }
    },
    {
      "cell_type": "code",
      "source": [
        "print(format(Sys.Date(), \"%d-%b-%Y\"))"
      ],
      "metadata": {
        "colab": {
          "base_uri": "https://localhost:8080/"
        },
        "id": "9jl9pZmxd9Yg",
        "outputId": "b8ac4af9-e3bf-4a83-e3bf-3f12dffab37f"
      },
      "execution_count": 166,
      "outputs": [
        {
          "output_type": "stream",
          "name": "stdout",
          "text": [
            "[1] \"28-Mar-2025\"\n"
          ]
        }
      ]
    },
    {
      "cell_type": "markdown",
      "source": [
        "## **List objects**\n"
      ],
      "metadata": {
        "id": "kd_iIEuIeAhz"
      }
    },
    {
      "cell_type": "code",
      "source": [
        "print(ls())"
      ],
      "metadata": {
        "colab": {
          "base_uri": "https://localhost:8080/"
        },
        "id": "YnuhXYsJeC_s",
        "outputId": "54a63e42-7d34-4a7f-ef56-cf4f4e117f5d"
      },
      "execution_count": 167,
      "outputs": [
        {
          "output_type": "stream",
          "name": "stdout",
          "text": [
            " [1] \"add_nums\"      \"arr\"           \"clean_v\"       \"date_val\"     \n",
            " [5] \"date1\"         \"datetime\"      \"df\"            \"df_sample\"    \n",
            " [9] \"df2\"           \"diff\"          \"exists\"        \"factors\"      \n",
            "[13] \"grades\"        \"grouped\"       \"i\"             \"idx\"          \n",
            "[17] \"idx_condition\" \"j\"             \"lst\"           \"mat\"          \n",
            "[21] \"mat1\"          \"match_idx\"     \"matches\"       \"merged_df\"    \n",
            "[25] \"nums\"          \"rep1\"          \"replaced_v\"    \"rev_v\"        \n",
            "[29] \"seq1\"          \"sorted_v\"      \"splitted\"      \"str_concat\"   \n",
            "[33] \"subset_df\"     \"unique_v\"      \"v\"             \"v_with_na\"    \n",
            "[37] \"x\"             \"y\"            \n"
          ]
        }
      ]
    },
    {
      "cell_type": "markdown",
      "source": [
        "## **Remove object**"
      ],
      "metadata": {
        "id": "odAgr5FPeEIF"
      }
    },
    {
      "cell_type": "code",
      "source": [
        "rm(x)"
      ],
      "metadata": {
        "id": "jP2xm8xfeItk"
      },
      "execution_count": 168,
      "outputs": []
    },
    {
      "cell_type": "markdown",
      "source": [
        "## **Garbage collection**"
      ],
      "metadata": {
        "id": "vbnX7Cn2eLhx"
      }
    },
    {
      "cell_type": "code",
      "source": [
        "gc()"
      ],
      "metadata": {
        "colab": {
          "base_uri": "https://localhost:8080/",
          "height": 129
        },
        "id": "zs3htk1UeOD6",
        "outputId": "421c1bde-0015-4be8-dd40-2f8d95ac3507"
      },
      "execution_count": 169,
      "outputs": [
        {
          "output_type": "display_data",
          "data": {
            "text/html": [
              "<table class=\"dataframe\">\n",
              "<caption>A matrix: 2 × 6 of type dbl</caption>\n",
              "<thead>\n",
              "\t<tr><th></th><th scope=col>used</th><th scope=col>(Mb)</th><th scope=col>gc trigger</th><th scope=col>(Mb)</th><th scope=col>max used</th><th scope=col>(Mb)</th></tr>\n",
              "</thead>\n",
              "<tbody>\n",
              "\t<tr><th scope=row>Ncells</th><td> 688193</td><td>36.8</td><td>1439690</td><td>76.9</td><td>1439690</td><td>76.9</td></tr>\n",
              "\t<tr><th scope=row>Vcells</th><td>1297486</td><td> 9.9</td><td>8388608</td><td>64.0</td><td>2205768</td><td>16.9</td></tr>\n",
              "</tbody>\n",
              "</table>\n"
            ],
            "text/markdown": "\nA matrix: 2 × 6 of type dbl\n\n| <!--/--> | used | (Mb) | gc trigger | (Mb) | max used | (Mb) |\n|---|---|---|---|---|---|---|\n| Ncells |  688193 | 36.8 | 1439690 | 76.9 | 1439690 | 76.9 |\n| Vcells | 1297486 |  9.9 | 8388608 | 64.0 | 2205768 | 16.9 |\n\n",
            "text/latex": "A matrix: 2 × 6 of type dbl\n\\begin{tabular}{r|llllll}\n  & used & (Mb) & gc trigger & (Mb) & max used & (Mb)\\\\\n\\hline\n\tNcells &  688193 & 36.8 & 1439690 & 76.9 & 1439690 & 76.9\\\\\n\tVcells & 1297486 &  9.9 & 8388608 & 64.0 & 2205768 & 16.9\\\\\n\\end{tabular}\n",
            "text/plain": [
              "       used    (Mb) gc trigger (Mb) max used (Mb)\n",
              "Ncells  688193 36.8 1439690    76.9 1439690  76.9\n",
              "Vcells 1297486  9.9 8388608    64.0 2205768  16.9"
            ]
          },
          "metadata": {}
        }
      ]
    },
    {
      "cell_type": "markdown",
      "source": [
        "## **Debugging**"
      ],
      "metadata": {
        "id": "Umsrl3FteQiA"
      }
    },
    {
      "cell_type": "code",
      "source": [
        "debug(add_nums)\n",
        "print(add_nums(5, 10))\n",
        "undebug(add_nums)\n"
      ],
      "metadata": {
        "colab": {
          "base_uri": "https://localhost:8080/"
        },
        "id": "tM5gwDVQeSWk",
        "outputId": "cbb20b4e-9277-4c8d-e151-8c38238efd1d"
      },
      "execution_count": 170,
      "outputs": [
        {
          "output_type": "stream",
          "name": "stdout",
          "text": [
            "debugging in: add_nums(5, 10)\n",
            "debug: {\n",
            "    return(a + b)\n",
            "}\n",
            "debug: return(a + b)\n",
            "exiting from: add_nums(5, 10)\n",
            "[1] 15\n"
          ]
        }
      ]
    },
    {
      "cell_type": "markdown",
      "source": [
        "## **Print output**"
      ],
      "metadata": {
        "id": "62wIVFBDeUdC"
      }
    },
    {
      "cell_type": "code",
      "source": [
        "print(\"Hello, World!\")\n",
        "cat(\"Hello, World!\\n\")"
      ],
      "metadata": {
        "colab": {
          "base_uri": "https://localhost:8080/"
        },
        "id": "B7ghir04eXVg",
        "outputId": "e71a1c7c-a804-4414-bbf4-d04223dc02c5"
      },
      "execution_count": 171,
      "outputs": [
        {
          "output_type": "stream",
          "name": "stdout",
          "text": [
            "[1] \"Hello, World!\"\n",
            "Hello, World!\n"
          ]
        }
      ]
    }
  ]
}