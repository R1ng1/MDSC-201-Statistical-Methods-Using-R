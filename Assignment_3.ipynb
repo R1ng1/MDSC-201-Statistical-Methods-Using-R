{
  "nbformat": 4,
  "nbformat_minor": 0,
  "metadata": {
    "colab": {
      "provenance": [],
      "authorship_tag": "ABX9TyMOFgQBIKQm0FQB+J2hgPj7",
      "include_colab_link": true
    },
    "kernelspec": {
      "name": "ir",
      "display_name": "R"
    },
    "language_info": {
      "name": "R"
    }
  },
  "cells": [
    {
      "cell_type": "markdown",
      "metadata": {
        "id": "view-in-github",
        "colab_type": "text"
      },
      "source": [
        "<a href=\"https://colab.research.google.com/github/R1ng1/MDSC-201-Statistical-Methods-Using-R/blob/main/Assignment_3.ipynb\" target=\"_parent\"><img src=\"https://colab.research.google.com/assets/colab-badge.svg\" alt=\"Open In Colab\"/></a>"
      ]
    },
    {
      "cell_type": "markdown",
      "source": [
        "# **R Functions**"
      ],
      "metadata": {
        "id": "CfC576Mrf3PX"
      }
    },
    {
      "cell_type": "markdown",
      "source": [
        "# **Fundamental operations and concepts in R programming**"
      ],
      "metadata": {
        "id": "-duf4mh2VrsF"
      }
    },
    {
      "cell_type": "markdown",
      "source": [
        "## **Creating a vector**"
      ],
      "metadata": {
        "id": "z33M_p4iWpZ-"
      }
    },
    {
      "cell_type": "code",
      "source": [
        "v <- c(10, 20, 30, 40, 50)\n",
        "print(v)\n"
      ],
      "metadata": {
        "colab": {
          "base_uri": "https://localhost:8080/"
        },
        "id": "Irit0jiEVmJL",
        "outputId": "1366a587-0437-4b60-9056-eadac72513b3"
      },
      "execution_count": 172,
      "outputs": [
        {
          "output_type": "stream",
          "name": "stdout",
          "text": [
            "[1] 10 20 30 40 50\n"
          ]
        }
      ]
    },
    {
      "cell_type": "markdown",
      "source": [
        "## **Generating sequences**"
      ],
      "metadata": {
        "id": "KbZLcUNWWzmI"
      }
    },
    {
      "cell_type": "code",
      "source": [
        "seq1 <- seq(1, 10, by=2)\n",
        "print(seq1)"
      ],
      "metadata": {
        "colab": {
          "base_uri": "https://localhost:8080/"
        },
        "id": "mKaOl0m2Wum9",
        "outputId": "0d0345ad-56b0-4331-f07d-f994ba828831"
      },
      "execution_count": 173,
      "outputs": [
        {
          "output_type": "stream",
          "name": "stdout",
          "text": [
            "[1] 1 3 5 7 9\n"
          ]
        }
      ]
    },
    {
      "cell_type": "markdown",
      "source": [
        "## **Repeating elements**"
      ],
      "metadata": {
        "id": "6WUfzD75WnaV"
      }
    },
    {
      "cell_type": "code",
      "source": [
        "rep1 <- rep(c(1, 2, 3), times=3)\n",
        "print(rep1)"
      ],
      "metadata": {
        "colab": {
          "base_uri": "https://localhost:8080/"
        },
        "id": "mr1CT1PjW17V",
        "outputId": "054e17bb-c24a-41f1-d7de-fe0085013934"
      },
      "execution_count": 174,
      "outputs": [
        {
          "output_type": "stream",
          "name": "stdout",
          "text": [
            "[1] 1 2 3 1 2 3 1 2 3\n"
          ]
        }
      ]
    },
    {
      "cell_type": "markdown",
      "source": [
        "## **Getting vector length**"
      ],
      "metadata": {
        "id": "Rr2c4QBgW_s0"
      }
    },
    {
      "cell_type": "code",
      "source": [
        "print(length(v))"
      ],
      "metadata": {
        "colab": {
          "base_uri": "https://localhost:8080/"
        },
        "id": "UAqv4Fe5W8bF",
        "outputId": "6866b85b-aeee-4d17-df6f-27c71e45a5f2"
      },
      "execution_count": 175,
      "outputs": [
        {
          "output_type": "stream",
          "name": "stdout",
          "text": [
            "[1] 5\n"
          ]
        }
      ]
    },
    {
      "cell_type": "markdown",
      "source": [
        "## **Sorting values**"
      ],
      "metadata": {
        "id": "r6BULK2tXFJp"
      }
    },
    {
      "cell_type": "code",
      "source": [
        "sorted_v <- sort(v, decreasing = TRUE)\n",
        "print(sorted_v)"
      ],
      "metadata": {
        "colab": {
          "base_uri": "https://localhost:8080/"
        },
        "id": "qimhQQb-XCAM",
        "outputId": "43ad1de9-1710-4410-b99a-6fe10deff8c2"
      },
      "execution_count": 176,
      "outputs": [
        {
          "output_type": "stream",
          "name": "stdout",
          "text": [
            "[1] 50 40 30 20 10\n"
          ]
        }
      ]
    },
    {
      "cell_type": "markdown",
      "source": [
        "## **Getting ordering index**"
      ],
      "metadata": {
        "id": "YncHOEtAXUCc"
      }
    },
    {
      "cell_type": "code",
      "source": [
        "idx <- order(v)\n",
        "print(idx)"
      ],
      "metadata": {
        "colab": {
          "base_uri": "https://localhost:8080/"
        },
        "id": "c1-PSa1vXRSS",
        "outputId": "f21e5870-8a9b-4fe2-ba0f-0a0c23793013"
      },
      "execution_count": 177,
      "outputs": [
        {
          "output_type": "stream",
          "name": "stdout",
          "text": [
            "[1] 1 2 3 4 5\n"
          ]
        }
      ]
    },
    {
      "cell_type": "markdown",
      "source": [
        "## **Reversing elements**"
      ],
      "metadata": {
        "id": "y71LKzKaXWEn"
      }
    },
    {
      "cell_type": "code",
      "source": [
        "rev_v <- rev(v)\n",
        "print(rev_v)"
      ],
      "metadata": {
        "colab": {
          "base_uri": "https://localhost:8080/"
        },
        "id": "uZXhVBMXXWw-",
        "outputId": "33015784-b061-4c47-a059-bb9a9a9ef712"
      },
      "execution_count": 178,
      "outputs": [
        {
          "output_type": "stream",
          "name": "stdout",
          "text": [
            "[1] 50 40 30 20 10\n"
          ]
        }
      ]
    },
    {
      "cell_type": "markdown",
      "source": [
        "## **Finding unique values**"
      ],
      "metadata": {
        "id": "3C2G9-UmXb2r"
      }
    },
    {
      "cell_type": "code",
      "source": [
        "unique_v <- unique(c(1, 2, 2, 3, 3, 3, 4))\n",
        "print(unique_v)"
      ],
      "metadata": {
        "colab": {
          "base_uri": "https://localhost:8080/"
        },
        "id": "Qmp70kWkXfbV",
        "outputId": "eeae8ee8-97a0-4ef5-8e29-7f794162a944"
      },
      "execution_count": 179,
      "outputs": [
        {
          "output_type": "stream",
          "name": "stdout",
          "text": [
            "[1] 1 2 3 4\n"
          ]
        }
      ]
    },
    {
      "cell_type": "markdown",
      "source": [
        "## **Frequency table**"
      ],
      "metadata": {
        "id": "3F4Zj9ZkXib7"
      }
    },
    {
      "cell_type": "code",
      "source": [
        "print(table(c(\"A\", \"B\", \"A\", \"C\", \"B\", \"A\")))\n"
      ],
      "metadata": {
        "colab": {
          "base_uri": "https://localhost:8080/"
        },
        "id": "LxCh9a4hXmLV",
        "outputId": "6c67e462-8b53-46ec-fe79-e6e6a995e990"
      },
      "execution_count": 180,
      "outputs": [
        {
          "output_type": "stream",
          "name": "stdout",
          "text": [
            "\n",
            "A B C \n",
            "3 2 1 \n"
          ]
        }
      ]
    },
    {
      "cell_type": "markdown",
      "source": [
        "## **Finding indices of matching values**\n"
      ],
      "metadata": {
        "id": "ezVTPIx7Xocn"
      }
    },
    {
      "cell_type": "code",
      "source": [
        "match_idx <- match(c(20, 40), v)\n",
        "print(match_idx)"
      ],
      "metadata": {
        "colab": {
          "base_uri": "https://localhost:8080/"
        },
        "id": "fWeCzi6qXsEG",
        "outputId": "20924d5e-2ddc-4242-c0cf-7c1d76eb8023"
      },
      "execution_count": 181,
      "outputs": [
        {
          "output_type": "stream",
          "name": "stdout",
          "text": [
            "[1] 2 4\n"
          ]
        }
      ]
    },
    {
      "cell_type": "markdown",
      "source": [
        "## **Checking if value exists**"
      ],
      "metadata": {
        "id": "Qi91DtzTXuQ4"
      }
    },
    {
      "cell_type": "code",
      "source": [
        "exists <- 30 %in% v\n",
        "print(exists)\n"
      ],
      "metadata": {
        "colab": {
          "base_uri": "https://localhost:8080/"
        },
        "id": "mM6rlWPMXwLY",
        "outputId": "64d6c929-124e-43d2-e830-47571507be70"
      },
      "execution_count": 182,
      "outputs": [
        {
          "output_type": "stream",
          "name": "stdout",
          "text": [
            "[1] TRUE\n"
          ]
        }
      ]
    },
    {
      "cell_type": "markdown",
      "source": [
        "## **Finding index of elements satisfying a condition**"
      ],
      "metadata": {
        "id": "R7wAJ1eTXzp3"
      }
    },
    {
      "cell_type": "code",
      "source": [
        "idx_condition <- which(v > 25)\n",
        "print(idx_condition)"
      ],
      "metadata": {
        "colab": {
          "base_uri": "https://localhost:8080/"
        },
        "id": "f5bLYDw4X10c",
        "outputId": "a667b3b3-b278-4b84-cb88-c73692262b61"
      },
      "execution_count": 183,
      "outputs": [
        {
          "output_type": "stream",
          "name": "stdout",
          "text": [
            "[1] 3 4 5\n"
          ]
        }
      ]
    },
    {
      "cell_type": "markdown",
      "source": [
        "## **Checking if any value is TRUE**\n"
      ],
      "metadata": {
        "id": "uslm8nZpX4U_"
      }
    },
    {
      "cell_type": "code",
      "source": [
        "print(any(v > 45))"
      ],
      "metadata": {
        "colab": {
          "base_uri": "https://localhost:8080/"
        },
        "id": "-G9NtbpjX4CX",
        "outputId": "02d926bb-33f9-4d7a-e15d-997c89f41742"
      },
      "execution_count": 184,
      "outputs": [
        {
          "output_type": "stream",
          "name": "stdout",
          "text": [
            "[1] TRUE\n"
          ]
        }
      ]
    },
    {
      "cell_type": "markdown",
      "source": [
        "## **Checking if all values are TRUE**"
      ],
      "metadata": {
        "id": "BcY1PqrkX-4w"
      }
    },
    {
      "cell_type": "code",
      "source": [
        "print(all(v > 5))"
      ],
      "metadata": {
        "colab": {
          "base_uri": "https://localhost:8080/"
        },
        "id": "1snjS0bOYCKL",
        "outputId": "e76b5332-a170-47ee-e843-acd7c71c0f45"
      },
      "execution_count": 185,
      "outputs": [
        {
          "output_type": "stream",
          "name": "stdout",
          "text": [
            "[1] TRUE\n"
          ]
        }
      ]
    },
    {
      "cell_type": "markdown",
      "source": [
        "## **Checking for missing values**"
      ],
      "metadata": {
        "id": "5hH8CxBFYGIg"
      }
    },
    {
      "cell_type": "code",
      "source": [
        "v_with_na <- c(10, 20, NA, 40)\n",
        "print(is.na(v_with_na))"
      ],
      "metadata": {
        "colab": {
          "base_uri": "https://localhost:8080/"
        },
        "id": "nrFfbKobYIM4",
        "outputId": "c4f8c74f-84f2-42ee-fff1-0fd394b2c7e5"
      },
      "execution_count": 186,
      "outputs": [
        {
          "output_type": "stream",
          "name": "stdout",
          "text": [
            "[1] FALSE FALSE  TRUE FALSE\n"
          ]
        }
      ]
    },
    {
      "cell_type": "markdown",
      "source": [
        "## **Removing NA values**"
      ],
      "metadata": {
        "id": "PXpCHXamYK4b"
      }
    },
    {
      "cell_type": "code",
      "source": [
        "clean_v <- na.omit(v_with_na)\n",
        "print(clean_v)"
      ],
      "metadata": {
        "colab": {
          "base_uri": "https://localhost:8080/"
        },
        "id": "9qRPHSo6YOQu",
        "outputId": "a4524fe3-a558-4ba7-e801-dd3d4aaef3cd"
      },
      "execution_count": 187,
      "outputs": [
        {
          "output_type": "stream",
          "name": "stdout",
          "text": [
            "[1] 10 20 40\n",
            "attr(,\"na.action\")\n",
            "[1] 3\n",
            "attr(,\"class\")\n",
            "[1] \"omit\"\n"
          ]
        }
      ]
    },
    {
      "cell_type": "markdown",
      "source": [
        "## **Replacing values**"
      ],
      "metadata": {
        "id": "PvHPj4y9YN2D"
      }
    },
    {
      "cell_type": "code",
      "source": [
        "replaced_v <- replace(v, v == 20, 100)\n",
        "print(replaced_v)"
      ],
      "metadata": {
        "colab": {
          "base_uri": "https://localhost:8080/"
        },
        "id": "BqxmUXDlYTjt",
        "outputId": "431ff737-fecc-4ec0-f02b-edbb149170b6"
      },
      "execution_count": 188,
      "outputs": [
        {
          "output_type": "stream",
          "name": "stdout",
          "text": [
            "[1]  10 100  30  40  50\n"
          ]
        }
      ]
    },
    {
      "cell_type": "markdown",
      "source": [
        "## **Concatenating strings**"
      ],
      "metadata": {
        "id": "C3FoCihfYXFv"
      }
    },
    {
      "cell_type": "code",
      "source": [
        "str_concat <- paste(\"Hello\", \"World\", sep=\" \")\n",
        "print(str_concat)"
      ],
      "metadata": {
        "colab": {
          "base_uri": "https://localhost:8080/"
        },
        "id": "9ZQ7vJodYZjG",
        "outputId": "f69f47f1-2a5c-4b58-8c25-df33bd865b09"
      },
      "execution_count": 189,
      "outputs": [
        {
          "output_type": "stream",
          "name": "stdout",
          "text": [
            "[1] \"Hello World\"\n"
          ]
        }
      ]
    },
    {
      "cell_type": "markdown",
      "source": [
        "## **Concatenating without spaces**"
      ],
      "metadata": {
        "id": "qNF9ocL5YccN"
      }
    },
    {
      "cell_type": "code",
      "source": [
        "print(paste0(\"Hello\", \"World\"))\n"
      ],
      "metadata": {
        "colab": {
          "base_uri": "https://localhost:8080/"
        },
        "id": "X_qmSXafYfXb",
        "outputId": "410c981e-e869-4382-8649-96f8132ca80a"
      },
      "execution_count": 190,
      "outputs": [
        {
          "output_type": "stream",
          "name": "stdout",
          "text": [
            "[1] \"HelloWorld\"\n"
          ]
        }
      ]
    },
    {
      "cell_type": "markdown",
      "source": [
        "## **Convert to uppercase**"
      ],
      "metadata": {
        "id": "XygDMW4pYixP"
      }
    },
    {
      "cell_type": "code",
      "source": [
        "print(toupper(\"hello\"))\n"
      ],
      "metadata": {
        "colab": {
          "base_uri": "https://localhost:8080/"
        },
        "id": "aHx9_zQUYlGE",
        "outputId": "b2d62a14-cef6-43fd-af72-78f071fe7d83"
      },
      "execution_count": 191,
      "outputs": [
        {
          "output_type": "stream",
          "name": "stdout",
          "text": [
            "[1] \"HELLO\"\n"
          ]
        }
      ]
    },
    {
      "cell_type": "markdown",
      "source": [
        "## **Convert to lowercase**"
      ],
      "metadata": {
        "id": "kIFpLj1aYoGh"
      }
    },
    {
      "cell_type": "code",
      "source": [
        "print(tolower(\"HELLO\"))"
      ],
      "metadata": {
        "colab": {
          "base_uri": "https://localhost:8080/"
        },
        "id": "mwkTPplrYqsn",
        "outputId": "bd5a79ab-1cb2-4634-f4fa-212be8c99669"
      },
      "execution_count": 192,
      "outputs": [
        {
          "output_type": "stream",
          "name": "stdout",
          "text": [
            "[1] \"hello\"\n"
          ]
        }
      ]
    },
    {
      "cell_type": "markdown",
      "source": [
        "## **Extract substring**"
      ],
      "metadata": {
        "id": "uO48ClS2Yski"
      }
    },
    {
      "cell_type": "code",
      "source": [
        "print(substr(\"HelloWorld\", 1, 5))"
      ],
      "metadata": {
        "colab": {
          "base_uri": "https://localhost:8080/"
        },
        "id": "gOMsXT_eYu6x",
        "outputId": "9a056fd2-a8a3-407a-d70c-e82a700b4f50"
      },
      "execution_count": 193,
      "outputs": [
        {
          "output_type": "stream",
          "name": "stdout",
          "text": [
            "[1] \"Hello\"\n"
          ]
        }
      ]
    },
    {
      "cell_type": "markdown",
      "source": [
        "## **Pattern matching**"
      ],
      "metadata": {
        "id": "okbcoq_BYxzD"
      }
    },
    {
      "cell_type": "code",
      "source": [
        "matches <- grep(\"e\", c(\"apple\", \"banana\", \"cherry\"), value=TRUE)\n",
        "print(matches)\n"
      ],
      "metadata": {
        "colab": {
          "base_uri": "https://localhost:8080/"
        },
        "id": "OvzpOEHkY1oh",
        "outputId": "2fe646b3-051b-4c6a-8fa0-c4a103e8ca1b"
      },
      "execution_count": 194,
      "outputs": [
        {
          "output_type": "stream",
          "name": "stdout",
          "text": [
            "[1] \"apple\"  \"cherry\"\n"
          ]
        }
      ]
    },
    {
      "cell_type": "markdown",
      "source": [
        "## **Replace pattern**"
      ],
      "metadata": {
        "id": "RBY2QDtPY3A7"
      }
    },
    {
      "cell_type": "code",
      "source": [
        "print(gsub(\"a\", \"@\", \"banana\"))"
      ],
      "metadata": {
        "colab": {
          "base_uri": "https://localhost:8080/"
        },
        "id": "yhGe5qe-Y5xP",
        "outputId": "7a436f01-175f-462f-8970-bf8af1bb4b98"
      },
      "execution_count": 195,
      "outputs": [
        {
          "output_type": "stream",
          "name": "stdout",
          "text": [
            "[1] \"b@n@n@\"\n"
          ]
        }
      ]
    },
    {
      "cell_type": "markdown",
      "source": [
        "## **Split strings**"
      ],
      "metadata": {
        "id": "W_5zCRPXY8FZ"
      }
    },
    {
      "cell_type": "code",
      "source": [
        "splitted <- strsplit(\"a,b,c\", \",\")\n",
        "print(splitted)"
      ],
      "metadata": {
        "colab": {
          "base_uri": "https://localhost:8080/"
        },
        "id": "Y6eQrtufY_dv",
        "outputId": "bea9b562-63a4-4580-cd73-726118955313"
      },
      "execution_count": 196,
      "outputs": [
        {
          "output_type": "stream",
          "name": "stdout",
          "text": [
            "[[1]]\n",
            "[1] \"a\" \"b\" \"c\"\n",
            "\n"
          ]
        }
      ]
    },
    {
      "cell_type": "markdown",
      "source": [
        "## **Convert to numeric**"
      ],
      "metadata": {
        "id": "gDKLBU6PZCB_"
      }
    },
    {
      "cell_type": "code",
      "source": [
        "print(as.numeric(\"123\"))"
      ],
      "metadata": {
        "colab": {
          "base_uri": "https://localhost:8080/"
        },
        "id": "wmju2YpdZD75",
        "outputId": "5fe51af7-9bed-4706-912c-df0a58c5b9b2"
      },
      "execution_count": 197,
      "outputs": [
        {
          "output_type": "stream",
          "name": "stdout",
          "text": [
            "[1] 123\n"
          ]
        }
      ]
    },
    {
      "cell_type": "markdown",
      "source": [
        "## **Convert to character**"
      ],
      "metadata": {
        "id": "nXAgMWUSZKHM"
      }
    },
    {
      "cell_type": "code",
      "source": [
        "print(as.character(123))"
      ],
      "metadata": {
        "colab": {
          "base_uri": "https://localhost:8080/"
        },
        "id": "wRqaasugZLvN",
        "outputId": "bd171a25-ffe4-4eb4-f3a0-e7e8e4295b84"
      },
      "execution_count": 198,
      "outputs": [
        {
          "output_type": "stream",
          "name": "stdout",
          "text": [
            "[1] \"123\"\n"
          ]
        }
      ]
    },
    {
      "cell_type": "markdown",
      "source": [
        "## **Convert to factor**"
      ],
      "metadata": {
        "id": "K62D5m_hZO3x"
      }
    },
    {
      "cell_type": "code",
      "source": [
        "factors <- as.factor(c(\"Low\", \"Medium\", \"High\"))\n",
        "print(factors)"
      ],
      "metadata": {
        "colab": {
          "base_uri": "https://localhost:8080/"
        },
        "id": "dnOYpM5SZR5t",
        "outputId": "619be0b7-2b66-4143-d22f-878902f01de7"
      },
      "execution_count": 199,
      "outputs": [
        {
          "output_type": "stream",
          "name": "stdout",
          "text": [
            "[1] Low    Medium High  \n",
            "Levels: High Low Medium\n"
          ]
        }
      ]
    },
    {
      "cell_type": "markdown",
      "source": [
        "## **Convert to date**\n"
      ],
      "metadata": {
        "id": "CqmxLLqwZUYf"
      }
    },
    {
      "cell_type": "code",
      "source": [
        "date_val <- as.Date(\"2024-02-05\")\n",
        "print(date_val)"
      ],
      "metadata": {
        "colab": {
          "base_uri": "https://localhost:8080/"
        },
        "id": "4nCjZ0hcZWOS",
        "outputId": "369981ce-69d3-4f1c-e0dc-2af402148b8e"
      },
      "execution_count": 200,
      "outputs": [
        {
          "output_type": "stream",
          "name": "stdout",
          "text": [
            "[1] \"2024-02-05\"\n"
          ]
        }
      ]
    },
    {
      "cell_type": "markdown",
      "source": [
        "## **Get current date**"
      ],
      "metadata": {
        "id": "84-eHxOYZZKl"
      }
    },
    {
      "cell_type": "code",
      "source": [
        "print(Sys.Date())"
      ],
      "metadata": {
        "colab": {
          "base_uri": "https://localhost:8080/"
        },
        "id": "t_OEoMdyZbl-",
        "outputId": "94080b1e-ce00-4e65-cb1c-8f502ce46e43"
      },
      "execution_count": 201,
      "outputs": [
        {
          "output_type": "stream",
          "name": "stdout",
          "text": [
            "[1] \"2025-03-28\"\n"
          ]
        }
      ]
    },
    {
      "cell_type": "markdown",
      "source": [
        "## **Array**"
      ],
      "metadata": {
        "id": "9hg1AA3lZhSz"
      }
    },
    {
      "cell_type": "code",
      "source": [
        "nums <- c(10, 20, 30, 40)"
      ],
      "metadata": {
        "id": "tn5WZUimZi5s"
      },
      "execution_count": 202,
      "outputs": []
    },
    {
      "cell_type": "markdown",
      "source": [
        "## **Sum**"
      ],
      "metadata": {
        "id": "vHTiGIN1Zqvp"
      }
    },
    {
      "cell_type": "code",
      "source": [
        "print(sum(nums))"
      ],
      "metadata": {
        "colab": {
          "base_uri": "https://localhost:8080/"
        },
        "id": "yN1KbbnlZttS",
        "outputId": "e756fabd-af69-409a-8703-fd1341db9d99"
      },
      "execution_count": 203,
      "outputs": [
        {
          "output_type": "stream",
          "name": "stdout",
          "text": [
            "[1] 100\n"
          ]
        }
      ]
    },
    {
      "cell_type": "markdown",
      "source": [
        "## **Product**"
      ],
      "metadata": {
        "id": "TqdzBhIZZwN9"
      }
    },
    {
      "cell_type": "code",
      "source": [
        "print(prod(nums))"
      ],
      "metadata": {
        "colab": {
          "base_uri": "https://localhost:8080/"
        },
        "id": "5xYsQpg2ZyY9",
        "outputId": "c5e651b2-39e8-47eb-8512-5a3503c96dc3"
      },
      "execution_count": 204,
      "outputs": [
        {
          "output_type": "stream",
          "name": "stdout",
          "text": [
            "[1] 240000\n"
          ]
        }
      ]
    },
    {
      "cell_type": "markdown",
      "source": [
        "## **Cumulative sum**"
      ],
      "metadata": {
        "id": "3K8Rtm0yZ0cx"
      }
    },
    {
      "cell_type": "code",
      "source": [
        "print(cumsum(nums))\n"
      ],
      "metadata": {
        "colab": {
          "base_uri": "https://localhost:8080/"
        },
        "id": "rbvyEfvxZ2Iv",
        "outputId": "6aa0ff30-192b-4166-a921-8c14a959fc61"
      },
      "execution_count": 205,
      "outputs": [
        {
          "output_type": "stream",
          "name": "stdout",
          "text": [
            "[1]  10  30  60 100\n"
          ]
        }
      ]
    },
    {
      "cell_type": "markdown",
      "source": [
        "## **Cumulative product**"
      ],
      "metadata": {
        "id": "qA9bGm6uZ4ix"
      }
    },
    {
      "cell_type": "code",
      "source": [
        "print(cumprod(nums))"
      ],
      "metadata": {
        "colab": {
          "base_uri": "https://localhost:8080/"
        },
        "id": "eWGDXbb9Z9zO",
        "outputId": "0954c243-ae53-4392-eb1d-cf65456fd333"
      },
      "execution_count": 206,
      "outputs": [
        {
          "output_type": "stream",
          "name": "stdout",
          "text": [
            "[1]     10    200   6000 240000\n"
          ]
        }
      ]
    },
    {
      "cell_type": "markdown",
      "source": [
        "## **Mean**"
      ],
      "metadata": {
        "id": "mts4bKbkZ_Ix"
      }
    },
    {
      "cell_type": "code",
      "source": [
        "print(mean(nums))"
      ],
      "metadata": {
        "colab": {
          "base_uri": "https://localhost:8080/"
        },
        "id": "oI24_lbeaEIK",
        "outputId": "ee7a1cfc-21be-42de-f4d0-cab28fc5471a"
      },
      "execution_count": 207,
      "outputs": [
        {
          "output_type": "stream",
          "name": "stdout",
          "text": [
            "[1] 25\n"
          ]
        }
      ]
    },
    {
      "cell_type": "markdown",
      "source": [
        "## **Median**"
      ],
      "metadata": {
        "id": "lTDZF4FiaFXZ"
      }
    },
    {
      "cell_type": "code",
      "source": [
        "print(median(nums))\n"
      ],
      "metadata": {
        "colab": {
          "base_uri": "https://localhost:8080/"
        },
        "id": "FNJcyW9zaHMG",
        "outputId": "a601d280-6d8b-4e5a-e8df-817d21099317"
      },
      "execution_count": 208,
      "outputs": [
        {
          "output_type": "stream",
          "name": "stdout",
          "text": [
            "[1] 25\n"
          ]
        }
      ]
    },
    {
      "cell_type": "markdown",
      "source": [
        "## **Minimum**"
      ],
      "metadata": {
        "id": "dKz2zRrKaJQX"
      }
    },
    {
      "cell_type": "code",
      "source": [
        "print(min(nums))"
      ],
      "metadata": {
        "colab": {
          "base_uri": "https://localhost:8080/"
        },
        "id": "lS2PPGZUaK3G",
        "outputId": "a338ebef-ac34-47b5-a83c-524b4bc62a5b"
      },
      "execution_count": 209,
      "outputs": [
        {
          "output_type": "stream",
          "name": "stdout",
          "text": [
            "[1] 10\n"
          ]
        }
      ]
    },
    {
      "cell_type": "markdown",
      "source": [
        "# Maximum"
      ],
      "metadata": {
        "id": "nVqJokOuaMyp"
      }
    },
    {
      "cell_type": "code",
      "source": [
        "print(max(nums))"
      ],
      "metadata": {
        "colab": {
          "base_uri": "https://localhost:8080/"
        },
        "id": "RmYxmnSSaOhX",
        "outputId": "19ebb5ac-287d-4369-f511-828d9112f13b"
      },
      "execution_count": 210,
      "outputs": [
        {
          "output_type": "stream",
          "name": "stdout",
          "text": [
            "[1] 40\n"
          ]
        }
      ]
    },
    {
      "cell_type": "markdown",
      "source": [
        "## **Range**"
      ],
      "metadata": {
        "id": "hot3oU0UaQdk"
      }
    },
    {
      "cell_type": "code",
      "source": [
        "print(range(nums))"
      ],
      "metadata": {
        "colab": {
          "base_uri": "https://localhost:8080/"
        },
        "id": "DY9KLB4JaSiB",
        "outputId": "980abd87-c29c-439d-8648-45c8a28d9143"
      },
      "execution_count": 211,
      "outputs": [
        {
          "output_type": "stream",
          "name": "stdout",
          "text": [
            "[1] 10 40\n"
          ]
        }
      ]
    },
    {
      "cell_type": "markdown",
      "source": [
        "## **Variance**"
      ],
      "metadata": {
        "id": "bOlMwtN3aUuh"
      }
    },
    {
      "cell_type": "code",
      "source": [
        "print(var(nums))\n"
      ],
      "metadata": {
        "colab": {
          "base_uri": "https://localhost:8080/"
        },
        "id": "kAENfBmFaYHn",
        "outputId": "205c2938-004e-4b85-85ea-b32a251b6270"
      },
      "execution_count": 212,
      "outputs": [
        {
          "output_type": "stream",
          "name": "stdout",
          "text": [
            "[1] 166.6667\n"
          ]
        }
      ]
    },
    {
      "cell_type": "markdown",
      "source": [
        "## **Standard deviation**"
      ],
      "metadata": {
        "id": "W-eAx5VcaZvA"
      }
    },
    {
      "cell_type": "code",
      "source": [
        "print(sd(nums))"
      ],
      "metadata": {
        "colab": {
          "base_uri": "https://localhost:8080/"
        },
        "id": "AuugD60DadP2",
        "outputId": "52010403-48b0-4fa0-ae16-09f7c0d46c05"
      },
      "execution_count": 213,
      "outputs": [
        {
          "output_type": "stream",
          "name": "stdout",
          "text": [
            "[1] 12.90994\n"
          ]
        }
      ]
    },
    {
      "cell_type": "markdown",
      "source": [
        "## **Compute quantiles**"
      ],
      "metadata": {
        "id": "cBLDiuJAaezZ"
      }
    },
    {
      "cell_type": "code",
      "source": [
        "print(quantile(nums, probs = c(0.25, 0.5, 0.75)))\n"
      ],
      "metadata": {
        "colab": {
          "base_uri": "https://localhost:8080/"
        },
        "id": "2VsFVTy3agpt",
        "outputId": "f2e39f86-3c39-413f-a6cd-b806bded6b59"
      },
      "execution_count": 214,
      "outputs": [
        {
          "output_type": "stream",
          "name": "stdout",
          "text": [
            " 25%  50%  75% \n",
            "17.5 25.0 32.5 \n"
          ]
        }
      ]
    },
    {
      "cell_type": "markdown",
      "source": [
        "## **Round values**"
      ],
      "metadata": {
        "id": "EhEDM156ai8o"
      }
    },
    {
      "cell_type": "code",
      "source": [
        "print(round(3.14159, 2))"
      ],
      "metadata": {
        "colab": {
          "base_uri": "https://localhost:8080/"
        },
        "id": "sRlLgORFamCM",
        "outputId": "b6322198-d023-4dfa-e09a-6c5961e5dbb1"
      },
      "execution_count": 215,
      "outputs": [
        {
          "output_type": "stream",
          "name": "stdout",
          "text": [
            "[1] 3.14\n"
          ]
        }
      ]
    },
    {
      "cell_type": "markdown",
      "source": [
        "## **Ceiling**"
      ],
      "metadata": {
        "id": "VGv1r_gHaoCa"
      }
    },
    {
      "cell_type": "code",
      "source": [
        "print(ceiling(3.6))"
      ],
      "metadata": {
        "colab": {
          "base_uri": "https://localhost:8080/"
        },
        "id": "IH0Cx6Aoapv7",
        "outputId": "d90b4911-aa77-4feb-c946-d2ca570afdde"
      },
      "execution_count": 216,
      "outputs": [
        {
          "output_type": "stream",
          "name": "stdout",
          "text": [
            "[1] 4\n"
          ]
        }
      ]
    },
    {
      "cell_type": "markdown",
      "source": [
        "## **Floor**"
      ],
      "metadata": {
        "id": "kb6WAJG2astY"
      }
    },
    {
      "cell_type": "code",
      "source": [
        "print(floor(3.6))"
      ],
      "metadata": {
        "colab": {
          "base_uri": "https://localhost:8080/"
        },
        "id": "Ul1Foqesavl-",
        "outputId": "1194ca37-852a-45e7-c982-e33e4daaba77"
      },
      "execution_count": 217,
      "outputs": [
        {
          "output_type": "stream",
          "name": "stdout",
          "text": [
            "[1] 3\n"
          ]
        }
      ]
    },
    {
      "cell_type": "markdown",
      "source": [
        "## **Absolute value**\n"
      ],
      "metadata": {
        "id": "W7CX5d1Raz7l"
      }
    },
    {
      "cell_type": "code",
      "source": [
        "print(abs(-10))\n"
      ],
      "metadata": {
        "colab": {
          "base_uri": "https://localhost:8080/"
        },
        "id": "oO7V9sARa18J",
        "outputId": "be019b13-41a1-4c8c-b172-d1b24c5ed490"
      },
      "execution_count": 218,
      "outputs": [
        {
          "output_type": "stream",
          "name": "stdout",
          "text": [
            "[1] 10\n"
          ]
        }
      ]
    },
    {
      "cell_type": "markdown",
      "source": [
        "## **Square root**"
      ],
      "metadata": {
        "id": "HJpQUTqOa6Fs"
      }
    },
    {
      "cell_type": "code",
      "source": [
        "print(sqrt(25))"
      ],
      "metadata": {
        "colab": {
          "base_uri": "https://localhost:8080/"
        },
        "id": "5t1LCVPMa8rw",
        "outputId": "b899d187-d4d5-48b2-9255-f46eb2dd34be"
      },
      "execution_count": 219,
      "outputs": [
        {
          "output_type": "stream",
          "name": "stdout",
          "text": [
            "[1] 5\n"
          ]
        }
      ]
    },
    {
      "cell_type": "markdown",
      "source": [
        "## **Natural logarithm**"
      ],
      "metadata": {
        "id": "CIKCcXTLa-Ir"
      }
    },
    {
      "cell_type": "code",
      "source": [
        "print(log(10))"
      ],
      "metadata": {
        "colab": {
          "base_uri": "https://localhost:8080/"
        },
        "id": "QmRsMO2gbAWd",
        "outputId": "bc811d22-9498-43ed-cf52-58751cafc418"
      },
      "execution_count": 220,
      "outputs": [
        {
          "output_type": "stream",
          "name": "stdout",
          "text": [
            "[1] 2.302585\n"
          ]
        }
      ]
    },
    {
      "cell_type": "markdown",
      "source": [
        "## **Exponential function**"
      ],
      "metadata": {
        "id": "i-7ekbOAbCW9"
      }
    },
    {
      "cell_type": "code",
      "source": [
        "print(exp(2))\n"
      ],
      "metadata": {
        "colab": {
          "base_uri": "https://localhost:8080/"
        },
        "id": "kfXQ_ynObE-u",
        "outputId": "11124e38-5afd-4f0a-99a5-388a0c090721"
      },
      "execution_count": 221,
      "outputs": [
        {
          "output_type": "stream",
          "name": "stdout",
          "text": [
            "[1] 7.389056\n"
          ]
        }
      ]
    },
    {
      "cell_type": "markdown",
      "source": [
        "## **Factorial**"
      ],
      "metadata": {
        "id": "illlAwVBbHQb"
      }
    },
    {
      "cell_type": "code",
      "source": [
        "print(factorial(5))"
      ],
      "metadata": {
        "colab": {
          "base_uri": "https://localhost:8080/"
        },
        "id": "bMw35pAxbJGt",
        "outputId": "32f83208-1e2b-4260-d1d8-de56e3b867db"
      },
      "execution_count": 222,
      "outputs": [
        {
          "output_type": "stream",
          "name": "stdout",
          "text": [
            "[1] 120\n"
          ]
        }
      ]
    },
    {
      "cell_type": "markdown",
      "source": [
        "## **Binomial coefficient**"
      ],
      "metadata": {
        "id": "fgqtZKKJbLOE"
      }
    },
    {
      "cell_type": "code",
      "source": [
        "print(choose(5, 2))"
      ],
      "metadata": {
        "colab": {
          "base_uri": "https://localhost:8080/"
        },
        "id": "IYFOQtmubNBm",
        "outputId": "dadb4fac-03ef-4e48-81cf-db251a938682"
      },
      "execution_count": 223,
      "outputs": [
        {
          "output_type": "stream",
          "name": "stdout",
          "text": [
            "[1] 10\n"
          ]
        }
      ]
    },
    {
      "cell_type": "markdown",
      "source": [
        "## **Trigonometric functions**"
      ],
      "metadata": {
        "id": "fAMkTeoibPPg"
      }
    },
    {
      "cell_type": "code",
      "source": [
        "print(sin(pi/2))\n",
        "print(cos(0))\n",
        "print(tan(pi/4))"
      ],
      "metadata": {
        "colab": {
          "base_uri": "https://localhost:8080/"
        },
        "id": "q7dKjjv5bSTF",
        "outputId": "8a4d3fe0-95c4-4ceb-ef02-0222cdd5e682"
      },
      "execution_count": 224,
      "outputs": [
        {
          "output_type": "stream",
          "name": "stdout",
          "text": [
            "[1] 1\n",
            "[1] 1\n",
            "[1] 1\n"
          ]
        }
      ]
    },
    {
      "cell_type": "markdown",
      "source": [
        "## **Correlation coefficient**"
      ],
      "metadata": {
        "id": "rjCE_s06bUBn"
      }
    },
    {
      "cell_type": "code",
      "source": [
        "x <- c(1, 2, 3, 4, 5)\n",
        "y <- c(2, 4, 6, 8, 10)\n",
        "print(cor(x, y))"
      ],
      "metadata": {
        "colab": {
          "base_uri": "https://localhost:8080/"
        },
        "id": "sFpkHcPDbXWh",
        "outputId": "d16e3231-23e3-402d-b242-340a8567bfde"
      },
      "execution_count": 225,
      "outputs": [
        {
          "output_type": "stream",
          "name": "stdout",
          "text": [
            "[1] 1\n"
          ]
        }
      ]
    },
    {
      "cell_type": "markdown",
      "source": [
        "## **Covariance**"
      ],
      "metadata": {
        "id": "rA0MlzyubYdj"
      }
    },
    {
      "cell_type": "code",
      "source": [
        "print(cov(x, y))"
      ],
      "metadata": {
        "colab": {
          "base_uri": "https://localhost:8080/"
        },
        "id": "xHEE2xVUbaxI",
        "outputId": "f84bccb8-f8e6-452b-ff16-5f4b2dd91402"
      },
      "execution_count": 226,
      "outputs": [
        {
          "output_type": "stream",
          "name": "stdout",
          "text": [
            "[1] 5\n"
          ]
        }
      ]
    },
    {
      "cell_type": "markdown",
      "source": [
        "## **Creating data structures**"
      ],
      "metadata": {
        "id": "OStEOeFNbdSh"
      }
    },
    {
      "cell_type": "code",
      "source": [
        "df <- data.frame(Name=c(\"A\", \"B\", \"C\"), Score=c(90, 85, 88))\n",
        "print(df)\n",
        "\n",
        "lst <- list(Name=\"John\", Age=25)\n",
        "print(lst)\n",
        "\n",
        "mat <- matrix(1:9, nrow=3)\n",
        "print(mat)\n",
        "\n",
        "arr <- array(1:12, dim=c(2,2,3))\n",
        "print(arr)"
      ],
      "metadata": {
        "colab": {
          "base_uri": "https://localhost:8080/"
        },
        "id": "5meyNdw5bgWr",
        "outputId": "ee085a7e-c9a4-429a-b524-1f89586dce1e"
      },
      "execution_count": 227,
      "outputs": [
        {
          "output_type": "stream",
          "name": "stdout",
          "text": [
            "  Name Score\n",
            "1    A    90\n",
            "2    B    85\n",
            "3    C    88\n",
            "$Name\n",
            "[1] \"John\"\n",
            "\n",
            "$Age\n",
            "[1] 25\n",
            "\n",
            "     [,1] [,2] [,3]\n",
            "[1,]    1    4    7\n",
            "[2,]    2    5    8\n",
            "[3,]    3    6    9\n",
            ", , 1\n",
            "\n",
            "     [,1] [,2]\n",
            "[1,]    1    3\n",
            "[2,]    2    4\n",
            "\n",
            ", , 2\n",
            "\n",
            "     [,1] [,2]\n",
            "[1,]    5    7\n",
            "[2,]    6    8\n",
            "\n",
            ", , 3\n",
            "\n",
            "     [,1] [,2]\n",
            "[1,]    9   11\n",
            "[2,]   10   12\n",
            "\n"
          ]
        }
      ]
    },
    {
      "cell_type": "markdown",
      "source": [
        "## **Transpose matrix**"
      ],
      "metadata": {
        "id": "lvG9AFyibiDN"
      }
    },
    {
      "cell_type": "code",
      "source": [
        "print(t(mat))"
      ],
      "metadata": {
        "colab": {
          "base_uri": "https://localhost:8080/"
        },
        "id": "Eni8B_RSbkMD",
        "outputId": "ac7f761d-162f-4e65-f0ad-d430289bfb1b"
      },
      "execution_count": 228,
      "outputs": [
        {
          "output_type": "stream",
          "name": "stdout",
          "text": [
            "     [,1] [,2] [,3]\n",
            "[1,]    1    2    3\n",
            "[2,]    4    5    6\n",
            "[3,]    7    8    9\n"
          ]
        }
      ]
    },
    {
      "cell_type": "markdown",
      "source": [
        "## **Row and Column binding**"
      ],
      "metadata": {
        "id": "ArriTiehbmCB"
      }
    },
    {
      "cell_type": "code",
      "source": [
        "mat1 <- matrix(1:6, nrow=2)\n",
        "print(rbind(mat1, c(7,8,9)))\n",
        "print(cbind(mat1, c(10,11)))\n"
      ],
      "metadata": {
        "colab": {
          "base_uri": "https://localhost:8080/"
        },
        "id": "85-EWtE-bpf4",
        "outputId": "44829514-b505-448b-d4f2-ec9ee1941b00"
      },
      "execution_count": 229,
      "outputs": [
        {
          "output_type": "stream",
          "name": "stdout",
          "text": [
            "     [,1] [,2] [,3]\n",
            "[1,]    1    3    5\n",
            "[2,]    2    4    6\n",
            "[3,]    7    8    9\n",
            "     [,1] [,2] [,3] [,4]\n",
            "[1,]    1    3    5   10\n",
            "[2,]    2    4    6   11\n"
          ]
        }
      ]
    },
    {
      "cell_type": "markdown",
      "source": [
        "## **Get dimensions**"
      ],
      "metadata": {
        "id": "lRFI5-LdbrxG"
      }
    },
    {
      "cell_type": "code",
      "source": [
        "print(dim(df))"
      ],
      "metadata": {
        "colab": {
          "base_uri": "https://localhost:8080/"
        },
        "id": "7MEFQxfwbtq3",
        "outputId": "30c4bf1b-e4ea-40ff-a2e4-b6f87e83abfa"
      },
      "execution_count": 230,
      "outputs": [
        {
          "output_type": "stream",
          "name": "stdout",
          "text": [
            "[1] 3 2\n"
          ]
        }
      ]
    },
    {
      "cell_type": "markdown",
      "source": [
        "## **Number of rows & columns**"
      ],
      "metadata": {
        "id": "CqD3X6xkbwKs"
      }
    },
    {
      "cell_type": "code",
      "source": [
        "print(nrow(df))\n",
        "print(ncol(df))\n"
      ],
      "metadata": {
        "colab": {
          "base_uri": "https://localhost:8080/"
        },
        "id": "vaqSCpuYbxub",
        "outputId": "1b561d58-0a99-478e-b91e-932a16cbd83c"
      },
      "execution_count": 231,
      "outputs": [
        {
          "output_type": "stream",
          "name": "stdout",
          "text": [
            "[1] 3\n",
            "[1] 2\n"
          ]
        }
      ]
    },
    {
      "cell_type": "markdown",
      "source": [
        "## **Get and set names**"
      ],
      "metadata": {
        "id": "bcigyltNbzNW"
      }
    },
    {
      "cell_type": "code",
      "source": [
        "print(names(df))"
      ],
      "metadata": {
        "colab": {
          "base_uri": "https://localhost:8080/"
        },
        "id": "NtrqRUWXb2Kl",
        "outputId": "82f10701-7d82-4280-bdfb-5dd6cbd9f636"
      },
      "execution_count": 232,
      "outputs": [
        {
          "output_type": "stream",
          "name": "stdout",
          "text": [
            "[1] \"Name\"  \"Score\"\n"
          ]
        }
      ]
    },
    {
      "cell_type": "markdown",
      "source": [
        "## **Subset data**"
      ],
      "metadata": {
        "id": "ytAHPWTub4SC"
      }
    },
    {
      "cell_type": "code",
      "source": [
        "subset_df <- subset(df, Score > 85)\n",
        "print(subset_df)"
      ],
      "metadata": {
        "colab": {
          "base_uri": "https://localhost:8080/"
        },
        "id": "0Qem__H2b6oo",
        "outputId": "caa4c7a9-3874-4188-cad6-7c199d1e1c21"
      },
      "execution_count": 233,
      "outputs": [
        {
          "output_type": "stream",
          "name": "stdout",
          "text": [
            "  Name Score\n",
            "1    A    90\n",
            "3    C    88\n"
          ]
        }
      ]
    },
    {
      "cell_type": "markdown",
      "source": [
        "## **Merge data frames**"
      ],
      "metadata": {
        "id": "jakJLm61b-FI"
      }
    },
    {
      "cell_type": "code",
      "source": [
        "df2 <- data.frame(Name=c(\"A\", \"B\"), Age=c(20, 21))\n",
        "merged_df <- merge(df, df2, by=\"Name\")\n",
        "print(merged_df)\n"
      ],
      "metadata": {
        "colab": {
          "base_uri": "https://localhost:8080/"
        },
        "id": "aqEP2AcXcBQ1",
        "outputId": "26b0e2df-576c-4357-ce13-815520602755"
      },
      "execution_count": 234,
      "outputs": [
        {
          "output_type": "stream",
          "name": "stdout",
          "text": [
            "  Name Score Age\n",
            "1    A    90  20\n",
            "2    B    85  21\n"
          ]
        }
      ]
    },
    {
      "cell_type": "markdown",
      "source": [
        "## **Apply functions**"
      ],
      "metadata": {
        "id": "o6V--egccDoV"
      }
    },
    {
      "cell_type": "code",
      "source": [
        "print(apply(mat, 1, sum))"
      ],
      "metadata": {
        "colab": {
          "base_uri": "https://localhost:8080/"
        },
        "id": "P-Fu8GBocHc1",
        "outputId": "682af689-689c-4e9c-f8d6-e3ac35ba0e56"
      },
      "execution_count": 235,
      "outputs": [
        {
          "output_type": "stream",
          "name": "stdout",
          "text": [
            "[1] 12 15 18\n"
          ]
        }
      ]
    },
    {
      "cell_type": "markdown",
      "source": [
        "## **Aggregation**"
      ],
      "metadata": {
        "id": "R2z0q-y_cJ8F"
      }
    },
    {
      "cell_type": "code",
      "source": [
        "print(aggregate(Score ~ Name, data=df, FUN=mean))\n"
      ],
      "metadata": {
        "colab": {
          "base_uri": "https://localhost:8080/"
        },
        "id": "4WJhIc72cMTH",
        "outputId": "d14205ca-bdb7-46be-95de-eac39bc6f65c"
      },
      "execution_count": 236,
      "outputs": [
        {
          "output_type": "stream",
          "name": "stdout",
          "text": [
            "  Name Score\n",
            "1    A    90\n",
            "2    B    85\n",
            "3    C    88\n"
          ]
        }
      ]
    },
    {
      "cell_type": "markdown",
      "source": [
        "## **Conditional execution**"
      ],
      "metadata": {
        "id": "arE834x1cOVn"
      }
    },
    {
      "cell_type": "code",
      "source": [
        "x <- 10\n",
        "if (x > 5) print(\"Greater than 5\") else print(\"Not greater\")\n"
      ],
      "metadata": {
        "colab": {
          "base_uri": "https://localhost:8080/"
        },
        "id": "0XV9qIhscR86",
        "outputId": "165505fc-b1d9-4e0b-af97-5db70e6fc810"
      },
      "execution_count": 237,
      "outputs": [
        {
          "output_type": "stream",
          "name": "stdout",
          "text": [
            "[1] \"Greater than 5\"\n"
          ]
        }
      ]
    },
    {
      "cell_type": "markdown",
      "source": [
        "## **Loop over sequence**"
      ],
      "metadata": {
        "id": "5TUPie4gcSzX"
      }
    },
    {
      "cell_type": "code",
      "source": [
        "for (i in 1:5) {\n",
        "  print(i)\n",
        "}"
      ],
      "metadata": {
        "colab": {
          "base_uri": "https://localhost:8080/"
        },
        "id": "63O3lJ2wcVnA",
        "outputId": "278935f1-54c0-47b6-fc78-f3dae06ea448"
      },
      "execution_count": 238,
      "outputs": [
        {
          "output_type": "stream",
          "name": "stdout",
          "text": [
            "[1] 1\n",
            "[1] 2\n",
            "[1] 3\n",
            "[1] 4\n",
            "[1] 5\n"
          ]
        }
      ]
    },
    {
      "cell_type": "markdown",
      "source": [
        "## **While loop**\n"
      ],
      "metadata": {
        "id": "cnjBAOZfcZVl"
      }
    },
    {
      "cell_type": "code",
      "source": [
        "i <- 1\n",
        "while (i <= 5) {\n",
        "  print(i)\n",
        "  i <- i + 1\n",
        "}"
      ],
      "metadata": {
        "colab": {
          "base_uri": "https://localhost:8080/"
        },
        "id": "idgqCaWFcbbw",
        "outputId": "13325791-8f25-4e11-e2ee-9ba04ba1fa4e"
      },
      "execution_count": 239,
      "outputs": [
        {
          "output_type": "stream",
          "name": "stdout",
          "text": [
            "[1] 1\n",
            "[1] 2\n",
            "[1] 3\n",
            "[1] 4\n",
            "[1] 5\n"
          ]
        }
      ]
    },
    {
      "cell_type": "markdown",
      "source": [
        "## **Repeat loop with break**"
      ],
      "metadata": {
        "id": "iYu_GPjvcekP"
      }
    },
    {
      "cell_type": "code",
      "source": [
        "j <- 1\n",
        "repeat {\n",
        "  print(j)\n",
        "  if (j == 5) break\n",
        "  j <- j + 1\n",
        "}"
      ],
      "metadata": {
        "colab": {
          "base_uri": "https://localhost:8080/"
        },
        "id": "mMD9Y14FciYZ",
        "outputId": "f27bc59d-1065-478b-f2b4-e8cc7b07caa9"
      },
      "execution_count": 240,
      "outputs": [
        {
          "output_type": "stream",
          "name": "stdout",
          "text": [
            "[1] 1\n",
            "[1] 2\n",
            "[1] 3\n",
            "[1] 4\n",
            "[1] 5\n"
          ]
        }
      ]
    },
    {
      "cell_type": "markdown",
      "source": [
        "## **Define and call function**"
      ],
      "metadata": {
        "id": "APMqrM5fck7X"
      }
    },
    {
      "cell_type": "code",
      "source": [
        "add_nums <- function(a, b) {\n",
        "  return(a + b)\n",
        "}\n",
        "print(add_nums(5, 10))\n"
      ],
      "metadata": {
        "colab": {
          "base_uri": "https://localhost:8080/"
        },
        "id": "9pbfALOLco7r",
        "outputId": "a4b20ca1-4000-4a18-daed-4df0f79127f7"
      },
      "execution_count": 241,
      "outputs": [
        {
          "output_type": "stream",
          "name": "stdout",
          "text": [
            "[1] 15\n"
          ]
        }
      ]
    },
    {
      "cell_type": "markdown",
      "source": [
        "## **Get and set working directory**"
      ],
      "metadata": {
        "id": "p_DTBEhhcr1X"
      }
    },
    {
      "cell_type": "code",
      "source": [
        "print(getwd())  # Print the current working directory"
      ],
      "metadata": {
        "colab": {
          "base_uri": "https://localhost:8080/"
        },
        "id": "1QiZLWI9cxNe",
        "outputId": "d975d32d-379a-41a7-9efa-17ff5f8e48fc"
      },
      "execution_count": 242,
      "outputs": [
        {
          "output_type": "stream",
          "name": "stdout",
          "text": [
            "[1] \"/home/user/R_programming\"\n"
          ]
        }
      ]
    },
    {
      "cell_type": "markdown",
      "source": [
        "## **Correct way to change directory (ensure the path exists)**"
      ],
      "metadata": {
        "id": "L1UNIqQJczr9"
      }
    },
    {
      "cell_type": "code",
      "source": [
        "\n",
        "# Verify the directory exists and create it if necessary\n",
        "# Note: The directory might already exist, so check before creating.\n",
        "if (!dir.exists(\"/home/user/R_programming\")) {\n",
        "    dir.create(\"/home/user/R_programming\", recursive = TRUE)\n",
        "}\n",
        "\n",
        "# Change to the directory using the absolute path\n",
        "setwd(\"/home/user/R_programming\")  # Use absolute path\n",
        "\n",
        "# Verify if the working directory changed successfully\n",
        "print(getwd())"
      ],
      "metadata": {
        "colab": {
          "base_uri": "https://localhost:8080/"
        },
        "id": "ZT785o_Ac1-Y",
        "outputId": "0887b817-f8c0-4ac4-efe6-d330afb28213"
      },
      "execution_count": 243,
      "outputs": [
        {
          "output_type": "stream",
          "name": "stdout",
          "text": [
            "[1] \"/home/user/R_programming\"\n"
          ]
        }
      ]
    },
    {
      "cell_type": "markdown",
      "source": [
        "## **Verify if the working directory changed successfully**"
      ],
      "metadata": {
        "id": "LLMY3Xbqc5G8"
      }
    },
    {
      "cell_type": "code",
      "source": [
        "print(getwd())"
      ],
      "metadata": {
        "colab": {
          "base_uri": "https://localhost:8080/"
        },
        "id": "uPW9wAKcc7Ni",
        "outputId": "4a28d6ec-c75b-48c0-fb36-069432abca67"
      },
      "execution_count": 244,
      "outputs": [
        {
          "output_type": "stream",
          "name": "stdout",
          "text": [
            "[1] \"/home/user/R_programming\"\n"
          ]
        }
      ]
    },
    {
      "cell_type": "markdown",
      "source": [
        "## **List files in the working directory**"
      ],
      "metadata": {
        "id": "XKi35sOyc96A"
      }
    },
    {
      "cell_type": "code",
      "source": [
        "print(list.files())\n"
      ],
      "metadata": {
        "colab": {
          "base_uri": "https://localhost:8080/"
        },
        "id": "GAKXNIeldA6S",
        "outputId": "1b670797-96b6-42e0-ac75-85308e817d61"
      },
      "execution_count": 245,
      "outputs": [
        {
          "output_type": "stream",
          "name": "stdout",
          "text": [
            "[1] \"data.rds\"   \"output.csv\"\n"
          ]
        }
      ]
    },
    {
      "cell_type": "markdown",
      "source": [
        "## **Check if the data file exists before reading**"
      ],
      "metadata": {
        "id": "oZVDCh_2dCYh"
      }
    },
    {
      "cell_type": "code",
      "source": [
        "if (file.exists(\"data.csv\")) {\n",
        "  df <- read.csv(\"data.csv\")  # Read CSV file\n",
        "  print(head(df))  # Display first few rows of the data\n",
        "} else {\n",
        "  print(\"Error: data.csv not found in the working directory.\")\n",
        "}\n"
      ],
      "metadata": {
        "colab": {
          "base_uri": "https://localhost:8080/"
        },
        "id": "Q7bKpYn-dHOe",
        "outputId": "2fb225fa-20b1-48e0-c3bd-c5d0f970483a"
      },
      "execution_count": 246,
      "outputs": [
        {
          "output_type": "stream",
          "name": "stdout",
          "text": [
            "[1] \"Error: data.csv not found in the working directory.\"\n"
          ]
        }
      ]
    },
    {
      "cell_type": "markdown",
      "source": [
        "## **Write data to a CSV file safely**"
      ],
      "metadata": {
        "id": "ZwcMzccCdJNs"
      }
    },
    {
      "cell_type": "code",
      "source": [
        "df_sample <- data.frame(Name=c(\"Alice\", \"Bob\", \"Charlie\"), Score=c(90, 85, 88))\n",
        "write.csv(df_sample, \"output.csv\", row.names=FALSE)  # Avoid writing row numbers\n"
      ],
      "metadata": {
        "id": "2n47ZqyydMdr"
      },
      "execution_count": 247,
      "outputs": []
    },
    {
      "cell_type": "markdown",
      "source": [
        "## **Check if the RDS file exists before reading**"
      ],
      "metadata": {
        "id": "Xkq8zuhYdOWv"
      }
    },
    {
      "cell_type": "code",
      "source": [
        "if (file.exists(\"data.rds\")) {\n",
        "  df_loaded <- readRDS(\"data.rds\")  # Read R object\n",
        "  print(df_loaded)\n",
        "} else {\n",
        "  print(\"Error: data.rds not found. Saving new RDS file.\")\n",
        "  saveRDS(df_sample, \"data.rds\")  # Save data as RDS for future use\n",
        "}\n"
      ],
      "metadata": {
        "colab": {
          "base_uri": "https://localhost:8080/"
        },
        "id": "XnVDWp9mdRQS",
        "outputId": "ddc4862d-9fa3-4056-b116-6b341f00423c"
      },
      "execution_count": 248,
      "outputs": [
        {
          "output_type": "stream",
          "name": "stdout",
          "text": [
            "     Name Score\n",
            "1   Alice    90\n",
            "2     Bob    85\n",
            "3 Charlie    88\n"
          ]
        }
      ]
    },
    {
      "cell_type": "markdown",
      "source": [],
      "metadata": {
        "id": "_ClPvXhGdXWN"
      }
    },
    {
      "cell_type": "markdown",
      "source": [
        "## **Grades**"
      ],
      "metadata": {
        "id": "hEY1I01ndV6v"
      }
    },
    {
      "cell_type": "code",
      "source": [
        "grades <- factor(c(\"A\", \"B\", \"A\", \"C\"))\n",
        "print(levels(grades))"
      ],
      "metadata": {
        "colab": {
          "base_uri": "https://localhost:8080/"
        },
        "id": "DwVaznTPdeKj",
        "outputId": "8f03c43a-c6bc-4beb-db0b-ff4d430c2dcd"
      },
      "execution_count": 249,
      "outputs": [
        {
          "output_type": "stream",
          "name": "stdout",
          "text": [
            "[1] \"A\" \"B\" \"C\"\n"
          ]
        }
      ]
    },
    {
      "cell_type": "markdown",
      "source": [
        "## **Reorder levels**"
      ],
      "metadata": {
        "id": "F1T-JkGRdgKH"
      }
    },
    {
      "cell_type": "code",
      "source": [
        "relevel(grades, ref=\"B\")"
      ],
      "metadata": {
        "colab": {
          "base_uri": "https://localhost:8080/",
          "height": 52
        },
        "id": "tNeItEKkdkQJ",
        "outputId": "cdb3eef7-413b-4270-e939-9a2a814fe596"
      },
      "execution_count": 250,
      "outputs": [
        {
          "output_type": "display_data",
          "data": {
            "text/html": [
              "<style>\n",
              ".list-inline {list-style: none; margin:0; padding: 0}\n",
              ".list-inline>li {display: inline-block}\n",
              ".list-inline>li:not(:last-child)::after {content: \"\\00b7\"; padding: 0 .5ex}\n",
              "</style>\n",
              "<ol class=list-inline><li>A</li><li>B</li><li>A</li><li>C</li></ol>\n",
              "\n",
              "<details>\n",
              "\t<summary style=display:list-item;cursor:pointer>\n",
              "\t\t<strong>Levels</strong>:\n",
              "\t</summary>\n",
              "\t<style>\n",
              "\t.list-inline {list-style: none; margin:0; padding: 0}\n",
              "\t.list-inline>li {display: inline-block}\n",
              "\t.list-inline>li:not(:last-child)::after {content: \"\\00b7\"; padding: 0 .5ex}\n",
              "\t</style>\n",
              "\t<ol class=list-inline><li>'B'</li><li>'A'</li><li>'C'</li></ol>\n",
              "</details>"
            ],
            "text/markdown": "1. A\n2. B\n3. A\n4. C\n\n\n\n**Levels**: 1. 'B'\n2. 'A'\n3. 'C'\n\n\n",
            "text/latex": "\\begin{enumerate*}\n\\item A\n\\item B\n\\item A\n\\item C\n\\end{enumerate*}\n\n\\emph{Levels}: \\begin{enumerate*}\n\\item 'B'\n\\item 'A'\n\\item 'C'\n\\end{enumerate*}\n",
            "text/plain": [
              "[1] A B A C\n",
              "Levels: B A C"
            ]
          },
          "metadata": {}
        }
      ]
    },
    {
      "cell_type": "markdown",
      "source": [
        "## Convert numeric to factor"
      ],
      "metadata": {
        "id": "Nwk4FhJIdnWt"
      }
    },
    {
      "cell_type": "code",
      "source": [
        "grouped <- cut(c(10, 20, 30), breaks=3)\n",
        "print(grouped)\n"
      ],
      "metadata": {
        "colab": {
          "base_uri": "https://localhost:8080/"
        },
        "id": "DBLO6gXHdsaB",
        "outputId": "c209a9be-12aa-4aea-b2f5-f9b169f06cc2"
      },
      "execution_count": 251,
      "outputs": [
        {
          "output_type": "stream",
          "name": "stdout",
          "text": [
            "[1] (9.98,16.7] (16.7,23.3] (23.3,30]  \n",
            "Levels: (9.98,16.7] (16.7,23.3] (23.3,30]\n"
          ]
        }
      ]
    },
    {
      "cell_type": "markdown",
      "source": [
        "## **Convert to date**"
      ],
      "metadata": {
        "id": "piwXNJFtdr6q"
      }
    },
    {
      "cell_type": "code",
      "source": [
        "date1 <- as.Date(\"2025-02-05\")\n",
        "print(date1)"
      ],
      "metadata": {
        "colab": {
          "base_uri": "https://localhost:8080/"
        },
        "id": "rJwFs5zYdxaY",
        "outputId": "e03fe88d-0f32-4d2a-9cc7-1a534543039a"
      },
      "execution_count": 252,
      "outputs": [
        {
          "output_type": "stream",
          "name": "stdout",
          "text": [
            "[1] \"2025-02-05\"\n"
          ]
        }
      ]
    },
    {
      "cell_type": "markdown",
      "source": [
        "## **Convert to POSIX format**"
      ],
      "metadata": {
        "id": "vUF8CJlkdzNE"
      }
    },
    {
      "cell_type": "code",
      "source": [
        "datetime <- as.POSIXct(\"2025-02-05 10:30:00\")\n",
        "print(datetime)"
      ],
      "metadata": {
        "colab": {
          "base_uri": "https://localhost:8080/"
        },
        "id": "MeuGLDVBd1BV",
        "outputId": "f5a6ffdd-9bad-4f44-acff-2cf723ed7a66"
      },
      "execution_count": 253,
      "outputs": [
        {
          "output_type": "stream",
          "name": "stdout",
          "text": [
            "[1] \"2025-02-05 10:30:00 UTC\"\n"
          ]
        }
      ]
    },
    {
      "cell_type": "markdown",
      "source": [
        "## **Compute time difference**"
      ],
      "metadata": {
        "id": "QIL4B5Yed3ou"
      }
    },
    {
      "cell_type": "code",
      "source": [
        "diff <- difftime(Sys.Date(), as.Date(\"2025-01-01\"), units=\"days\")\n",
        "print(diff)"
      ],
      "metadata": {
        "colab": {
          "base_uri": "https://localhost:8080/"
        },
        "id": "tyAFeoRud5ab",
        "outputId": "4625c52a-e400-45f8-a440-d8f5cb67a8a3"
      },
      "execution_count": 254,
      "outputs": [
        {
          "output_type": "stream",
          "name": "stdout",
          "text": [
            "Time difference of 86 days\n"
          ]
        }
      ]
    },
    {
      "cell_type": "markdown",
      "source": [
        "## **Format date**"
      ],
      "metadata": {
        "id": "wfLd7YArd7pe"
      }
    },
    {
      "cell_type": "code",
      "source": [
        "print(format(Sys.Date(), \"%d-%b-%Y\"))"
      ],
      "metadata": {
        "colab": {
          "base_uri": "https://localhost:8080/"
        },
        "id": "9jl9pZmxd9Yg",
        "outputId": "d6aac39e-65dc-4c33-f638-96955441580a"
      },
      "execution_count": 255,
      "outputs": [
        {
          "output_type": "stream",
          "name": "stdout",
          "text": [
            "[1] \"28-Mar-2025\"\n"
          ]
        }
      ]
    },
    {
      "cell_type": "markdown",
      "source": [
        "## **List objects**\n"
      ],
      "metadata": {
        "id": "kd_iIEuIeAhz"
      }
    },
    {
      "cell_type": "code",
      "source": [
        "print(ls())"
      ],
      "metadata": {
        "colab": {
          "base_uri": "https://localhost:8080/"
        },
        "id": "YnuhXYsJeC_s",
        "outputId": "ac3736f1-a9ae-4af6-bde1-ba1e6e976785"
      },
      "execution_count": 256,
      "outputs": [
        {
          "output_type": "stream",
          "name": "stdout",
          "text": [
            " [1] \"add_nums\"      \"arr\"           \"clean_v\"       \"date_val\"     \n",
            " [5] \"date1\"         \"datetime\"      \"df\"            \"df_loaded\"    \n",
            " [9] \"df_sample\"     \"df2\"           \"diff\"          \"exists\"       \n",
            "[13] \"factors\"       \"grades\"        \"grouped\"       \"i\"            \n",
            "[17] \"idx\"           \"idx_condition\" \"j\"             \"lst\"          \n",
            "[21] \"mat\"           \"mat1\"          \"match_idx\"     \"matches\"      \n",
            "[25] \"merged_df\"     \"nums\"          \"rep1\"          \"replaced_v\"   \n",
            "[29] \"rev_v\"         \"seq1\"          \"sorted_v\"      \"splitted\"     \n",
            "[33] \"str_concat\"    \"subset_df\"     \"unique_v\"      \"v\"            \n",
            "[37] \"v_with_na\"     \"x\"             \"y\"            \n"
          ]
        }
      ]
    },
    {
      "cell_type": "markdown",
      "source": [
        "## **Remove object**"
      ],
      "metadata": {
        "id": "odAgr5FPeEIF"
      }
    },
    {
      "cell_type": "code",
      "source": [
        "rm(x)"
      ],
      "metadata": {
        "id": "jP2xm8xfeItk"
      },
      "execution_count": 257,
      "outputs": []
    },
    {
      "cell_type": "markdown",
      "source": [
        "## **Garbage collection**"
      ],
      "metadata": {
        "id": "vbnX7Cn2eLhx"
      }
    },
    {
      "cell_type": "code",
      "source": [
        "gc()"
      ],
      "metadata": {
        "colab": {
          "base_uri": "https://localhost:8080/",
          "height": 129
        },
        "id": "zs3htk1UeOD6",
        "outputId": "94ed8bb9-9d33-4673-a383-0fef5a885a0c"
      },
      "execution_count": 258,
      "outputs": [
        {
          "output_type": "display_data",
          "data": {
            "text/html": [
              "<table class=\"dataframe\">\n",
              "<caption>A matrix: 2 × 6 of type dbl</caption>\n",
              "<thead>\n",
              "\t<tr><th></th><th scope=col>used</th><th scope=col>(Mb)</th><th scope=col>gc trigger</th><th scope=col>(Mb)</th><th scope=col>max used</th><th scope=col>(Mb)</th></tr>\n",
              "</thead>\n",
              "<tbody>\n",
              "\t<tr><th scope=row>Ncells</th><td> 693323</td><td>37.1</td><td>1439690</td><td>76.9</td><td>1439690</td><td>76.9</td></tr>\n",
              "\t<tr><th scope=row>Vcells</th><td>1308806</td><td>10.0</td><td>8388608</td><td>64.0</td><td>2205768</td><td>16.9</td></tr>\n",
              "</tbody>\n",
              "</table>\n"
            ],
            "text/markdown": "\nA matrix: 2 × 6 of type dbl\n\n| <!--/--> | used | (Mb) | gc trigger | (Mb) | max used | (Mb) |\n|---|---|---|---|---|---|---|\n| Ncells |  693323 | 37.1 | 1439690 | 76.9 | 1439690 | 76.9 |\n| Vcells | 1308806 | 10.0 | 8388608 | 64.0 | 2205768 | 16.9 |\n\n",
            "text/latex": "A matrix: 2 × 6 of type dbl\n\\begin{tabular}{r|llllll}\n  & used & (Mb) & gc trigger & (Mb) & max used & (Mb)\\\\\n\\hline\n\tNcells &  693323 & 37.1 & 1439690 & 76.9 & 1439690 & 76.9\\\\\n\tVcells & 1308806 & 10.0 & 8388608 & 64.0 & 2205768 & 16.9\\\\\n\\end{tabular}\n",
            "text/plain": [
              "       used    (Mb) gc trigger (Mb) max used (Mb)\n",
              "Ncells  693323 37.1 1439690    76.9 1439690  76.9\n",
              "Vcells 1308806 10.0 8388608    64.0 2205768  16.9"
            ]
          },
          "metadata": {}
        }
      ]
    },
    {
      "cell_type": "markdown",
      "source": [
        "## **Debugging**"
      ],
      "metadata": {
        "id": "Umsrl3FteQiA"
      }
    },
    {
      "cell_type": "code",
      "source": [
        "debug(add_nums)\n",
        "print(add_nums(5, 10))\n",
        "undebug(add_nums)\n"
      ],
      "metadata": {
        "colab": {
          "base_uri": "https://localhost:8080/"
        },
        "id": "tM5gwDVQeSWk",
        "outputId": "17fb4d0c-7a7f-46f4-b88d-6ef3c448e393"
      },
      "execution_count": 259,
      "outputs": [
        {
          "output_type": "stream",
          "name": "stdout",
          "text": [
            "debugging in: add_nums(5, 10)\n",
            "debug: {\n",
            "    return(a + b)\n",
            "}\n",
            "debug: return(a + b)\n",
            "exiting from: add_nums(5, 10)\n",
            "[1] 15\n"
          ]
        }
      ]
    },
    {
      "cell_type": "markdown",
      "source": [
        "## **Print output**"
      ],
      "metadata": {
        "id": "62wIVFBDeUdC"
      }
    },
    {
      "cell_type": "code",
      "source": [
        "print(\"Hello, World!\")\n",
        "cat(\"Hello, World!\\n\")"
      ],
      "metadata": {
        "colab": {
          "base_uri": "https://localhost:8080/"
        },
        "id": "B7ghir04eXVg",
        "outputId": "8e8fc714-c8c6-458d-9047-f4b08a68d8d6"
      },
      "execution_count": 260,
      "outputs": [
        {
          "output_type": "stream",
          "name": "stdout",
          "text": [
            "[1] \"Hello, World!\"\n",
            "Hello, World!\n"
          ]
        }
      ]
    }
  ]
}