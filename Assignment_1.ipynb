{
  "nbformat": 4,
  "nbformat_minor": 0,
  "metadata": {
    "colab": {
      "provenance": [],
      "authorship_tag": "ABX9TyOy1X3esMgTKrH0IiKLluOr",
      "include_colab_link": true
    },
    "kernelspec": {
      "name": "ir",
      "display_name": "R"
    },
    "language_info": {
      "name": "R"
    }
  },
  "cells": [
    {
      "cell_type": "markdown",
      "metadata": {
        "id": "view-in-github",
        "colab_type": "text"
      },
      "source": [
        "<a href=\"https://colab.research.google.com/github/R1ng1/MDSC-201-Statistical-Methods-Using-R/blob/main/Assignment_1.ipynb\" target=\"_parent\"><img src=\"https://colab.research.google.com/assets/colab-badge.svg\" alt=\"Open In Colab\"/></a>"
      ]
    },
    {
      "cell_type": "markdown",
      "source": [
        "# **R Basics**"
      ],
      "metadata": {
        "id": "0-a5u4JwN8rQ"
      }
    },
    {
      "cell_type": "markdown",
      "source": [
        "##**1. Vectors**"
      ],
      "metadata": {
        "id": "DGTe8kL7OKid"
      }
    },
    {
      "cell_type": "code",
      "execution_count": 1,
      "metadata": {
        "colab": {
          "base_uri": "https://localhost:8080/"
        },
        "id": "C-jL_DVTN6Gx",
        "outputId": "e1b2f12e-ac57-4403-b3ef-c2a5ea378c1e"
      },
      "outputs": [
        {
          "output_type": "stream",
          "name": "stdout",
          "text": [
            "[1]  5 15 25 35 45\n",
            "[1] 5\n",
            "[1] \"numeric\"\n"
          ]
        }
      ],
      "source": [
        "v <- c(5, 15, 25, 35, 45)\n",
        "print(v)\n",
        "print(length(v))\n",
        "print(class(v))\n"
      ]
    },
    {
      "cell_type": "markdown",
      "source": [
        "## **2. Lists**"
      ],
      "metadata": {
        "id": "HZKfCfIOOXFv"
      }
    },
    {
      "cell_type": "code",
      "source": [
        "\n",
        "my_list <- list(\"Data Science\", 42.42, FALSE, c(\"A\", \"B\", \"C\"))\n",
        "print(my_list)\n",
        "print(my_list[[3]])  # Accesses the third element."
      ],
      "metadata": {
        "colab": {
          "base_uri": "https://localhost:8080/"
        },
        "id": "P6ZPBTSyOUgU",
        "outputId": "52eed7ab-0dfb-4a8a-ef37-fa6b85cfa9ec"
      },
      "execution_count": 3,
      "outputs": [
        {
          "output_type": "stream",
          "name": "stdout",
          "text": [
            "[[1]]\n",
            "[1] \"Data Science\"\n",
            "\n",
            "[[2]]\n",
            "[1] 42.42\n",
            "\n",
            "[[3]]\n",
            "[1] FALSE\n",
            "\n",
            "[[4]]\n",
            "[1] \"A\" \"B\" \"C\"\n",
            "\n",
            "[1] FALSE\n"
          ]
        }
      ]
    },
    {
      "cell_type": "markdown",
      "source": [
        "## **3. Matrices**"
      ],
      "metadata": {
        "id": "tMNauOY5OeSW"
      }
    },
    {
      "cell_type": "code",
      "source": [
        "matrix_1 <- matrix(10:18, nrow = 3, ncol = 3)\n",
        "print(matrix_1)\n",
        "print(matrix_1[3, 1])  # Access element in the 3rd row, 1st column.\n"
      ],
      "metadata": {
        "colab": {
          "base_uri": "https://localhost:8080/"
        },
        "id": "9PLVei3pOZ4r",
        "outputId": "bfd361ea-6fd6-4aae-e085-3d08d65a8850"
      },
      "execution_count": 2,
      "outputs": [
        {
          "output_type": "stream",
          "name": "stdout",
          "text": [
            "     [,1] [,2] [,3]\n",
            "[1,]   10   13   16\n",
            "[2,]   11   14   17\n",
            "[3,]   12   15   18\n",
            "[1] 12\n"
          ]
        }
      ]
    },
    {
      "cell_type": "markdown",
      "source": [
        "##**4. Arrays**"
      ],
      "metadata": {
        "id": "mumdwJZVOkuY"
      }
    },
    {
      "cell_type": "code",
      "source": [
        "array_1 <- array(1:18, dim = c(3, 3, 2))\n",
        "print(array_1)\n",
        "print(array_1[2, 3, 2])  # Access element at 2nd row, 3rd column, 2nd matrix."
      ],
      "metadata": {
        "colab": {
          "base_uri": "https://localhost:8080/"
        },
        "id": "DaGBN4oVOuKW",
        "outputId": "5fc542ce-8499-461c-f144-bfc413873fc1"
      },
      "execution_count": 4,
      "outputs": [
        {
          "output_type": "stream",
          "name": "stdout",
          "text": [
            ", , 1\n",
            "\n",
            "     [,1] [,2] [,3]\n",
            "[1,]    1    4    7\n",
            "[2,]    2    5    8\n",
            "[3,]    3    6    9\n",
            "\n",
            ", , 2\n",
            "\n",
            "     [,1] [,2] [,3]\n",
            "[1,]   10   13   16\n",
            "[2,]   11   14   17\n",
            "[3,]   12   15   18\n",
            "\n",
            "[1] 17\n"
          ]
        }
      ]
    },
    {
      "cell_type": "markdown",
      "source": [
        "## **5. Factors**"
      ],
      "metadata": {
        "id": "V9bKO_zeOwpB"
      }
    },
    {
      "cell_type": "code",
      "source": [
        "factor_1 <- factor(c(\"High\", \"Low\", \"High\", \"Medium\", \"Low\"))\n",
        "print(factor_1)\n",
        "print(levels(factor_1))\n"
      ],
      "metadata": {
        "colab": {
          "base_uri": "https://localhost:8080/"
        },
        "id": "P7RWTrRMOzj6",
        "outputId": "80f2f359-1c2a-4ed9-8367-2a4a038d27b7"
      },
      "execution_count": 5,
      "outputs": [
        {
          "output_type": "stream",
          "name": "stdout",
          "text": [
            "[1] High   Low    High   Medium Low   \n",
            "Levels: High Low Medium\n",
            "[1] \"High\"   \"Low\"    \"Medium\"\n"
          ]
        }
      ]
    },
    {
      "cell_type": "markdown",
      "source": [
        "##**6. Data Frames**"
      ],
      "metadata": {
        "id": "SEHVsNMYO3GK"
      }
    },
    {
      "cell_type": "code",
      "source": [
        "df <- data.frame(Name = c(\"David\", \"Eve\", \"Frank\"),\n",
        "                 Age = c(22, 28, 34),\n",
        "                 Marks = c(78, 85, 92))\n",
        "print(df)\n",
        "print(df$Marks)"
      ],
      "metadata": {
        "colab": {
          "base_uri": "https://localhost:8080/"
        },
        "id": "tr92DnqHPGQK",
        "outputId": "8a6443b1-512f-4219-8c1b-61a9310104c0"
      },
      "execution_count": 6,
      "outputs": [
        {
          "output_type": "stream",
          "name": "stdout",
          "text": [
            "   Name Age Marks\n",
            "1 David  22    78\n",
            "2   Eve  28    85\n",
            "3 Frank  34    92\n",
            "[1] 78 85 92\n"
          ]
        }
      ]
    },
    {
      "cell_type": "markdown",
      "source": [
        "##**7. ls Function**"
      ],
      "metadata": {
        "id": "BH7V2I9SPIaS"
      }
    },
    {
      "cell_type": "code",
      "source": [
        "var1 <- \"Hello\"\n",
        "var2 <- 123\n",
        "my_var <- TRUE\n",
        "print(ls(pattern = \"var\"))"
      ],
      "metadata": {
        "colab": {
          "base_uri": "https://localhost:8080/"
        },
        "id": "0GeorjLEPNAz",
        "outputId": "6ec6bcc0-d698-45d7-8ab2-f804e1ab7041"
      },
      "execution_count": 7,
      "outputs": [
        {
          "output_type": "stream",
          "name": "stdout",
          "text": [
            "[1] \"my_var\" \"var1\"   \"var2\"  \n"
          ]
        }
      ]
    },
    {
      "cell_type": "markdown",
      "source": [
        "## **8. Assigning Variable**"
      ],
      "metadata": {
        "id": "6Z4UXPRjPPLD"
      }
    },
    {
      "cell_type": "code",
      "source": [
        "a <- 25\n",
        "b = \"Welcome\"\n",
        "TRUE -> c\n",
        "print(a)\n",
        "print(b)\n",
        "print(c)\n",
        "cat(\"a is\", a, \"\\n\")\n",
        "cat(\"b is\", b, \"\\n\")\n",
        "cat(\"c is\", c, \"\\n\")\n"
      ],
      "metadata": {
        "colab": {
          "base_uri": "https://localhost:8080/"
        },
        "id": "j0oA5W-hPUpE",
        "outputId": "87ba9003-3be4-4605-dfd9-998b61e30124"
      },
      "execution_count": 8,
      "outputs": [
        {
          "output_type": "stream",
          "name": "stdout",
          "text": [
            "[1] 25\n",
            "[1] \"Welcome\"\n",
            "[1] TRUE\n",
            "a is 25 \n",
            "b is Welcome \n",
            "c is TRUE \n"
          ]
        }
      ]
    },
    {
      "cell_type": "markdown",
      "source": [
        "## **9. Finding Variables**"
      ],
      "metadata": {
        "id": "K5ymlTZePXcJ"
      }
    },
    {
      "cell_type": "code",
      "source": [
        "varA <- c(4, 5, 6)\n",
        "varB <- \"Statistics\"\n",
        "example_var <- 50\n",
        "print(ls())\n",
        "print(ls(pattern = \"var\"))"
      ],
      "metadata": {
        "colab": {
          "base_uri": "https://localhost:8080/"
        },
        "id": "O6cyhSVqPapL",
        "outputId": "a9e9cbdf-fd31-4ceb-ad21-6d519cda79d9"
      },
      "execution_count": 10,
      "outputs": [
        {
          "output_type": "stream",
          "name": "stdout",
          "text": [
            " [1] \"a\"           \"array_1\"     \"b\"           \"c\"           \"df\"         \n",
            " [6] \"example_var\" \"factor_1\"    \"matrix_1\"    \"my_list\"     \"my_var\"     \n",
            "[11] \"v\"           \"var1\"        \"var2\"        \"varA\"        \"varB\"       \n",
            "[1] \"example_var\" \"my_var\"      \"var1\"        \"var2\"        \"varA\"       \n",
            "[6] \"varB\"       \n"
          ]
        }
      ]
    },
    {
      "cell_type": "markdown",
      "source": [
        "## **10. Deleting Variables**"
      ],
      "metadata": {
        "id": "fG4XSUj-Pe6c"
      }
    },
    {
      "cell_type": "code",
      "source": [
        "a <- 100\n",
        "b <- 200\n",
        "c <- 300\n",
        "print(\"Variables before deletion:\")\n",
        "print(ls())\n",
        "rm(b)\n",
        "print(\"Variables after deleting 'b':\")\n",
        "print(ls())\n",
        "rm(list = ls())\n",
        "print(\"Variables after deleting all:\")\n",
        "print(ls())\n"
      ],
      "metadata": {
        "colab": {
          "base_uri": "https://localhost:8080/"
        },
        "id": "8EMnXs0lPi0w",
        "outputId": "29cea392-3582-4778-d683-e20ef6b8120d"
      },
      "execution_count": 11,
      "outputs": [
        {
          "output_type": "stream",
          "name": "stdout",
          "text": [
            "[1] \"Variables before deletion:\"\n",
            " [1] \"a\"           \"array_1\"     \"b\"           \"c\"           \"df\"         \n",
            " [6] \"example_var\" \"factor_1\"    \"matrix_1\"    \"my_list\"     \"my_var\"     \n",
            "[11] \"v\"           \"var1\"        \"var2\"        \"varA\"        \"varB\"       \n",
            "[1] \"Variables after deleting 'b':\"\n",
            " [1] \"a\"           \"array_1\"     \"c\"           \"df\"          \"example_var\"\n",
            " [6] \"factor_1\"    \"matrix_1\"    \"my_list\"     \"my_var\"      \"v\"          \n",
            "[11] \"var1\"        \"var2\"        \"varA\"        \"varB\"       \n",
            "[1] \"Variables after deleting all:\"\n",
            "character(0)\n"
          ]
        }
      ]
    },
    {
      "cell_type": "markdown",
      "source": [
        "## **11. Adding Two Vectors**"
      ],
      "metadata": {
        "id": "0d6Wuar9PlHt"
      }
    },
    {
      "cell_type": "code",
      "source": [
        "vec1 <- c(10, 20, 30)\n",
        "vec2 <- c(1, 2, 3)\n",
        "result <- vec1 + vec2\n",
        "print(result)\n"
      ],
      "metadata": {
        "colab": {
          "base_uri": "https://localhost:8080/"
        },
        "id": "tVe9AWbXPoX_",
        "outputId": "055abc60-88d5-4148-d2c7-7aa2485a9890"
      },
      "execution_count": 12,
      "outputs": [
        {
          "output_type": "stream",
          "name": "stdout",
          "text": [
            "[1] 11 22 33\n"
          ]
        }
      ]
    },
    {
      "cell_type": "markdown",
      "source": [
        "##**12. Subtracting Two Vectors**"
      ],
      "metadata": {
        "id": "A_pcP30wPqa1"
      }
    },
    {
      "cell_type": "code",
      "source": [
        "vec1 <- c(50, 60, 70)\n",
        "vec2 <- c(10, 20, 30)\n",
        "result <- vec1 - vec2\n",
        "print(result)"
      ],
      "metadata": {
        "colab": {
          "base_uri": "https://localhost:8080/"
        },
        "id": "cuIrZTblPuVc",
        "outputId": "b5893de5-a29e-477d-dcb3-7eed9f2a1f89"
      },
      "execution_count": 13,
      "outputs": [
        {
          "output_type": "stream",
          "name": "stdout",
          "text": [
            "[1] 40 40 40\n"
          ]
        }
      ]
    },
    {
      "cell_type": "markdown",
      "source": [
        "##**13. Division of Vectors**"
      ],
      "metadata": {
        "id": "FHEvpVaEPwL2"
      }
    },
    {
      "cell_type": "code",
      "source": [
        "vec1 <- c(100, 200, 300)\n",
        "vec2 <- c(2, 4, 5)\n",
        "result <- vec1 / vec2\n",
        "print(result)"
      ],
      "metadata": {
        "colab": {
          "base_uri": "https://localhost:8080/"
        },
        "id": "Qv-rF6KvP1cI",
        "outputId": "11edebfd-6223-4383-83b9-e8ffd794f5e9"
      },
      "execution_count": 14,
      "outputs": [
        {
          "output_type": "stream",
          "name": "stdout",
          "text": [
            "[1] 50 50 60\n"
          ]
        }
      ]
    },
    {
      "cell_type": "markdown",
      "source": [
        "##**14. Colon Operator**"
      ],
      "metadata": {
        "id": "AcptKL0IP4IP"
      }
    },
    {
      "cell_type": "code",
      "source": [
        "sequence <- 20:30\n",
        "print(sequence)\n"
      ],
      "metadata": {
        "colab": {
          "base_uri": "https://localhost:8080/"
        },
        "id": "d4NABrU3P6w_",
        "outputId": "2e8bf68c-9dcc-416d-e37d-c06830eebf60"
      },
      "execution_count": 15,
      "outputs": [
        {
          "output_type": "stream",
          "name": "stdout",
          "text": [
            " [1] 20 21 22 23 24 25 26 27 28 29 30\n"
          ]
        }
      ]
    },
    {
      "cell_type": "markdown",
      "source": [
        "##**15. %in% Operator**"
      ],
      "metadata": {
        "id": "0k9YSI_vP8mN"
      }
    },
    {
      "cell_type": "code",
      "source": [
        "vec <- c(\"cat\", \"dog\", \"rabbit\")\n",
        "print(\"dog\" %in% vec)\n",
        "print(\"lion\" %in% vec)"
      ],
      "metadata": {
        "colab": {
          "base_uri": "https://localhost:8080/"
        },
        "id": "UONqOVB5QASx",
        "outputId": "a9f15e41-e032-4acb-aec6-a22c295d03f2"
      },
      "execution_count": 16,
      "outputs": [
        {
          "output_type": "stream",
          "name": "stdout",
          "text": [
            "[1] TRUE\n",
            "[1] FALSE\n"
          ]
        }
      ]
    },
    {
      "cell_type": "markdown",
      "source": [
        "##**16. Matrix Multiplication**"
      ],
      "metadata": {
        "id": "ds4HxyCuQCQb"
      }
    },
    {
      "cell_type": "code",
      "source": [
        "matrix1 <- matrix(2:7, nrow = 2, ncol = 3)\n",
        "transpose <- t(matrix1)\n",
        "result <- matrix1 %*% transpose\n",
        "print(result)\n"
      ],
      "metadata": {
        "colab": {
          "base_uri": "https://localhost:8080/"
        },
        "id": "kiFQSXTJQFzi",
        "outputId": "e6c98abd-283f-4feb-ded8-9d7c695cc1e3"
      },
      "execution_count": 17,
      "outputs": [
        {
          "output_type": "stream",
          "name": "stdout",
          "text": [
            "     [,1] [,2]\n",
            "[1,]   56   68\n",
            "[2,]   68   83\n"
          ]
        }
      ]
    },
    {
      "cell_type": "markdown",
      "source": [
        "##**17. if Statement**"
      ],
      "metadata": {
        "id": "UoFDy2aiQIjH"
      }
    },
    {
      "cell_type": "code",
      "source": [
        "y <- 8\n",
        "if (y < 10) {\n",
        "  print(\"y is less than 10\")\n",
        "}"
      ],
      "metadata": {
        "colab": {
          "base_uri": "https://localhost:8080/"
        },
        "id": "vnjp_KeKQLak",
        "outputId": "9ed4644b-730f-489d-fc60-b1d7117bcab3"
      },
      "execution_count": 18,
      "outputs": [
        {
          "output_type": "stream",
          "name": "stdout",
          "text": [
            "[1] \"y is less than 10\"\n"
          ]
        }
      ]
    },
    {
      "cell_type": "markdown",
      "source": [
        "##**18. if...else if...else Statement**"
      ],
      "metadata": {
        "id": "hAhk0hFdQOBX"
      }
    },
    {
      "cell_type": "code",
      "source": [
        "z <- 20\n",
        "if (z < 15) {\n",
        "  print(\"z is less than 15\")\n",
        "} else if (z == 20) {\n",
        "  print(\"z is equal to 20\")\n",
        "} else {\n",
        "  print(\"z is greater than 20\")\n",
        "}\n"
      ],
      "metadata": {
        "colab": {
          "base_uri": "https://localhost:8080/"
        },
        "id": "SmLdX7SZQVSG",
        "outputId": "71e47af1-abe0-4bc8-e63c-c43f3e414238"
      },
      "execution_count": 19,
      "outputs": [
        {
          "output_type": "stream",
          "name": "stdout",
          "text": [
            "[1] \"z is equal to 20\"\n"
          ]
        }
      ]
    },
    {
      "cell_type": "markdown",
      "source": [
        "#19. While Loop"
      ],
      "metadata": {
        "id": "6ACM4FcsQSCV"
      }
    },
    {
      "cell_type": "code",
      "source": [
        "x <- 2\n",
        "while (x <= 8) {\n",
        "  print(x)\n",
        "  x <- x + 2\n",
        "}\n"
      ],
      "metadata": {
        "colab": {
          "base_uri": "https://localhost:8080/"
        },
        "id": "_jIbDxH6QXuv",
        "outputId": "e2fa7be1-58f6-4327-e7ca-c9ef38554d10"
      },
      "execution_count": 20,
      "outputs": [
        {
          "output_type": "stream",
          "name": "stdout",
          "text": [
            "[1] 2\n",
            "[1] 4\n",
            "[1] 6\n",
            "[1] 8\n"
          ]
        }
      ]
    },
    {
      "cell_type": "markdown",
      "source": [
        "##**20. Repeat Loop**"
      ],
      "metadata": {
        "id": "4KKpo-h8QaI2"
      }
    },
    {
      "cell_type": "code",
      "source": [
        "x <- 1\n",
        "repeat {\n",
        "  print(x)\n",
        "  x <- x + 1\n",
        "  if (x > 4) {\n",
        "    break\n",
        "  }\n",
        "}"
      ],
      "metadata": {
        "colab": {
          "base_uri": "https://localhost:8080/"
        },
        "id": "HvDvESZkQdyX",
        "outputId": "9ee4451a-5f30-4cc3-a80a-d80c869a589e"
      },
      "execution_count": 21,
      "outputs": [
        {
          "output_type": "stream",
          "name": "stdout",
          "text": [
            "[1] 1\n",
            "[1] 2\n",
            "[1] 3\n",
            "[1] 4\n"
          ]
        }
      ]
    },
    {
      "cell_type": "markdown",
      "source": [
        "##**21. For Loop**"
      ],
      "metadata": {
        "id": "7DJWRG_SQdWU"
      }
    },
    {
      "cell_type": "code",
      "source": [
        "for (i in 6:10) {\n",
        "  print(i)\n",
        "}\n"
      ],
      "metadata": {
        "colab": {
          "base_uri": "https://localhost:8080/"
        },
        "id": "WyfvblGKQjqO",
        "outputId": "b06adca0-1486-4034-9367-c23c5610955f"
      },
      "execution_count": 22,
      "outputs": [
        {
          "output_type": "stream",
          "name": "stdout",
          "text": [
            "[1] 6\n",
            "[1] 7\n",
            "[1] 8\n",
            "[1] 9\n",
            "[1] 10\n"
          ]
        }
      ]
    },
    {
      "cell_type": "markdown",
      "source": [
        "##**22. Break Statement**"
      ],
      "metadata": {
        "id": "ocjVCPsZQkvS"
      }
    },
    {
      "cell_type": "code",
      "source": [
        "for (i in 1:8) {\n",
        "  if (i == 5) {\n",
        "    break\n",
        "  }\n",
        "  print(i)\n",
        "}"
      ],
      "metadata": {
        "colab": {
          "base_uri": "https://localhost:8080/"
        },
        "id": "nRfwGdVmQnTy",
        "outputId": "88e44e18-b340-4535-ac7f-84b53b7f43ab"
      },
      "execution_count": 23,
      "outputs": [
        {
          "output_type": "stream",
          "name": "stdout",
          "text": [
            "[1] 1\n",
            "[1] 2\n",
            "[1] 3\n",
            "[1] 4\n"
          ]
        }
      ]
    },
    {
      "cell_type": "markdown",
      "source": [
        "##**23. Next Statement**"
      ],
      "metadata": {
        "id": "MkyxRYGqQqGD"
      }
    },
    {
      "cell_type": "code",
      "source": [
        "for (i in 1:5) {\n",
        "  if (i == 2) {\n",
        "    next\n",
        "  }\n",
        "  print(i)\n",
        "}"
      ],
      "metadata": {
        "colab": {
          "base_uri": "https://localhost:8080/"
        },
        "id": "NkF4ziJ0Qvfa",
        "outputId": "ba22b06f-00d3-4a7d-a9f1-070858722772"
      },
      "execution_count": 24,
      "outputs": [
        {
          "output_type": "stream",
          "name": "stdout",
          "text": [
            "[1] 1\n",
            "[1] 3\n",
            "[1] 4\n",
            "[1] 5\n"
          ]
        }
      ]
    }
  ]
}